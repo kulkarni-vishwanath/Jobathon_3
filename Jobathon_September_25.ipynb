{
 "cells": [
  {
   "cell_type": "code",
   "execution_count": 151,
   "metadata": {},
   "outputs": [],
   "source": [
    "# IMPORTING NECESSARY LIBRARIES.\n",
    "import pandas as pd\n",
    "import numpy as np\n",
    "import matplotlib.pyplot as plt\n",
    "%matplotlib inline\n",
    "import seaborn as sns\n",
    "from sklearn.model_selection import RandomizedSearchCV,StratifiedKFold,train_test_split\n",
    "from sklearn.preprocessing import LabelEncoder\n",
    "import lightgbm as lgb\n",
    "import xgboost as xgb\n",
    "from xgboost import plot_importance\n",
    "import warnings\n",
    "warnings.simplefilter(action='ignore', category=FutureWarning)\n",
    "import time\n",
    "from sklearn.metrics import mean_squared_log_error\n",
    "pd.set_option('display.max_rows', 500)"
   ]
  },
  {
   "cell_type": "code",
   "execution_count": 152,
   "metadata": {},
   "outputs": [],
   "source": [
    "# IMPORTING DATA\n",
    "train = pd.read_csv(r\"C:\\Users\\kulka\\Desktop\\AV_Hackathon_Codes\\Jobathon_Sep\\Data\\TRAIN (1).csv\",parse_dates=['Date'])\n",
    "test  = pd.read_csv(r\"C:\\Users\\kulka\\Desktop\\AV_Hackathon_Codes\\Jobathon_Sep\\Data\\TEST_FINAL.csv\",parse_dates=['Date'])"
   ]
  },
  {
   "cell_type": "code",
   "execution_count": 153,
   "metadata": {},
   "outputs": [],
   "source": [
    "# SUBMISSION FILE\n",
    "Submission = test[['ID']]"
   ]
  },
  {
   "cell_type": "code",
   "execution_count": 154,
   "metadata": {},
   "outputs": [
    {
     "name": "stdout",
     "output_type": "stream",
     "text": [
      "<class 'pandas.core.frame.DataFrame'>\n",
      "RangeIndex: 188340 entries, 0 to 188339\n",
      "Data columns (total 10 columns):\n",
      " #   Column         Non-Null Count   Dtype         \n",
      "---  ------         --------------   -----         \n",
      " 0   ID             188340 non-null  object        \n",
      " 1   Store_id       188340 non-null  int64         \n",
      " 2   Store_Type     188340 non-null  object        \n",
      " 3   Location_Type  188340 non-null  object        \n",
      " 4   Region_Code    188340 non-null  object        \n",
      " 5   Date           188340 non-null  datetime64[ns]\n",
      " 6   Holiday        188340 non-null  int64         \n",
      " 7   Discount       188340 non-null  object        \n",
      " 8   #Order         188340 non-null  int64         \n",
      " 9   Sales          188340 non-null  float64       \n",
      "dtypes: datetime64[ns](1), float64(1), int64(3), object(5)\n",
      "memory usage: 14.4+ MB\n"
     ]
    }
   ],
   "source": [
    "# BASIC INFORMATION ABOUT THE TWO DATASETS\n",
    "train.info()"
   ]
  },
  {
   "cell_type": "code",
   "execution_count": 155,
   "metadata": {},
   "outputs": [
    {
     "name": "stdout",
     "output_type": "stream",
     "text": [
      "<class 'pandas.core.frame.DataFrame'>\n",
      "RangeIndex: 22265 entries, 0 to 22264\n",
      "Data columns (total 8 columns):\n",
      " #   Column         Non-Null Count  Dtype         \n",
      "---  ------         --------------  -----         \n",
      " 0   ID             22265 non-null  object        \n",
      " 1   Store_id       22265 non-null  int64         \n",
      " 2   Store_Type     22265 non-null  object        \n",
      " 3   Location_Type  22265 non-null  object        \n",
      " 4   Region_Code    22265 non-null  object        \n",
      " 5   Date           22265 non-null  datetime64[ns]\n",
      " 6   Holiday        22265 non-null  int64         \n",
      " 7   Discount       22265 non-null  object        \n",
      "dtypes: datetime64[ns](1), int64(2), object(5)\n",
      "memory usage: 1.4+ MB\n"
     ]
    }
   ],
   "source": [
    "test.info()"
   ]
  },
  {
   "cell_type": "markdown",
   "metadata": {},
   "source": [
    "Few Observations about the two datasets,\n",
    "\n",
    "1. No missing values in either train or test datasets.\n",
    "2. Date column in both dataframes is of datetime data type.\n",
    "3. #Order column from the training dataset is missing from the testing dataset because we will not know the number of orders we get in the future.\n",
    "4. 5 columns are of object data type, 3 are integer types, 1 float and 1 datetime data type.\n",
    "5. Sales is the dependent variable. \n",
    "6. Train Dataset is from 1st Jan 2018 to 31st May 2019 (1.5 Years of data).\n",
    "7. Test dataset is from 1st June 2019 to 31st July 2019 (2 months of data)."
   ]
  },
  {
   "cell_type": "code",
   "execution_count": 156,
   "metadata": {},
   "outputs": [
    {
     "data": {
      "text/html": [
       "<div>\n",
       "<style scoped>\n",
       "    .dataframe tbody tr th:only-of-type {\n",
       "        vertical-align: middle;\n",
       "    }\n",
       "\n",
       "    .dataframe tbody tr th {\n",
       "        vertical-align: top;\n",
       "    }\n",
       "\n",
       "    .dataframe thead th {\n",
       "        text-align: right;\n",
       "    }\n",
       "</style>\n",
       "<table border=\"1\" class=\"dataframe\">\n",
       "  <thead>\n",
       "    <tr style=\"text-align: right;\">\n",
       "      <th></th>\n",
       "      <th>ID</th>\n",
       "      <th>Store_id</th>\n",
       "      <th>Store_Type</th>\n",
       "      <th>Location_Type</th>\n",
       "      <th>Region_Code</th>\n",
       "      <th>Date</th>\n",
       "      <th>Holiday</th>\n",
       "      <th>Discount</th>\n",
       "      <th>#Order</th>\n",
       "      <th>Sales</th>\n",
       "    </tr>\n",
       "  </thead>\n",
       "  <tbody>\n",
       "    <tr>\n",
       "      <th>0</th>\n",
       "      <td>T1000001</td>\n",
       "      <td>1</td>\n",
       "      <td>S1</td>\n",
       "      <td>L3</td>\n",
       "      <td>R1</td>\n",
       "      <td>2018-01-01</td>\n",
       "      <td>1</td>\n",
       "      <td>Yes</td>\n",
       "      <td>9</td>\n",
       "      <td>7011.84</td>\n",
       "    </tr>\n",
       "    <tr>\n",
       "      <th>1</th>\n",
       "      <td>T1000002</td>\n",
       "      <td>253</td>\n",
       "      <td>S4</td>\n",
       "      <td>L2</td>\n",
       "      <td>R1</td>\n",
       "      <td>2018-01-01</td>\n",
       "      <td>1</td>\n",
       "      <td>Yes</td>\n",
       "      <td>60</td>\n",
       "      <td>51789.12</td>\n",
       "    </tr>\n",
       "    <tr>\n",
       "      <th>2</th>\n",
       "      <td>T1000003</td>\n",
       "      <td>252</td>\n",
       "      <td>S3</td>\n",
       "      <td>L2</td>\n",
       "      <td>R1</td>\n",
       "      <td>2018-01-01</td>\n",
       "      <td>1</td>\n",
       "      <td>Yes</td>\n",
       "      <td>42</td>\n",
       "      <td>36868.20</td>\n",
       "    </tr>\n",
       "    <tr>\n",
       "      <th>3</th>\n",
       "      <td>T1000004</td>\n",
       "      <td>251</td>\n",
       "      <td>S2</td>\n",
       "      <td>L3</td>\n",
       "      <td>R1</td>\n",
       "      <td>2018-01-01</td>\n",
       "      <td>1</td>\n",
       "      <td>Yes</td>\n",
       "      <td>23</td>\n",
       "      <td>19715.16</td>\n",
       "    </tr>\n",
       "    <tr>\n",
       "      <th>4</th>\n",
       "      <td>T1000005</td>\n",
       "      <td>250</td>\n",
       "      <td>S2</td>\n",
       "      <td>L3</td>\n",
       "      <td>R4</td>\n",
       "      <td>2018-01-01</td>\n",
       "      <td>1</td>\n",
       "      <td>Yes</td>\n",
       "      <td>62</td>\n",
       "      <td>45614.52</td>\n",
       "    </tr>\n",
       "  </tbody>\n",
       "</table>\n",
       "</div>"
      ],
      "text/plain": [
       "         ID  Store_id Store_Type Location_Type Region_Code       Date  \\\n",
       "0  T1000001         1         S1            L3          R1 2018-01-01   \n",
       "1  T1000002       253         S4            L2          R1 2018-01-01   \n",
       "2  T1000003       252         S3            L2          R1 2018-01-01   \n",
       "3  T1000004       251         S2            L3          R1 2018-01-01   \n",
       "4  T1000005       250         S2            L3          R4 2018-01-01   \n",
       "\n",
       "   Holiday Discount  #Order     Sales  \n",
       "0        1      Yes       9   7011.84  \n",
       "1        1      Yes      60  51789.12  \n",
       "2        1      Yes      42  36868.20  \n",
       "3        1      Yes      23  19715.16  \n",
       "4        1      Yes      62  45614.52  "
      ]
     },
     "execution_count": 156,
     "metadata": {},
     "output_type": "execute_result"
    }
   ],
   "source": [
    "# CHECKING THE TOP AND BOTTOM 5 ROWS OF TRAIN DATASET.\n",
    "train.head()"
   ]
  },
  {
   "cell_type": "code",
   "execution_count": 157,
   "metadata": {},
   "outputs": [
    {
     "data": {
      "text/html": [
       "<div>\n",
       "<style scoped>\n",
       "    .dataframe tbody tr th:only-of-type {\n",
       "        vertical-align: middle;\n",
       "    }\n",
       "\n",
       "    .dataframe tbody tr th {\n",
       "        vertical-align: top;\n",
       "    }\n",
       "\n",
       "    .dataframe thead th {\n",
       "        text-align: right;\n",
       "    }\n",
       "</style>\n",
       "<table border=\"1\" class=\"dataframe\">\n",
       "  <thead>\n",
       "    <tr style=\"text-align: right;\">\n",
       "      <th></th>\n",
       "      <th>ID</th>\n",
       "      <th>Store_id</th>\n",
       "      <th>Store_Type</th>\n",
       "      <th>Location_Type</th>\n",
       "      <th>Region_Code</th>\n",
       "      <th>Date</th>\n",
       "      <th>Holiday</th>\n",
       "      <th>Discount</th>\n",
       "      <th>#Order</th>\n",
       "      <th>Sales</th>\n",
       "    </tr>\n",
       "  </thead>\n",
       "  <tbody>\n",
       "    <tr>\n",
       "      <th>188335</th>\n",
       "      <td>T1188336</td>\n",
       "      <td>149</td>\n",
       "      <td>S2</td>\n",
       "      <td>L3</td>\n",
       "      <td>R2</td>\n",
       "      <td>2019-05-31</td>\n",
       "      <td>1</td>\n",
       "      <td>Yes</td>\n",
       "      <td>51</td>\n",
       "      <td>37272.00</td>\n",
       "    </tr>\n",
       "    <tr>\n",
       "      <th>188336</th>\n",
       "      <td>T1188337</td>\n",
       "      <td>153</td>\n",
       "      <td>S4</td>\n",
       "      <td>L2</td>\n",
       "      <td>R1</td>\n",
       "      <td>2019-05-31</td>\n",
       "      <td>1</td>\n",
       "      <td>No</td>\n",
       "      <td>90</td>\n",
       "      <td>54572.64</td>\n",
       "    </tr>\n",
       "    <tr>\n",
       "      <th>188337</th>\n",
       "      <td>T1188338</td>\n",
       "      <td>154</td>\n",
       "      <td>S1</td>\n",
       "      <td>L3</td>\n",
       "      <td>R2</td>\n",
       "      <td>2019-05-31</td>\n",
       "      <td>1</td>\n",
       "      <td>No</td>\n",
       "      <td>56</td>\n",
       "      <td>31624.56</td>\n",
       "    </tr>\n",
       "    <tr>\n",
       "      <th>188338</th>\n",
       "      <td>T1188339</td>\n",
       "      <td>155</td>\n",
       "      <td>S3</td>\n",
       "      <td>L1</td>\n",
       "      <td>R2</td>\n",
       "      <td>2019-05-31</td>\n",
       "      <td>1</td>\n",
       "      <td>Yes</td>\n",
       "      <td>70</td>\n",
       "      <td>49162.41</td>\n",
       "    </tr>\n",
       "    <tr>\n",
       "      <th>188339</th>\n",
       "      <td>T1188340</td>\n",
       "      <td>152</td>\n",
       "      <td>S2</td>\n",
       "      <td>L1</td>\n",
       "      <td>R1</td>\n",
       "      <td>2019-05-31</td>\n",
       "      <td>1</td>\n",
       "      <td>No</td>\n",
       "      <td>47</td>\n",
       "      <td>37977.00</td>\n",
       "    </tr>\n",
       "  </tbody>\n",
       "</table>\n",
       "</div>"
      ],
      "text/plain": [
       "              ID  Store_id Store_Type Location_Type Region_Code       Date  \\\n",
       "188335  T1188336       149         S2            L3          R2 2019-05-31   \n",
       "188336  T1188337       153         S4            L2          R1 2019-05-31   \n",
       "188337  T1188338       154         S1            L3          R2 2019-05-31   \n",
       "188338  T1188339       155         S3            L1          R2 2019-05-31   \n",
       "188339  T1188340       152         S2            L1          R1 2019-05-31   \n",
       "\n",
       "        Holiday Discount  #Order     Sales  \n",
       "188335        1      Yes      51  37272.00  \n",
       "188336        1       No      90  54572.64  \n",
       "188337        1       No      56  31624.56  \n",
       "188338        1      Yes      70  49162.41  \n",
       "188339        1       No      47  37977.00  "
      ]
     },
     "execution_count": 157,
     "metadata": {},
     "output_type": "execute_result"
    }
   ],
   "source": [
    "train.tail()"
   ]
  },
  {
   "cell_type": "code",
   "execution_count": 158,
   "metadata": {},
   "outputs": [
    {
     "data": {
      "text/html": [
       "<div>\n",
       "<style scoped>\n",
       "    .dataframe tbody tr th:only-of-type {\n",
       "        vertical-align: middle;\n",
       "    }\n",
       "\n",
       "    .dataframe tbody tr th {\n",
       "        vertical-align: top;\n",
       "    }\n",
       "\n",
       "    .dataframe thead th {\n",
       "        text-align: right;\n",
       "    }\n",
       "</style>\n",
       "<table border=\"1\" class=\"dataframe\">\n",
       "  <thead>\n",
       "    <tr style=\"text-align: right;\">\n",
       "      <th></th>\n",
       "      <th>ID</th>\n",
       "      <th>Store_id</th>\n",
       "      <th>Store_Type</th>\n",
       "      <th>Location_Type</th>\n",
       "      <th>Region_Code</th>\n",
       "      <th>Date</th>\n",
       "      <th>Holiday</th>\n",
       "      <th>Discount</th>\n",
       "    </tr>\n",
       "  </thead>\n",
       "  <tbody>\n",
       "    <tr>\n",
       "      <th>0</th>\n",
       "      <td>T1188341</td>\n",
       "      <td>171</td>\n",
       "      <td>S4</td>\n",
       "      <td>L2</td>\n",
       "      <td>R3</td>\n",
       "      <td>2019-06-01</td>\n",
       "      <td>0</td>\n",
       "      <td>No</td>\n",
       "    </tr>\n",
       "    <tr>\n",
       "      <th>1</th>\n",
       "      <td>T1188342</td>\n",
       "      <td>172</td>\n",
       "      <td>S1</td>\n",
       "      <td>L1</td>\n",
       "      <td>R1</td>\n",
       "      <td>2019-06-01</td>\n",
       "      <td>0</td>\n",
       "      <td>No</td>\n",
       "    </tr>\n",
       "    <tr>\n",
       "      <th>2</th>\n",
       "      <td>T1188343</td>\n",
       "      <td>173</td>\n",
       "      <td>S4</td>\n",
       "      <td>L2</td>\n",
       "      <td>R1</td>\n",
       "      <td>2019-06-01</td>\n",
       "      <td>0</td>\n",
       "      <td>No</td>\n",
       "    </tr>\n",
       "    <tr>\n",
       "      <th>3</th>\n",
       "      <td>T1188344</td>\n",
       "      <td>174</td>\n",
       "      <td>S1</td>\n",
       "      <td>L1</td>\n",
       "      <td>R4</td>\n",
       "      <td>2019-06-01</td>\n",
       "      <td>0</td>\n",
       "      <td>No</td>\n",
       "    </tr>\n",
       "    <tr>\n",
       "      <th>4</th>\n",
       "      <td>T1188345</td>\n",
       "      <td>170</td>\n",
       "      <td>S1</td>\n",
       "      <td>L1</td>\n",
       "      <td>R2</td>\n",
       "      <td>2019-06-01</td>\n",
       "      <td>0</td>\n",
       "      <td>No</td>\n",
       "    </tr>\n",
       "  </tbody>\n",
       "</table>\n",
       "</div>"
      ],
      "text/plain": [
       "         ID  Store_id Store_Type Location_Type Region_Code       Date  \\\n",
       "0  T1188341       171         S4            L2          R3 2019-06-01   \n",
       "1  T1188342       172         S1            L1          R1 2019-06-01   \n",
       "2  T1188343       173         S4            L2          R1 2019-06-01   \n",
       "3  T1188344       174         S1            L1          R4 2019-06-01   \n",
       "4  T1188345       170         S1            L1          R2 2019-06-01   \n",
       "\n",
       "   Holiday Discount  \n",
       "0        0       No  \n",
       "1        0       No  \n",
       "2        0       No  \n",
       "3        0       No  \n",
       "4        0       No  "
      ]
     },
     "execution_count": 158,
     "metadata": {},
     "output_type": "execute_result"
    }
   ],
   "source": [
    "# CHECKING THE TOP AND BOTTOM 5 ROWS OF TEST DATASET.\n",
    "test.head()"
   ]
  },
  {
   "cell_type": "code",
   "execution_count": 159,
   "metadata": {},
   "outputs": [
    {
     "data": {
      "text/html": [
       "<div>\n",
       "<style scoped>\n",
       "    .dataframe tbody tr th:only-of-type {\n",
       "        vertical-align: middle;\n",
       "    }\n",
       "\n",
       "    .dataframe tbody tr th {\n",
       "        vertical-align: top;\n",
       "    }\n",
       "\n",
       "    .dataframe thead th {\n",
       "        text-align: right;\n",
       "    }\n",
       "</style>\n",
       "<table border=\"1\" class=\"dataframe\">\n",
       "  <thead>\n",
       "    <tr style=\"text-align: right;\">\n",
       "      <th></th>\n",
       "      <th>ID</th>\n",
       "      <th>Store_id</th>\n",
       "      <th>Store_Type</th>\n",
       "      <th>Location_Type</th>\n",
       "      <th>Region_Code</th>\n",
       "      <th>Date</th>\n",
       "      <th>Holiday</th>\n",
       "      <th>Discount</th>\n",
       "    </tr>\n",
       "  </thead>\n",
       "  <tbody>\n",
       "    <tr>\n",
       "      <th>22260</th>\n",
       "      <td>T1210601</td>\n",
       "      <td>186</td>\n",
       "      <td>S2</td>\n",
       "      <td>L5</td>\n",
       "      <td>R2</td>\n",
       "      <td>2019-07-31</td>\n",
       "      <td>0</td>\n",
       "      <td>No</td>\n",
       "    </tr>\n",
       "    <tr>\n",
       "      <th>22261</th>\n",
       "      <td>T1210602</td>\n",
       "      <td>11</td>\n",
       "      <td>S4</td>\n",
       "      <td>L2</td>\n",
       "      <td>R1</td>\n",
       "      <td>2019-07-31</td>\n",
       "      <td>0</td>\n",
       "      <td>No</td>\n",
       "    </tr>\n",
       "    <tr>\n",
       "      <th>22262</th>\n",
       "      <td>T1210603</td>\n",
       "      <td>185</td>\n",
       "      <td>S1</td>\n",
       "      <td>L1</td>\n",
       "      <td>R3</td>\n",
       "      <td>2019-07-31</td>\n",
       "      <td>0</td>\n",
       "      <td>Yes</td>\n",
       "    </tr>\n",
       "    <tr>\n",
       "      <th>22263</th>\n",
       "      <td>T1210604</td>\n",
       "      <td>69</td>\n",
       "      <td>S1</td>\n",
       "      <td>L1</td>\n",
       "      <td>R4</td>\n",
       "      <td>2019-07-31</td>\n",
       "      <td>0</td>\n",
       "      <td>No</td>\n",
       "    </tr>\n",
       "    <tr>\n",
       "      <th>22264</th>\n",
       "      <td>T1210605</td>\n",
       "      <td>365</td>\n",
       "      <td>S2</td>\n",
       "      <td>L1</td>\n",
       "      <td>R2</td>\n",
       "      <td>2019-07-31</td>\n",
       "      <td>0</td>\n",
       "      <td>No</td>\n",
       "    </tr>\n",
       "  </tbody>\n",
       "</table>\n",
       "</div>"
      ],
      "text/plain": [
       "             ID  Store_id Store_Type Location_Type Region_Code       Date  \\\n",
       "22260  T1210601       186         S2            L5          R2 2019-07-31   \n",
       "22261  T1210602        11         S4            L2          R1 2019-07-31   \n",
       "22262  T1210603       185         S1            L1          R3 2019-07-31   \n",
       "22263  T1210604        69         S1            L1          R4 2019-07-31   \n",
       "22264  T1210605       365         S2            L1          R2 2019-07-31   \n",
       "\n",
       "       Holiday Discount  \n",
       "22260        0       No  \n",
       "22261        0       No  \n",
       "22262        0      Yes  \n",
       "22263        0       No  \n",
       "22264        0       No  "
      ]
     },
     "execution_count": 159,
     "metadata": {},
     "output_type": "execute_result"
    }
   ],
   "source": [
    "test.tail()"
   ]
  },
  {
   "cell_type": "markdown",
   "metadata": {},
   "source": [
    "### EDA (Univariate Analysis)"
   ]
  },
  {
   "cell_type": "markdown",
   "metadata": {},
   "source": [
    "#### Store_id"
   ]
  },
  {
   "cell_type": "code",
   "execution_count": 160,
   "metadata": {},
   "outputs": [
    {
     "data": {
      "text/plain": [
       "(365, 365)"
      ]
     },
     "execution_count": 160,
     "metadata": {},
     "output_type": "execute_result"
    }
   ],
   "source": [
    "train['Store_id'].nunique(), test['Store_id'].nunique()"
   ]
  },
  {
   "cell_type": "code",
   "execution_count": 161,
   "metadata": {},
   "outputs": [
    {
     "name": "stdout",
     "output_type": "stream",
     "text": [
      "set()\n"
     ]
    }
   ],
   "source": [
    "print (set(train['Store_id'].values)-set(test['Store_id'].values))"
   ]
  },
  {
   "cell_type": "code",
   "execution_count": 162,
   "metadata": {},
   "outputs": [
    {
     "data": {
      "text/plain": [
       "1      516\n",
       "2      516\n",
       "3      516\n",
       "4      516\n",
       "5      516\n",
       "6      516\n",
       "7      516\n",
       "8      516\n",
       "9      516\n",
       "10     516\n",
       "11     516\n",
       "12     516\n",
       "13     516\n",
       "14     516\n",
       "15     516\n",
       "16     516\n",
       "17     516\n",
       "18     516\n",
       "19     516\n",
       "20     516\n",
       "21     516\n",
       "22     516\n",
       "23     516\n",
       "24     516\n",
       "25     516\n",
       "26     516\n",
       "27     516\n",
       "28     516\n",
       "29     516\n",
       "30     516\n",
       "31     516\n",
       "32     516\n",
       "33     516\n",
       "34     516\n",
       "35     516\n",
       "36     516\n",
       "37     516\n",
       "38     516\n",
       "39     516\n",
       "40     516\n",
       "41     516\n",
       "42     516\n",
       "43     516\n",
       "44     516\n",
       "45     516\n",
       "46     516\n",
       "47     516\n",
       "48     516\n",
       "49     516\n",
       "50     516\n",
       "51     516\n",
       "52     516\n",
       "53     516\n",
       "54     516\n",
       "55     516\n",
       "56     516\n",
       "57     516\n",
       "58     516\n",
       "59     516\n",
       "60     516\n",
       "61     516\n",
       "62     516\n",
       "63     516\n",
       "64     516\n",
       "65     516\n",
       "66     516\n",
       "67     516\n",
       "68     516\n",
       "69     516\n",
       "70     516\n",
       "71     516\n",
       "72     516\n",
       "73     516\n",
       "74     516\n",
       "75     516\n",
       "76     516\n",
       "77     516\n",
       "78     516\n",
       "79     516\n",
       "80     516\n",
       "81     516\n",
       "82     516\n",
       "83     516\n",
       "84     516\n",
       "85     516\n",
       "86     516\n",
       "87     516\n",
       "88     516\n",
       "89     516\n",
       "90     516\n",
       "91     516\n",
       "92     516\n",
       "93     516\n",
       "94     516\n",
       "95     516\n",
       "96     516\n",
       "97     516\n",
       "98     516\n",
       "99     516\n",
       "100    516\n",
       "101    516\n",
       "102    516\n",
       "103    516\n",
       "104    516\n",
       "105    516\n",
       "106    516\n",
       "107    516\n",
       "108    516\n",
       "109    516\n",
       "110    516\n",
       "111    516\n",
       "112    516\n",
       "113    516\n",
       "114    516\n",
       "115    516\n",
       "116    516\n",
       "117    516\n",
       "118    516\n",
       "119    516\n",
       "120    516\n",
       "121    516\n",
       "122    516\n",
       "123    516\n",
       "124    516\n",
       "125    516\n",
       "126    516\n",
       "127    516\n",
       "128    516\n",
       "129    516\n",
       "130    516\n",
       "131    516\n",
       "132    516\n",
       "133    516\n",
       "134    516\n",
       "135    516\n",
       "136    516\n",
       "137    516\n",
       "138    516\n",
       "139    516\n",
       "140    516\n",
       "141    516\n",
       "142    516\n",
       "143    516\n",
       "144    516\n",
       "145    516\n",
       "146    516\n",
       "147    516\n",
       "148    516\n",
       "149    516\n",
       "150    516\n",
       "151    516\n",
       "152    516\n",
       "153    516\n",
       "154    516\n",
       "155    516\n",
       "156    516\n",
       "157    516\n",
       "158    516\n",
       "159    516\n",
       "160    516\n",
       "161    516\n",
       "162    516\n",
       "163    516\n",
       "164    516\n",
       "165    516\n",
       "166    516\n",
       "167    516\n",
       "168    516\n",
       "169    516\n",
       "170    516\n",
       "171    516\n",
       "172    516\n",
       "173    516\n",
       "174    516\n",
       "175    516\n",
       "176    516\n",
       "177    516\n",
       "178    516\n",
       "179    516\n",
       "180    516\n",
       "181    516\n",
       "182    516\n",
       "183    516\n",
       "184    516\n",
       "185    516\n",
       "186    516\n",
       "187    516\n",
       "188    516\n",
       "189    516\n",
       "190    516\n",
       "191    516\n",
       "192    516\n",
       "193    516\n",
       "194    516\n",
       "195    516\n",
       "196    516\n",
       "197    516\n",
       "198    516\n",
       "199    516\n",
       "200    516\n",
       "201    516\n",
       "202    516\n",
       "203    516\n",
       "204    516\n",
       "205    516\n",
       "206    516\n",
       "207    516\n",
       "208    516\n",
       "209    516\n",
       "210    516\n",
       "211    516\n",
       "212    516\n",
       "213    516\n",
       "214    516\n",
       "215    516\n",
       "216    516\n",
       "217    516\n",
       "218    516\n",
       "219    516\n",
       "220    516\n",
       "221    516\n",
       "222    516\n",
       "223    516\n",
       "224    516\n",
       "225    516\n",
       "226    516\n",
       "227    516\n",
       "228    516\n",
       "229    516\n",
       "230    516\n",
       "231    516\n",
       "232    516\n",
       "233    516\n",
       "234    516\n",
       "235    516\n",
       "236    516\n",
       "237    516\n",
       "238    516\n",
       "239    516\n",
       "240    516\n",
       "241    516\n",
       "242    516\n",
       "243    516\n",
       "244    516\n",
       "245    516\n",
       "246    516\n",
       "247    516\n",
       "248    516\n",
       "249    516\n",
       "250    516\n",
       "251    516\n",
       "252    516\n",
       "253    516\n",
       "254    516\n",
       "255    516\n",
       "256    516\n",
       "257    516\n",
       "258    516\n",
       "259    516\n",
       "260    516\n",
       "261    516\n",
       "262    516\n",
       "263    516\n",
       "264    516\n",
       "265    516\n",
       "266    516\n",
       "267    516\n",
       "268    516\n",
       "269    516\n",
       "270    516\n",
       "271    516\n",
       "272    516\n",
       "273    516\n",
       "274    516\n",
       "275    516\n",
       "276    516\n",
       "277    516\n",
       "278    516\n",
       "279    516\n",
       "280    516\n",
       "281    516\n",
       "282    516\n",
       "283    516\n",
       "284    516\n",
       "285    516\n",
       "286    516\n",
       "287    516\n",
       "288    516\n",
       "289    516\n",
       "290    516\n",
       "291    516\n",
       "292    516\n",
       "293    516\n",
       "294    516\n",
       "295    516\n",
       "296    516\n",
       "297    516\n",
       "298    516\n",
       "299    516\n",
       "300    516\n",
       "301    516\n",
       "302    516\n",
       "303    516\n",
       "304    516\n",
       "305    516\n",
       "306    516\n",
       "307    516\n",
       "308    516\n",
       "309    516\n",
       "310    516\n",
       "311    516\n",
       "312    516\n",
       "313    516\n",
       "314    516\n",
       "315    516\n",
       "316    516\n",
       "317    516\n",
       "318    516\n",
       "319    516\n",
       "320    516\n",
       "321    516\n",
       "322    516\n",
       "323    516\n",
       "324    516\n",
       "325    516\n",
       "326    516\n",
       "327    516\n",
       "328    516\n",
       "329    516\n",
       "330    516\n",
       "331    516\n",
       "332    516\n",
       "333    516\n",
       "334    516\n",
       "335    516\n",
       "336    516\n",
       "337    516\n",
       "338    516\n",
       "339    516\n",
       "340    516\n",
       "341    516\n",
       "342    516\n",
       "343    516\n",
       "344    516\n",
       "345    516\n",
       "346    516\n",
       "347    516\n",
       "348    516\n",
       "349    516\n",
       "350    516\n",
       "351    516\n",
       "352    516\n",
       "353    516\n",
       "354    516\n",
       "355    516\n",
       "356    516\n",
       "357    516\n",
       "358    516\n",
       "359    516\n",
       "360    516\n",
       "361    516\n",
       "362    516\n",
       "363    516\n",
       "364    516\n",
       "365    516\n",
       "Name: Store_id, dtype: int64"
      ]
     },
     "execution_count": 162,
     "metadata": {},
     "output_type": "execute_result"
    }
   ],
   "source": [
    "train['Store_id'].value_counts(dropna=False).sort_index()"
   ]
  },
  {
   "cell_type": "markdown",
   "metadata": {},
   "source": [
    "1. There are 365 unique store id's as stated in the problem statement.\n",
    "2. All 365 Store_id values present in Training Data are also present in the testing dataset.\n",
    "3. Each store occurs 516 times in the training dataset (which is expected as the data is for 1.5 years)."
   ]
  },
  {
   "cell_type": "markdown",
   "metadata": {},
   "source": [
    "#### Store_Type"
   ]
  },
  {
   "cell_type": "code",
   "execution_count": 163,
   "metadata": {},
   "outputs": [
    {
     "data": {
      "text/plain": [
       "(4, 4)"
      ]
     },
     "execution_count": 163,
     "metadata": {},
     "output_type": "execute_result"
    }
   ],
   "source": [
    "train['Store_Type'].nunique(), test['Store_Type'].nunique()"
   ]
  },
  {
   "cell_type": "code",
   "execution_count": 164,
   "metadata": {},
   "outputs": [
    {
     "name": "stdout",
     "output_type": "stream",
     "text": [
      "set()\n"
     ]
    }
   ],
   "source": [
    "print (set(train['Store_Type'].values)-set(test['Store_Type'].values))"
   ]
  },
  {
   "cell_type": "code",
   "execution_count": 165,
   "metadata": {},
   "outputs": [
    {
     "data": {
      "image/png": "[encoded data removed]",
      "text/plain": [
       "<Figure size 432x288 with 1 Axes>"
      ]
     },
     "metadata": {
      "needs_background": "light"
     },
     "output_type": "display_data"
    }
   ],
   "source": [
    "train['Store_Type'].value_counts(dropna=False).plot(kind='bar');\n",
    "plt.title(\"Count Of Store Types In Training Data\");\n",
    "plt.xlabel(\"Store_Type\");\n",
    "plt.ylabel(\"Count\");\n",
    "plt.xticks(rotation=360);"
   ]
  },
  {
   "cell_type": "code",
   "execution_count": 166,
   "metadata": {},
   "outputs": [
    {
     "data": {
      "image/png": "[encoded data removed]",
      "text/plain": [
       "<Figure size 432x288 with 1 Axes>"
      ]
     },
     "metadata": {
      "needs_background": "light"
     },
     "output_type": "display_data"
    }
   ],
   "source": [
    "test['Store_Type'].value_counts(dropna=False).plot(kind='bar');\n",
    "plt.title(\"Count Of Store Types In Testing Data\");\n",
    "plt.xlabel(\"Store_Type\");\n",
    "plt.ylabel(\"Count\");\n",
    "plt.xticks(rotation=360);"
   ]
  },
  {
   "cell_type": "markdown",
   "metadata": {},
   "source": [
    "Few observations about Store_Type variable,\n",
    "\n",
    "1. There are 4 unique types of stores. \n",
    "2. Store_Type S1 seems to be the most popular in both training and testing datasets and S3 is the least popular.\n",
    "3. All the Store_Types in training data are present in the testing dataset as well."
   ]
  },
  {
   "cell_type": "markdown",
   "metadata": {},
   "source": [
    "#### Location_Type"
   ]
  },
  {
   "cell_type": "code",
   "execution_count": 167,
   "metadata": {},
   "outputs": [
    {
     "data": {
      "text/plain": [
       "(5, 5)"
      ]
     },
     "execution_count": 167,
     "metadata": {},
     "output_type": "execute_result"
    }
   ],
   "source": [
    "train['Location_Type'].nunique(), test['Location_Type'].nunique()"
   ]
  },
  {
   "cell_type": "code",
   "execution_count": 168,
   "metadata": {},
   "outputs": [
    {
     "name": "stdout",
     "output_type": "stream",
     "text": [
      "set()\n"
     ]
    }
   ],
   "source": [
    "print (set(train['Location_Type'].values)-set(test['Location_Type'].values))"
   ]
  },
  {
   "cell_type": "code",
   "execution_count": 169,
   "metadata": {},
   "outputs": [
    {
     "data": {
      "image/png": "[encoded data removed]",
      "text/plain": [
       "<Figure size 432x288 with 1 Axes>"
      ]
     },
     "metadata": {
      "needs_background": "light"
     },
     "output_type": "display_data"
    }
   ],
   "source": [
    "train['Location_Type'].value_counts(dropna=False).plot(kind='bar');\n",
    "plt.title(\"Count Of Location Types In Training Data\");\n",
    "plt.xlabel(\"Location_Type\");\n",
    "plt.ylabel(\"Count\");\n",
    "plt.xticks(rotation=360);"
   ]
  },
  {
   "cell_type": "code",
   "execution_count": 170,
   "metadata": {},
   "outputs": [
    {
     "data": {
      "image/png": "[encoded data removed]",
      "text/plain": [
       "<Figure size 432x288 with 1 Axes>"
      ]
     },
     "metadata": {
      "needs_background": "light"
     },
     "output_type": "display_data"
    }
   ],
   "source": [
    "test['Location_Type'].value_counts(dropna=False).plot(kind='bar');\n",
    "plt.title(\"Count Of Location Types In Testing Data\");\n",
    "plt.xlabel(\"Location_Type\");\n",
    "plt.ylabel(\"Count\");\n",
    "plt.xticks(rotation=360);"
   ]
  },
  {
   "cell_type": "markdown",
   "metadata": {},
   "source": [
    "Few observations about Location_Type variable,\n",
    "\n",
    "1. There are 5 unique types of Locations. \n",
    "2. Location_Type L1 seems to be the most popular in both training and testing datasets and L4 is the least popular.\n",
    "3. All the Location_Types in training data are present in the testing dataset as well."
   ]
  },
  {
   "cell_type": "markdown",
   "metadata": {},
   "source": [
    "#### Region_Code"
   ]
  },
  {
   "cell_type": "code",
   "execution_count": 171,
   "metadata": {},
   "outputs": [
    {
     "data": {
      "text/plain": [
       "(4, 4)"
      ]
     },
     "execution_count": 171,
     "metadata": {},
     "output_type": "execute_result"
    }
   ],
   "source": [
    "train['Region_Code'].nunique(), test['Region_Code'].nunique()"
   ]
  },
  {
   "cell_type": "code",
   "execution_count": 172,
   "metadata": {},
   "outputs": [
    {
     "name": "stdout",
     "output_type": "stream",
     "text": [
      "set()\n"
     ]
    }
   ],
   "source": [
    "print (set(train['Region_Code'].values)-set(test['Region_Code'].values))"
   ]
  },
  {
   "cell_type": "code",
   "execution_count": 173,
   "metadata": {},
   "outputs": [
    {
     "data": {
      "image/png": "[encoded data removed]",
      "text/plain": [
       "<Figure size 432x288 with 1 Axes>"
      ]
     },
     "metadata": {
      "needs_background": "light"
     },
     "output_type": "display_data"
    }
   ],
   "source": [
    "train['Region_Code'].value_counts(dropna=False).plot(kind='bar');\n",
    "plt.title(\"Count Of Region Codes In Training Data\");\n",
    "plt.xlabel(\"Region_Code\");\n",
    "plt.ylabel(\"Count\");\n",
    "plt.xticks(rotation=360);"
   ]
  },
  {
   "cell_type": "code",
   "execution_count": 174,
   "metadata": {},
   "outputs": [
    {
     "data": {
      "image/png": "[encoded data removed]",
      "text/plain": [
       "<Figure size 432x288 with 1 Axes>"
      ]
     },
     "metadata": {
      "needs_background": "light"
     },
     "output_type": "display_data"
    }
   ],
   "source": [
    "test['Region_Code'].value_counts(dropna=False).plot(kind='bar');\n",
    "plt.title(\"Count Of Region Codes In Testing Data\");\n",
    "plt.xlabel(\"Region_Code\");\n",
    "plt.ylabel(\"Count\");\n",
    "plt.xticks(rotation=360);"
   ]
  },
  {
   "cell_type": "markdown",
   "metadata": {},
   "source": [
    "Few observations about Region_Code variable,\n",
    "\n",
    "1. There are 4 unique types of Regions. \n",
    "2. Region_Code R1 seems to be the most popular in both training and testing datasets and R4 is the least popular.\n",
    "3. All the Region_Codes in training data are present in the testing dataset as well."
   ]
  },
  {
   "cell_type": "markdown",
   "metadata": {},
   "source": [
    "#### Holiday"
   ]
  },
  {
   "cell_type": "code",
   "execution_count": 175,
   "metadata": {},
   "outputs": [
    {
     "data": {
      "text/plain": [
       "(68, 2)"
      ]
     },
     "execution_count": 175,
     "metadata": {},
     "output_type": "execute_result"
    }
   ],
   "source": [
    "train[train['Holiday']==1]['Date'].nunique(),test[test['Holiday']==1]['Date'].nunique()"
   ]
  },
  {
   "cell_type": "markdown",
   "metadata": {},
   "source": [
    "Train data totally has 68 holidays whereas the test data has 2 holidays."
   ]
  },
  {
   "cell_type": "markdown",
   "metadata": {},
   "source": [
    "#### Discount"
   ]
  },
  {
   "cell_type": "code",
   "execution_count": 176,
   "metadata": {},
   "outputs": [
    {
     "data": {
      "text/plain": [
       "(501, 61)"
      ]
     },
     "execution_count": 176,
     "metadata": {},
     "output_type": "execute_result"
    }
   ],
   "source": [
    "train[train['Discount']==\"Yes\"]['Date'].nunique(), test[test['Discount']==\"Yes\"]['Date'].nunique()"
   ]
  },
  {
   "cell_type": "markdown",
   "metadata": {},
   "source": [
    "There were 501 days in training data on which there was some discount provided by the store.\n",
    "\n",
    "There were 61 days in testing data on which there was some discount provided by the store."
   ]
  },
  {
   "cell_type": "markdown",
   "metadata": {},
   "source": [
    "#### Sales"
   ]
  },
  {
   "cell_type": "code",
   "execution_count": 177,
   "metadata": {},
   "outputs": [
    {
     "data": {
      "text/plain": [
       "count    188340.000000\n",
       "mean      42784.327982\n",
       "std       18456.708302\n",
       "min           0.000000\n",
       "25%       30426.000000\n",
       "50%       39678.000000\n",
       "75%       51909.000000\n",
       "max      247215.000000\n",
       "Name: Sales, dtype: float64"
      ]
     },
     "execution_count": 177,
     "metadata": {},
     "output_type": "execute_result"
    }
   ],
   "source": [
    "train['Sales'].describe()"
   ]
  },
  {
   "cell_type": "code",
   "execution_count": 178,
   "metadata": {},
   "outputs": [
    {
     "data": {
      "image/png": "[encoded data removed]",
      "text/plain": [
       "<Figure size 360x360 with 1 Axes>"
      ]
     },
     "metadata": {
      "needs_background": "light"
     },
     "output_type": "display_data"
    }
   ],
   "source": [
    "sns.displot(train['Sales'],color='green',kde=True);\n",
    "plt.title(\"Distribution Plot Of Sales Variable\");"
   ]
  },
  {
   "cell_type": "code",
   "execution_count": 179,
   "metadata": {},
   "outputs": [
    {
     "data": {
      "image/png": "[encoded data removed]",
      "text/plain": [
       "<Figure size 432x288 with 1 Axes>"
      ]
     },
     "metadata": {
      "needs_background": "light"
     },
     "output_type": "display_data"
    }
   ],
   "source": [
    "sns.boxplot(train['Sales'],color='green');\n",
    "plt.title(\"Box Plot of Sales Variable\");"
   ]
  },
  {
   "cell_type": "markdown",
   "metadata": {},
   "source": [
    "Few observations about the sales variable,\n",
    "\n",
    "1. Boxplot shows that there are some outliers, not many.\n",
    "2. The distribution plot shows that the distribution is almost normal (although we see a skew towards right), we can see it from the skewness value below.\n",
    "3. Minimum Sales value of 0 sould be explored further.\n",
    "4. As we can see below, there are 19 rows in the train data where the sales is 0. The reason may be because the store wasn't open that day, it can be seen from the 0 orders received on that particular day."
   ]
  },
  {
   "cell_type": "code",
   "execution_count": 180,
   "metadata": {},
   "outputs": [
    {
     "name": "stdout",
     "output_type": "stream",
     "text": [
      "There are 19 rows in the Training Data where the sales value is 0\n"
     ]
    }
   ],
   "source": [
    "print (f\"There are {len(train[train['Sales']==0])} rows in the Training Data where the sales value is 0\")"
   ]
  },
  {
   "cell_type": "code",
   "execution_count": 181,
   "metadata": {},
   "outputs": [
    {
     "data": {
      "text/html": [
       "<div>\n",
       "<style scoped>\n",
       "    .dataframe tbody tr th:only-of-type {\n",
       "        vertical-align: middle;\n",
       "    }\n",
       "\n",
       "    .dataframe tbody tr th {\n",
       "        vertical-align: top;\n",
       "    }\n",
       "\n",
       "    .dataframe thead th {\n",
       "        text-align: right;\n",
       "    }\n",
       "</style>\n",
       "<table border=\"1\" class=\"dataframe\">\n",
       "  <thead>\n",
       "    <tr style=\"text-align: right;\">\n",
       "      <th></th>\n",
       "      <th>ID</th>\n",
       "      <th>Store_id</th>\n",
       "      <th>Store_Type</th>\n",
       "      <th>Location_Type</th>\n",
       "      <th>Region_Code</th>\n",
       "      <th>Date</th>\n",
       "      <th>Holiday</th>\n",
       "      <th>Discount</th>\n",
       "      <th>#Order</th>\n",
       "      <th>Sales</th>\n",
       "    </tr>\n",
       "  </thead>\n",
       "  <tbody>\n",
       "    <tr>\n",
       "      <th>23867</th>\n",
       "      <td>T1023868</td>\n",
       "      <td>311</td>\n",
       "      <td>S4</td>\n",
       "      <td>L2</td>\n",
       "      <td>R2</td>\n",
       "      <td>2018-03-07</td>\n",
       "      <td>0</td>\n",
       "      <td>No</td>\n",
       "      <td>0</td>\n",
       "      <td>0.0</td>\n",
       "    </tr>\n",
       "    <tr>\n",
       "      <th>38143</th>\n",
       "      <td>T1038144</td>\n",
       "      <td>222</td>\n",
       "      <td>S4</td>\n",
       "      <td>L2</td>\n",
       "      <td>R2</td>\n",
       "      <td>2018-04-15</td>\n",
       "      <td>1</td>\n",
       "      <td>No</td>\n",
       "      <td>0</td>\n",
       "      <td>0.0</td>\n",
       "    </tr>\n",
       "    <tr>\n",
       "      <th>90458</th>\n",
       "      <td>T1090459</td>\n",
       "      <td>233</td>\n",
       "      <td>S1</td>\n",
       "      <td>L3</td>\n",
       "      <td>R3</td>\n",
       "      <td>2018-09-05</td>\n",
       "      <td>0</td>\n",
       "      <td>No</td>\n",
       "      <td>0</td>\n",
       "      <td>0.0</td>\n",
       "    </tr>\n",
       "    <tr>\n",
       "      <th>97301</th>\n",
       "      <td>T1097302</td>\n",
       "      <td>271</td>\n",
       "      <td>S1</td>\n",
       "      <td>L3</td>\n",
       "      <td>R2</td>\n",
       "      <td>2018-09-24</td>\n",
       "      <td>0</td>\n",
       "      <td>No</td>\n",
       "      <td>0</td>\n",
       "      <td>0.0</td>\n",
       "    </tr>\n",
       "    <tr>\n",
       "      <th>97480</th>\n",
       "      <td>T1097481</td>\n",
       "      <td>271</td>\n",
       "      <td>S1</td>\n",
       "      <td>L3</td>\n",
       "      <td>R2</td>\n",
       "      <td>2018-09-25</td>\n",
       "      <td>0</td>\n",
       "      <td>No</td>\n",
       "      <td>0</td>\n",
       "      <td>0.0</td>\n",
       "    </tr>\n",
       "    <tr>\n",
       "      <th>99489</th>\n",
       "      <td>T1099490</td>\n",
       "      <td>12</td>\n",
       "      <td>S1</td>\n",
       "      <td>L3</td>\n",
       "      <td>R2</td>\n",
       "      <td>2018-09-30</td>\n",
       "      <td>0</td>\n",
       "      <td>No</td>\n",
       "      <td>0</td>\n",
       "      <td>0.0</td>\n",
       "    </tr>\n",
       "    <tr>\n",
       "      <th>99904</th>\n",
       "      <td>T1099905</td>\n",
       "      <td>12</td>\n",
       "      <td>S1</td>\n",
       "      <td>L3</td>\n",
       "      <td>R2</td>\n",
       "      <td>2018-10-01</td>\n",
       "      <td>0</td>\n",
       "      <td>No</td>\n",
       "      <td>0</td>\n",
       "      <td>0.0</td>\n",
       "    </tr>\n",
       "    <tr>\n",
       "      <th>100215</th>\n",
       "      <td>T1100216</td>\n",
       "      <td>12</td>\n",
       "      <td>S1</td>\n",
       "      <td>L3</td>\n",
       "      <td>R2</td>\n",
       "      <td>2018-10-02</td>\n",
       "      <td>1</td>\n",
       "      <td>No</td>\n",
       "      <td>0</td>\n",
       "      <td>0.0</td>\n",
       "    </tr>\n",
       "    <tr>\n",
       "      <th>112564</th>\n",
       "      <td>T1112565</td>\n",
       "      <td>39</td>\n",
       "      <td>S4</td>\n",
       "      <td>L1</td>\n",
       "      <td>R1</td>\n",
       "      <td>2018-11-05</td>\n",
       "      <td>0</td>\n",
       "      <td>No</td>\n",
       "      <td>0</td>\n",
       "      <td>0.0</td>\n",
       "    </tr>\n",
       "    <tr>\n",
       "      <th>112853</th>\n",
       "      <td>T1112854</td>\n",
       "      <td>39</td>\n",
       "      <td>S4</td>\n",
       "      <td>L1</td>\n",
       "      <td>R1</td>\n",
       "      <td>2018-11-06</td>\n",
       "      <td>1</td>\n",
       "      <td>No</td>\n",
       "      <td>0</td>\n",
       "      <td>0.0</td>\n",
       "    </tr>\n",
       "    <tr>\n",
       "      <th>113444</th>\n",
       "      <td>T1113445</td>\n",
       "      <td>39</td>\n",
       "      <td>S4</td>\n",
       "      <td>L1</td>\n",
       "      <td>R1</td>\n",
       "      <td>2018-11-07</td>\n",
       "      <td>1</td>\n",
       "      <td>No</td>\n",
       "      <td>0</td>\n",
       "      <td>0.0</td>\n",
       "    </tr>\n",
       "    <tr>\n",
       "      <th>118972</th>\n",
       "      <td>T1118973</td>\n",
       "      <td>298</td>\n",
       "      <td>S4</td>\n",
       "      <td>L1</td>\n",
       "      <td>R1</td>\n",
       "      <td>2018-11-22</td>\n",
       "      <td>0</td>\n",
       "      <td>No</td>\n",
       "      <td>0</td>\n",
       "      <td>0.0</td>\n",
       "    </tr>\n",
       "    <tr>\n",
       "      <th>119242</th>\n",
       "      <td>T1119243</td>\n",
       "      <td>298</td>\n",
       "      <td>S4</td>\n",
       "      <td>L1</td>\n",
       "      <td>R1</td>\n",
       "      <td>2018-11-23</td>\n",
       "      <td>1</td>\n",
       "      <td>No</td>\n",
       "      <td>0</td>\n",
       "      <td>0.0</td>\n",
       "    </tr>\n",
       "    <tr>\n",
       "      <th>146897</th>\n",
       "      <td>T1146898</td>\n",
       "      <td>276</td>\n",
       "      <td>S1</td>\n",
       "      <td>L1</td>\n",
       "      <td>R2</td>\n",
       "      <td>2019-02-07</td>\n",
       "      <td>0</td>\n",
       "      <td>No</td>\n",
       "      <td>0</td>\n",
       "      <td>0.0</td>\n",
       "    </tr>\n",
       "    <tr>\n",
       "      <th>150650</th>\n",
       "      <td>T1150651</td>\n",
       "      <td>317</td>\n",
       "      <td>S3</td>\n",
       "      <td>L1</td>\n",
       "      <td>R1</td>\n",
       "      <td>2019-02-17</td>\n",
       "      <td>0</td>\n",
       "      <td>No</td>\n",
       "      <td>0</td>\n",
       "      <td>0.0</td>\n",
       "    </tr>\n",
       "    <tr>\n",
       "      <th>166738</th>\n",
       "      <td>T1166739</td>\n",
       "      <td>204</td>\n",
       "      <td>S4</td>\n",
       "      <td>L1</td>\n",
       "      <td>R3</td>\n",
       "      <td>2019-04-02</td>\n",
       "      <td>0</td>\n",
       "      <td>No</td>\n",
       "      <td>0</td>\n",
       "      <td>0.0</td>\n",
       "    </tr>\n",
       "    <tr>\n",
       "      <th>166849</th>\n",
       "      <td>T1166850</td>\n",
       "      <td>204</td>\n",
       "      <td>S4</td>\n",
       "      <td>L1</td>\n",
       "      <td>R3</td>\n",
       "      <td>2019-04-03</td>\n",
       "      <td>0</td>\n",
       "      <td>No</td>\n",
       "      <td>0</td>\n",
       "      <td>0.0</td>\n",
       "    </tr>\n",
       "    <tr>\n",
       "      <th>168885</th>\n",
       "      <td>T1168886</td>\n",
       "      <td>315</td>\n",
       "      <td>S4</td>\n",
       "      <td>L2</td>\n",
       "      <td>R1</td>\n",
       "      <td>2019-04-08</td>\n",
       "      <td>0</td>\n",
       "      <td>No</td>\n",
       "      <td>0</td>\n",
       "      <td>0.0</td>\n",
       "    </tr>\n",
       "    <tr>\n",
       "      <th>169181</th>\n",
       "      <td>T1169182</td>\n",
       "      <td>315</td>\n",
       "      <td>S4</td>\n",
       "      <td>L2</td>\n",
       "      <td>R1</td>\n",
       "      <td>2019-04-09</td>\n",
       "      <td>0</td>\n",
       "      <td>No</td>\n",
       "      <td>0</td>\n",
       "      <td>0.0</td>\n",
       "    </tr>\n",
       "  </tbody>\n",
       "</table>\n",
       "</div>"
      ],
      "text/plain": [
       "              ID  Store_id Store_Type Location_Type Region_Code       Date  \\\n",
       "23867   T1023868       311         S4            L2          R2 2018-03-07   \n",
       "38143   T1038144       222         S4            L2          R2 2018-04-15   \n",
       "90458   T1090459       233         S1            L3          R3 2018-09-05   \n",
       "97301   T1097302       271         S1            L3          R2 2018-09-24   \n",
       "97480   T1097481       271         S1            L3          R2 2018-09-25   \n",
       "99489   T1099490        12         S1            L3          R2 2018-09-30   \n",
       "99904   T1099905        12         S1            L3          R2 2018-10-01   \n",
       "100215  T1100216        12         S1            L3          R2 2018-10-02   \n",
       "112564  T1112565        39         S4            L1          R1 2018-11-05   \n",
       "112853  T1112854        39         S4            L1          R1 2018-11-06   \n",
       "113444  T1113445        39         S4            L1          R1 2018-11-07   \n",
       "118972  T1118973       298         S4            L1          R1 2018-11-22   \n",
       "119242  T1119243       298         S4            L1          R1 2018-11-23   \n",
       "146897  T1146898       276         S1            L1          R2 2019-02-07   \n",
       "150650  T1150651       317         S3            L1          R1 2019-02-17   \n",
       "166738  T1166739       204         S4            L1          R3 2019-04-02   \n",
       "166849  T1166850       204         S4            L1          R3 2019-04-03   \n",
       "168885  T1168886       315         S4            L2          R1 2019-04-08   \n",
       "169181  T1169182       315         S4            L2          R1 2019-04-09   \n",
       "\n",
       "        Holiday Discount  #Order  Sales  \n",
       "23867         0       No       0    0.0  \n",
       "38143         1       No       0    0.0  \n",
       "90458         0       No       0    0.0  \n",
       "97301         0       No       0    0.0  \n",
       "97480         0       No       0    0.0  \n",
       "99489         0       No       0    0.0  \n",
       "99904         0       No       0    0.0  \n",
       "100215        1       No       0    0.0  \n",
       "112564        0       No       0    0.0  \n",
       "112853        1       No       0    0.0  \n",
       "113444        1       No       0    0.0  \n",
       "118972        0       No       0    0.0  \n",
       "119242        1       No       0    0.0  \n",
       "146897        0       No       0    0.0  \n",
       "150650        0       No       0    0.0  \n",
       "166738        0       No       0    0.0  \n",
       "166849        0       No       0    0.0  \n",
       "168885        0       No       0    0.0  \n",
       "169181        0       No       0    0.0  "
      ]
     },
     "execution_count": 181,
     "metadata": {},
     "output_type": "execute_result"
    }
   ],
   "source": [
    "# ROWS WHERE THE SALES IS 0 \n",
    "train[train['Sales']==0]"
   ]
  },
  {
   "cell_type": "code",
   "execution_count": 182,
   "metadata": {
    "scrolled": true
   },
   "outputs": [
    {
     "name": "stdout",
     "output_type": "stream",
     "text": [
      "Skewness of the Sales Variable is : 1.248819154338717\n"
     ]
    }
   ],
   "source": [
    "print (f\"Skewness of the Sales Variable is : {train['Sales'].skew()}\")"
   ]
  },
  {
   "cell_type": "code",
   "execution_count": 183,
   "metadata": {},
   "outputs": [
    {
     "name": "stdout",
     "output_type": "stream",
     "text": [
      "Sales below -1798.5 and above 84133.5 can be considered as outliers.\n"
     ]
    }
   ],
   "source": [
    "# IDENTIFYING OUTLIERS IN THE SALES DATA\n",
    "Q1 = train['Sales'].quantile(0.25)\n",
    "Q3 = train['Sales'].quantile(0.75)\n",
    "IQR = Q3 - Q1\n",
    "print (f\"Sales below {Q1-1.5*IQR} and above {Q3+1.5*IQR} can be considered as outliers.\")"
   ]
  },
  {
   "cell_type": "code",
   "execution_count": 184,
   "metadata": {},
   "outputs": [
    {
     "data": {
      "text/html": [
       "<div>\n",
       "<style scoped>\n",
       "    .dataframe tbody tr th:only-of-type {\n",
       "        vertical-align: middle;\n",
       "    }\n",
       "\n",
       "    .dataframe tbody tr th {\n",
       "        vertical-align: top;\n",
       "    }\n",
       "\n",
       "    .dataframe thead th {\n",
       "        text-align: right;\n",
       "    }\n",
       "</style>\n",
       "<table border=\"1\" class=\"dataframe\">\n",
       "  <thead>\n",
       "    <tr style=\"text-align: right;\">\n",
       "      <th></th>\n",
       "      <th>ID</th>\n",
       "      <th>Store_id</th>\n",
       "      <th>Store_Type</th>\n",
       "      <th>Location_Type</th>\n",
       "      <th>Region_Code</th>\n",
       "      <th>Date</th>\n",
       "      <th>Holiday</th>\n",
       "      <th>Discount</th>\n",
       "      <th>#Order</th>\n",
       "      <th>Sales</th>\n",
       "    </tr>\n",
       "  </thead>\n",
       "  <tbody>\n",
       "    <tr>\n",
       "      <th>77</th>\n",
       "      <td>T1000078</td>\n",
       "      <td>223</td>\n",
       "      <td>S2</td>\n",
       "      <td>L5</td>\n",
       "      <td>R2</td>\n",
       "      <td>2018-01-01</td>\n",
       "      <td>1</td>\n",
       "      <td>Yes</td>\n",
       "      <td>118</td>\n",
       "      <td>85426.92</td>\n",
       "    </tr>\n",
       "    <tr>\n",
       "      <th>133</th>\n",
       "      <td>T1000134</td>\n",
       "      <td>316</td>\n",
       "      <td>S4</td>\n",
       "      <td>L2</td>\n",
       "      <td>R1</td>\n",
       "      <td>2018-01-01</td>\n",
       "      <td>1</td>\n",
       "      <td>Yes</td>\n",
       "      <td>132</td>\n",
       "      <td>86962.68</td>\n",
       "    </tr>\n",
       "    <tr>\n",
       "      <th>180</th>\n",
       "      <td>T1000181</td>\n",
       "      <td>86</td>\n",
       "      <td>S1</td>\n",
       "      <td>L1</td>\n",
       "      <td>R4</td>\n",
       "      <td>2018-01-01</td>\n",
       "      <td>1</td>\n",
       "      <td>Yes</td>\n",
       "      <td>154</td>\n",
       "      <td>115665.30</td>\n",
       "    </tr>\n",
       "    <tr>\n",
       "      <th>187</th>\n",
       "      <td>T1000188</td>\n",
       "      <td>88</td>\n",
       "      <td>S2</td>\n",
       "      <td>L5</td>\n",
       "      <td>R2</td>\n",
       "      <td>2018-01-01</td>\n",
       "      <td>1</td>\n",
       "      <td>Yes</td>\n",
       "      <td>90</td>\n",
       "      <td>86203.20</td>\n",
       "    </tr>\n",
       "    <tr>\n",
       "      <th>306</th>\n",
       "      <td>T1000307</td>\n",
       "      <td>176</td>\n",
       "      <td>S4</td>\n",
       "      <td>L2</td>\n",
       "      <td>R3</td>\n",
       "      <td>2018-01-01</td>\n",
       "      <td>1</td>\n",
       "      <td>Yes</td>\n",
       "      <td>180</td>\n",
       "      <td>126633.00</td>\n",
       "    </tr>\n",
       "    <tr>\n",
       "      <th>...</th>\n",
       "      <td>...</td>\n",
       "      <td>...</td>\n",
       "      <td>...</td>\n",
       "      <td>...</td>\n",
       "      <td>...</td>\n",
       "      <td>...</td>\n",
       "      <td>...</td>\n",
       "      <td>...</td>\n",
       "      <td>...</td>\n",
       "      <td>...</td>\n",
       "    </tr>\n",
       "    <tr>\n",
       "      <th>188243</th>\n",
       "      <td>T1188244</td>\n",
       "      <td>173</td>\n",
       "      <td>S4</td>\n",
       "      <td>L2</td>\n",
       "      <td>R1</td>\n",
       "      <td>2019-05-31</td>\n",
       "      <td>1</td>\n",
       "      <td>No</td>\n",
       "      <td>132</td>\n",
       "      <td>90231.54</td>\n",
       "    </tr>\n",
       "    <tr>\n",
       "      <th>188299</th>\n",
       "      <td>T1188300</td>\n",
       "      <td>131</td>\n",
       "      <td>S4</td>\n",
       "      <td>L2</td>\n",
       "      <td>R1</td>\n",
       "      <td>2019-05-31</td>\n",
       "      <td>1</td>\n",
       "      <td>No</td>\n",
       "      <td>151</td>\n",
       "      <td>95497.92</td>\n",
       "    </tr>\n",
       "    <tr>\n",
       "      <th>188320</th>\n",
       "      <td>T1188321</td>\n",
       "      <td>337</td>\n",
       "      <td>S4</td>\n",
       "      <td>L2</td>\n",
       "      <td>R1</td>\n",
       "      <td>2019-05-31</td>\n",
       "      <td>1</td>\n",
       "      <td>No</td>\n",
       "      <td>171</td>\n",
       "      <td>110414.28</td>\n",
       "    </tr>\n",
       "    <tr>\n",
       "      <th>188321</th>\n",
       "      <td>T1188322</td>\n",
       "      <td>160</td>\n",
       "      <td>S4</td>\n",
       "      <td>L2</td>\n",
       "      <td>R1</td>\n",
       "      <td>2019-05-31</td>\n",
       "      <td>1</td>\n",
       "      <td>Yes</td>\n",
       "      <td>152</td>\n",
       "      <td>87785.70</td>\n",
       "    </tr>\n",
       "    <tr>\n",
       "      <th>188332</th>\n",
       "      <td>T1188333</td>\n",
       "      <td>150</td>\n",
       "      <td>S4</td>\n",
       "      <td>L2</td>\n",
       "      <td>R1</td>\n",
       "      <td>2019-05-31</td>\n",
       "      <td>1</td>\n",
       "      <td>Yes</td>\n",
       "      <td>137</td>\n",
       "      <td>86994.18</td>\n",
       "    </tr>\n",
       "  </tbody>\n",
       "</table>\n",
       "<p>5843 rows × 10 columns</p>\n",
       "</div>"
      ],
      "text/plain": [
       "              ID  Store_id Store_Type Location_Type Region_Code       Date  \\\n",
       "77      T1000078       223         S2            L5          R2 2018-01-01   \n",
       "133     T1000134       316         S4            L2          R1 2018-01-01   \n",
       "180     T1000181        86         S1            L1          R4 2018-01-01   \n",
       "187     T1000188        88         S2            L5          R2 2018-01-01   \n",
       "306     T1000307       176         S4            L2          R3 2018-01-01   \n",
       "...          ...       ...        ...           ...         ...        ...   \n",
       "188243  T1188244       173         S4            L2          R1 2019-05-31   \n",
       "188299  T1188300       131         S4            L2          R1 2019-05-31   \n",
       "188320  T1188321       337         S4            L2          R1 2019-05-31   \n",
       "188321  T1188322       160         S4            L2          R1 2019-05-31   \n",
       "188332  T1188333       150         S4            L2          R1 2019-05-31   \n",
       "\n",
       "        Holiday Discount  #Order      Sales  \n",
       "77            1      Yes     118   85426.92  \n",
       "133           1      Yes     132   86962.68  \n",
       "180           1      Yes     154  115665.30  \n",
       "187           1      Yes      90   86203.20  \n",
       "306           1      Yes     180  126633.00  \n",
       "...         ...      ...     ...        ...  \n",
       "188243        1       No     132   90231.54  \n",
       "188299        1       No     151   95497.92  \n",
       "188320        1       No     171  110414.28  \n",
       "188321        1      Yes     152   87785.70  \n",
       "188332        1      Yes     137   86994.18  \n",
       "\n",
       "[5843 rows x 10 columns]"
      ]
     },
     "execution_count": 184,
     "metadata": {},
     "output_type": "execute_result"
    }
   ],
   "source": [
    "train[(train['Sales']<(Q1-1.5*IQR))|(train['Sales']>(Q3+1.5*IQR))]"
   ]
  },
  {
   "cell_type": "markdown",
   "metadata": {},
   "source": [
    "As we can see above, there are 5843 records in the dataset that can be considered as outliers. "
   ]
  },
  {
   "cell_type": "markdown",
   "metadata": {},
   "source": [
    "#### Orders"
   ]
  },
  {
   "cell_type": "code",
   "execution_count": 185,
   "metadata": {},
   "outputs": [
    {
     "data": {
      "text/plain": [
       "count    188340.000000\n",
       "mean         68.205692\n",
       "std          30.467415\n",
       "min           0.000000\n",
       "25%          48.000000\n",
       "50%          63.000000\n",
       "75%          82.000000\n",
       "max         371.000000\n",
       "Name: #Order, dtype: float64"
      ]
     },
     "execution_count": 185,
     "metadata": {},
     "output_type": "execute_result"
    }
   ],
   "source": [
    "train['#Order'].describe()"
   ]
  },
  {
   "cell_type": "code",
   "execution_count": 186,
   "metadata": {},
   "outputs": [
    {
     "data": {
      "image/png": "[encoded data removed]",
      "text/plain": [
       "<Figure size 360x360 with 1 Axes>"
      ]
     },
     "metadata": {
      "needs_background": "light"
     },
     "output_type": "display_data"
    }
   ],
   "source": [
    "sns.displot(train['#Order'],color='red');\n",
    "plt.title(\"Distribution Plot Of Orders Variable\");"
   ]
  },
  {
   "cell_type": "code",
   "execution_count": 187,
   "metadata": {},
   "outputs": [
    {
     "data": {
      "image/png": "[encoded data removed]",
      "text/plain": [
       "<Figure size 432x288 with 1 Axes>"
      ]
     },
     "metadata": {
      "needs_background": "light"
     },
     "output_type": "display_data"
    }
   ],
   "source": [
    "sns.boxplot(train['#Order'],color='red');\n",
    "plt.title(\"Box Plot of Orders Variable\");"
   ]
  },
  {
   "cell_type": "markdown",
   "metadata": {},
   "source": [
    "Few observations about the Orders variable,\n",
    "\n",
    "1. Boxplot shows that there are some outliers, not many.\n",
    "2. The distribution plot shows that the distribution is almost normal (although we see a skew towards right), we can see it from the skewness value below.\n",
    "3. Minimum number of orders value of 0 sould be explored further.\n",
    "4. As we can see below, there are 19 rows in the train data where the orders and sales is 0. The reason may be because the store wasn't open that day."
   ]
  },
  {
   "cell_type": "code",
   "execution_count": 188,
   "metadata": {},
   "outputs": [
    {
     "name": "stdout",
     "output_type": "stream",
     "text": [
      "Skewness of the Orders Variable is : 1.3728735099625982\n"
     ]
    }
   ],
   "source": [
    "print (f\"Skewness of the Orders Variable is : {train['#Order'].skew()}\")"
   ]
  },
  {
   "cell_type": "code",
   "execution_count": 189,
   "metadata": {},
   "outputs": [
    {
     "data": {
      "text/html": [
       "<div>\n",
       "<style scoped>\n",
       "    .dataframe tbody tr th:only-of-type {\n",
       "        vertical-align: middle;\n",
       "    }\n",
       "\n",
       "    .dataframe tbody tr th {\n",
       "        vertical-align: top;\n",
       "    }\n",
       "\n",
       "    .dataframe thead th {\n",
       "        text-align: right;\n",
       "    }\n",
       "</style>\n",
       "<table border=\"1\" class=\"dataframe\">\n",
       "  <thead>\n",
       "    <tr style=\"text-align: right;\">\n",
       "      <th></th>\n",
       "      <th>ID</th>\n",
       "      <th>Store_id</th>\n",
       "      <th>Store_Type</th>\n",
       "      <th>Location_Type</th>\n",
       "      <th>Region_Code</th>\n",
       "      <th>Date</th>\n",
       "      <th>Holiday</th>\n",
       "      <th>Discount</th>\n",
       "      <th>#Order</th>\n",
       "      <th>Sales</th>\n",
       "    </tr>\n",
       "  </thead>\n",
       "  <tbody>\n",
       "    <tr>\n",
       "      <th>23867</th>\n",
       "      <td>T1023868</td>\n",
       "      <td>311</td>\n",
       "      <td>S4</td>\n",
       "      <td>L2</td>\n",
       "      <td>R2</td>\n",
       "      <td>2018-03-07</td>\n",
       "      <td>0</td>\n",
       "      <td>No</td>\n",
       "      <td>0</td>\n",
       "      <td>0.0</td>\n",
       "    </tr>\n",
       "    <tr>\n",
       "      <th>38143</th>\n",
       "      <td>T1038144</td>\n",
       "      <td>222</td>\n",
       "      <td>S4</td>\n",
       "      <td>L2</td>\n",
       "      <td>R2</td>\n",
       "      <td>2018-04-15</td>\n",
       "      <td>1</td>\n",
       "      <td>No</td>\n",
       "      <td>0</td>\n",
       "      <td>0.0</td>\n",
       "    </tr>\n",
       "    <tr>\n",
       "      <th>90458</th>\n",
       "      <td>T1090459</td>\n",
       "      <td>233</td>\n",
       "      <td>S1</td>\n",
       "      <td>L3</td>\n",
       "      <td>R3</td>\n",
       "      <td>2018-09-05</td>\n",
       "      <td>0</td>\n",
       "      <td>No</td>\n",
       "      <td>0</td>\n",
       "      <td>0.0</td>\n",
       "    </tr>\n",
       "    <tr>\n",
       "      <th>97301</th>\n",
       "      <td>T1097302</td>\n",
       "      <td>271</td>\n",
       "      <td>S1</td>\n",
       "      <td>L3</td>\n",
       "      <td>R2</td>\n",
       "      <td>2018-09-24</td>\n",
       "      <td>0</td>\n",
       "      <td>No</td>\n",
       "      <td>0</td>\n",
       "      <td>0.0</td>\n",
       "    </tr>\n",
       "    <tr>\n",
       "      <th>97480</th>\n",
       "      <td>T1097481</td>\n",
       "      <td>271</td>\n",
       "      <td>S1</td>\n",
       "      <td>L3</td>\n",
       "      <td>R2</td>\n",
       "      <td>2018-09-25</td>\n",
       "      <td>0</td>\n",
       "      <td>No</td>\n",
       "      <td>0</td>\n",
       "      <td>0.0</td>\n",
       "    </tr>\n",
       "    <tr>\n",
       "      <th>99489</th>\n",
       "      <td>T1099490</td>\n",
       "      <td>12</td>\n",
       "      <td>S1</td>\n",
       "      <td>L3</td>\n",
       "      <td>R2</td>\n",
       "      <td>2018-09-30</td>\n",
       "      <td>0</td>\n",
       "      <td>No</td>\n",
       "      <td>0</td>\n",
       "      <td>0.0</td>\n",
       "    </tr>\n",
       "    <tr>\n",
       "      <th>99904</th>\n",
       "      <td>T1099905</td>\n",
       "      <td>12</td>\n",
       "      <td>S1</td>\n",
       "      <td>L3</td>\n",
       "      <td>R2</td>\n",
       "      <td>2018-10-01</td>\n",
       "      <td>0</td>\n",
       "      <td>No</td>\n",
       "      <td>0</td>\n",
       "      <td>0.0</td>\n",
       "    </tr>\n",
       "    <tr>\n",
       "      <th>100215</th>\n",
       "      <td>T1100216</td>\n",
       "      <td>12</td>\n",
       "      <td>S1</td>\n",
       "      <td>L3</td>\n",
       "      <td>R2</td>\n",
       "      <td>2018-10-02</td>\n",
       "      <td>1</td>\n",
       "      <td>No</td>\n",
       "      <td>0</td>\n",
       "      <td>0.0</td>\n",
       "    </tr>\n",
       "    <tr>\n",
       "      <th>112564</th>\n",
       "      <td>T1112565</td>\n",
       "      <td>39</td>\n",
       "      <td>S4</td>\n",
       "      <td>L1</td>\n",
       "      <td>R1</td>\n",
       "      <td>2018-11-05</td>\n",
       "      <td>0</td>\n",
       "      <td>No</td>\n",
       "      <td>0</td>\n",
       "      <td>0.0</td>\n",
       "    </tr>\n",
       "    <tr>\n",
       "      <th>112853</th>\n",
       "      <td>T1112854</td>\n",
       "      <td>39</td>\n",
       "      <td>S4</td>\n",
       "      <td>L1</td>\n",
       "      <td>R1</td>\n",
       "      <td>2018-11-06</td>\n",
       "      <td>1</td>\n",
       "      <td>No</td>\n",
       "      <td>0</td>\n",
       "      <td>0.0</td>\n",
       "    </tr>\n",
       "    <tr>\n",
       "      <th>113444</th>\n",
       "      <td>T1113445</td>\n",
       "      <td>39</td>\n",
       "      <td>S4</td>\n",
       "      <td>L1</td>\n",
       "      <td>R1</td>\n",
       "      <td>2018-11-07</td>\n",
       "      <td>1</td>\n",
       "      <td>No</td>\n",
       "      <td>0</td>\n",
       "      <td>0.0</td>\n",
       "    </tr>\n",
       "    <tr>\n",
       "      <th>118972</th>\n",
       "      <td>T1118973</td>\n",
       "      <td>298</td>\n",
       "      <td>S4</td>\n",
       "      <td>L1</td>\n",
       "      <td>R1</td>\n",
       "      <td>2018-11-22</td>\n",
       "      <td>0</td>\n",
       "      <td>No</td>\n",
       "      <td>0</td>\n",
       "      <td>0.0</td>\n",
       "    </tr>\n",
       "    <tr>\n",
       "      <th>119242</th>\n",
       "      <td>T1119243</td>\n",
       "      <td>298</td>\n",
       "      <td>S4</td>\n",
       "      <td>L1</td>\n",
       "      <td>R1</td>\n",
       "      <td>2018-11-23</td>\n",
       "      <td>1</td>\n",
       "      <td>No</td>\n",
       "      <td>0</td>\n",
       "      <td>0.0</td>\n",
       "    </tr>\n",
       "    <tr>\n",
       "      <th>146897</th>\n",
       "      <td>T1146898</td>\n",
       "      <td>276</td>\n",
       "      <td>S1</td>\n",
       "      <td>L1</td>\n",
       "      <td>R2</td>\n",
       "      <td>2019-02-07</td>\n",
       "      <td>0</td>\n",
       "      <td>No</td>\n",
       "      <td>0</td>\n",
       "      <td>0.0</td>\n",
       "    </tr>\n",
       "    <tr>\n",
       "      <th>150650</th>\n",
       "      <td>T1150651</td>\n",
       "      <td>317</td>\n",
       "      <td>S3</td>\n",
       "      <td>L1</td>\n",
       "      <td>R1</td>\n",
       "      <td>2019-02-17</td>\n",
       "      <td>0</td>\n",
       "      <td>No</td>\n",
       "      <td>0</td>\n",
       "      <td>0.0</td>\n",
       "    </tr>\n",
       "    <tr>\n",
       "      <th>166738</th>\n",
       "      <td>T1166739</td>\n",
       "      <td>204</td>\n",
       "      <td>S4</td>\n",
       "      <td>L1</td>\n",
       "      <td>R3</td>\n",
       "      <td>2019-04-02</td>\n",
       "      <td>0</td>\n",
       "      <td>No</td>\n",
       "      <td>0</td>\n",
       "      <td>0.0</td>\n",
       "    </tr>\n",
       "    <tr>\n",
       "      <th>166849</th>\n",
       "      <td>T1166850</td>\n",
       "      <td>204</td>\n",
       "      <td>S4</td>\n",
       "      <td>L1</td>\n",
       "      <td>R3</td>\n",
       "      <td>2019-04-03</td>\n",
       "      <td>0</td>\n",
       "      <td>No</td>\n",
       "      <td>0</td>\n",
       "      <td>0.0</td>\n",
       "    </tr>\n",
       "    <tr>\n",
       "      <th>168885</th>\n",
       "      <td>T1168886</td>\n",
       "      <td>315</td>\n",
       "      <td>S4</td>\n",
       "      <td>L2</td>\n",
       "      <td>R1</td>\n",
       "      <td>2019-04-08</td>\n",
       "      <td>0</td>\n",
       "      <td>No</td>\n",
       "      <td>0</td>\n",
       "      <td>0.0</td>\n",
       "    </tr>\n",
       "    <tr>\n",
       "      <th>169181</th>\n",
       "      <td>T1169182</td>\n",
       "      <td>315</td>\n",
       "      <td>S4</td>\n",
       "      <td>L2</td>\n",
       "      <td>R1</td>\n",
       "      <td>2019-04-09</td>\n",
       "      <td>0</td>\n",
       "      <td>No</td>\n",
       "      <td>0</td>\n",
       "      <td>0.0</td>\n",
       "    </tr>\n",
       "  </tbody>\n",
       "</table>\n",
       "</div>"
      ],
      "text/plain": [
       "              ID  Store_id Store_Type Location_Type Region_Code       Date  \\\n",
       "23867   T1023868       311         S4            L2          R2 2018-03-07   \n",
       "38143   T1038144       222         S4            L2          R2 2018-04-15   \n",
       "90458   T1090459       233         S1            L3          R3 2018-09-05   \n",
       "97301   T1097302       271         S1            L3          R2 2018-09-24   \n",
       "97480   T1097481       271         S1            L3          R2 2018-09-25   \n",
       "99489   T1099490        12         S1            L3          R2 2018-09-30   \n",
       "99904   T1099905        12         S1            L3          R2 2018-10-01   \n",
       "100215  T1100216        12         S1            L3          R2 2018-10-02   \n",
       "112564  T1112565        39         S4            L1          R1 2018-11-05   \n",
       "112853  T1112854        39         S4            L1          R1 2018-11-06   \n",
       "113444  T1113445        39         S4            L1          R1 2018-11-07   \n",
       "118972  T1118973       298         S4            L1          R1 2018-11-22   \n",
       "119242  T1119243       298         S4            L1          R1 2018-11-23   \n",
       "146897  T1146898       276         S1            L1          R2 2019-02-07   \n",
       "150650  T1150651       317         S3            L1          R1 2019-02-17   \n",
       "166738  T1166739       204         S4            L1          R3 2019-04-02   \n",
       "166849  T1166850       204         S4            L1          R3 2019-04-03   \n",
       "168885  T1168886       315         S4            L2          R1 2019-04-08   \n",
       "169181  T1169182       315         S4            L2          R1 2019-04-09   \n",
       "\n",
       "        Holiday Discount  #Order  Sales  \n",
       "23867         0       No       0    0.0  \n",
       "38143         1       No       0    0.0  \n",
       "90458         0       No       0    0.0  \n",
       "97301         0       No       0    0.0  \n",
       "97480         0       No       0    0.0  \n",
       "99489         0       No       0    0.0  \n",
       "99904         0       No       0    0.0  \n",
       "100215        1       No       0    0.0  \n",
       "112564        0       No       0    0.0  \n",
       "112853        1       No       0    0.0  \n",
       "113444        1       No       0    0.0  \n",
       "118972        0       No       0    0.0  \n",
       "119242        1       No       0    0.0  \n",
       "146897        0       No       0    0.0  \n",
       "150650        0       No       0    0.0  \n",
       "166738        0       No       0    0.0  \n",
       "166849        0       No       0    0.0  \n",
       "168885        0       No       0    0.0  \n",
       "169181        0       No       0    0.0  "
      ]
     },
     "execution_count": 189,
     "metadata": {},
     "output_type": "execute_result"
    }
   ],
   "source": [
    "train[(train['#Order']==0) & (train['Sales']==0)]"
   ]
  },
  {
   "cell_type": "markdown",
   "metadata": {},
   "source": [
    "### EDA (Bi-Variate Analysis)"
   ]
  },
  {
   "cell_type": "code",
   "execution_count": 190,
   "metadata": {},
   "outputs": [
    {
     "data": {
      "text/plain": [
       "Store_Type\n",
       "S1    172\n",
       "S2     56\n",
       "S3     48\n",
       "S4     89\n",
       "Name: Store_id, dtype: int64"
      ]
     },
     "execution_count": 190,
     "metadata": {},
     "output_type": "execute_result"
    }
   ],
   "source": [
    "# LET'S CHECK HOW MANY STORE_ID'S ARE IN EACH STORE_TYPE\n",
    "train.groupby('Store_Type')['Store_id'].nunique()"
   ]
  },
  {
   "cell_type": "code",
   "execution_count": 191,
   "metadata": {},
   "outputs": [
    {
     "data": {
      "text/plain": [
       "Location_Type\n",
       "L1    165\n",
       "L2     94\n",
       "L3     58\n",
       "L4     21\n",
       "L5     27\n",
       "Name: Store_id, dtype: int64"
      ]
     },
     "execution_count": 191,
     "metadata": {},
     "output_type": "execute_result"
    }
   ],
   "source": [
    "# LET'S CHECK HOW MANY STORE_ID'S ARE IN EACH LOCATION_TYPE\n",
    "train.groupby('Location_Type')['Store_id'].nunique()"
   ]
  },
  {
   "cell_type": "code",
   "execution_count": 192,
   "metadata": {},
   "outputs": [
    {
     "data": {
      "text/plain": [
       "Region_Code\n",
       "R1    124\n",
       "R2    105\n",
       "R3     86\n",
       "R4     50\n",
       "Name: Store_id, dtype: int64"
      ]
     },
     "execution_count": 192,
     "metadata": {},
     "output_type": "execute_result"
    }
   ],
   "source": [
    "# LET'S CHECK HOW MANY STORE_ID'S ARE IN EACH REGION_CODE\n",
    "train.groupby('Region_Code')['Store_id'].nunique()"
   ]
  },
  {
   "cell_type": "code",
   "execution_count": 193,
   "metadata": {},
   "outputs": [
    {
     "data": {
      "text/html": [
       "<div>\n",
       "<style scoped>\n",
       "    .dataframe tbody tr th:only-of-type {\n",
       "        vertical-align: middle;\n",
       "    }\n",
       "\n",
       "    .dataframe tbody tr th {\n",
       "        vertical-align: top;\n",
       "    }\n",
       "\n",
       "    .dataframe thead th {\n",
       "        text-align: right;\n",
       "    }\n",
       "</style>\n",
       "<table border=\"1\" class=\"dataframe\">\n",
       "  <thead>\n",
       "    <tr style=\"text-align: right;\">\n",
       "      <th></th>\n",
       "      <th>count</th>\n",
       "      <th>mean</th>\n",
       "      <th>std</th>\n",
       "      <th>min</th>\n",
       "      <th>25%</th>\n",
       "      <th>50%</th>\n",
       "      <th>75%</th>\n",
       "      <th>max</th>\n",
       "    </tr>\n",
       "    <tr>\n",
       "      <th>Store_Type</th>\n",
       "      <th></th>\n",
       "      <th></th>\n",
       "      <th></th>\n",
       "      <th></th>\n",
       "      <th></th>\n",
       "      <th></th>\n",
       "      <th></th>\n",
       "      <th></th>\n",
       "    </tr>\n",
       "  </thead>\n",
       "  <tbody>\n",
       "    <tr>\n",
       "      <th>S1</th>\n",
       "      <td>88752.0</td>\n",
       "      <td>37676.511694</td>\n",
       "      <td>12303.151090</td>\n",
       "      <td>0.00</td>\n",
       "      <td>29859.0</td>\n",
       "      <td>36444.0</td>\n",
       "      <td>44439.00</td>\n",
       "      <td>143841.0</td>\n",
       "    </tr>\n",
       "    <tr>\n",
       "      <th>S2</th>\n",
       "      <td>28896.0</td>\n",
       "      <td>27530.828222</td>\n",
       "      <td>9168.839395</td>\n",
       "      <td>1748.28</td>\n",
       "      <td>21666.0</td>\n",
       "      <td>26794.5</td>\n",
       "      <td>32703.90</td>\n",
       "      <td>96363.0</td>\n",
       "    </tr>\n",
       "    <tr>\n",
       "      <th>S3</th>\n",
       "      <td>24768.0</td>\n",
       "      <td>47063.068209</td>\n",
       "      <td>14907.465521</td>\n",
       "      <td>0.00</td>\n",
       "      <td>37656.0</td>\n",
       "      <td>45445.5</td>\n",
       "      <td>55062.75</td>\n",
       "      <td>166323.0</td>\n",
       "    </tr>\n",
       "    <tr>\n",
       "      <th>S4</th>\n",
       "      <td>45924.0</td>\n",
       "      <td>59945.685926</td>\n",
       "      <td>20750.228035</td>\n",
       "      <td>0.00</td>\n",
       "      <td>46503.0</td>\n",
       "      <td>57075.0</td>\n",
       "      <td>70326.75</td>\n",
       "      <td>247215.0</td>\n",
       "    </tr>\n",
       "  </tbody>\n",
       "</table>\n",
       "</div>"
      ],
      "text/plain": [
       "              count          mean           std      min      25%      50%  \\\n",
       "Store_Type                                                                   \n",
       "S1          88752.0  37676.511694  12303.151090     0.00  29859.0  36444.0   \n",
       "S2          28896.0  27530.828222   9168.839395  1748.28  21666.0  26794.5   \n",
       "S3          24768.0  47063.068209  14907.465521     0.00  37656.0  45445.5   \n",
       "S4          45924.0  59945.685926  20750.228035     0.00  46503.0  57075.0   \n",
       "\n",
       "                 75%       max  \n",
       "Store_Type                      \n",
       "S1          44439.00  143841.0  \n",
       "S2          32703.90   96363.0  \n",
       "S3          55062.75  166323.0  \n",
       "S4          70326.75  247215.0  "
      ]
     },
     "execution_count": 193,
     "metadata": {},
     "output_type": "execute_result"
    }
   ],
   "source": [
    "# LET'S CHECK THE SALES BY STORE_TYPES\n",
    "train.groupby('Store_Type')['Sales'].describe()"
   ]
  },
  {
   "cell_type": "markdown",
   "metadata": {},
   "source": [
    "We can observe from the above table that,\n",
    "\n",
    "1. Mean Sales of Store_Type S2 is the lowest and sales of S2 is the highest.\n",
    "2. Min Sales of Store_Types S1, S3 and S4 are all 0 except S2.\n",
    "3. Maximum sales comes from Store_Type S4. "
   ]
  },
  {
   "cell_type": "code",
   "execution_count": 194,
   "metadata": {},
   "outputs": [
    {
     "data": {
      "text/html": [
       "<div>\n",
       "<style scoped>\n",
       "    .dataframe tbody tr th:only-of-type {\n",
       "        vertical-align: middle;\n",
       "    }\n",
       "\n",
       "    .dataframe tbody tr th {\n",
       "        vertical-align: top;\n",
       "    }\n",
       "\n",
       "    .dataframe thead th {\n",
       "        text-align: right;\n",
       "    }\n",
       "</style>\n",
       "<table border=\"1\" class=\"dataframe\">\n",
       "  <thead>\n",
       "    <tr style=\"text-align: right;\">\n",
       "      <th></th>\n",
       "      <th>count</th>\n",
       "      <th>mean</th>\n",
       "      <th>std</th>\n",
       "      <th>min</th>\n",
       "      <th>25%</th>\n",
       "      <th>50%</th>\n",
       "      <th>75%</th>\n",
       "      <th>max</th>\n",
       "    </tr>\n",
       "    <tr>\n",
       "      <th>Location_Type</th>\n",
       "      <th></th>\n",
       "      <th></th>\n",
       "      <th></th>\n",
       "      <th></th>\n",
       "      <th></th>\n",
       "      <th></th>\n",
       "      <th></th>\n",
       "      <th></th>\n",
       "    </tr>\n",
       "  </thead>\n",
       "  <tbody>\n",
       "    <tr>\n",
       "      <th>L1</th>\n",
       "      <td>85140.0</td>\n",
       "      <td>41453.597889</td>\n",
       "      <td>13520.616642</td>\n",
       "      <td>0.00</td>\n",
       "      <td>32598.00</td>\n",
       "      <td>39831.000</td>\n",
       "      <td>48702.000</td>\n",
       "      <td>144789.0</td>\n",
       "    </tr>\n",
       "    <tr>\n",
       "      <th>L2</th>\n",
       "      <td>48504.0</td>\n",
       "      <td>59231.480373</td>\n",
       "      <td>20642.975708</td>\n",
       "      <td>0.00</td>\n",
       "      <td>45731.25</td>\n",
       "      <td>56235.975</td>\n",
       "      <td>69555.000</td>\n",
       "      <td>247215.0</td>\n",
       "    </tr>\n",
       "    <tr>\n",
       "      <th>L3</th>\n",
       "      <td>29928.0</td>\n",
       "      <td>33072.257756</td>\n",
       "      <td>10720.509117</td>\n",
       "      <td>0.00</td>\n",
       "      <td>26119.98</td>\n",
       "      <td>31987.200</td>\n",
       "      <td>39084.000</td>\n",
       "      <td>117495.0</td>\n",
       "    </tr>\n",
       "    <tr>\n",
       "      <th>L4</th>\n",
       "      <td>10836.0</td>\n",
       "      <td>29067.414313</td>\n",
       "      <td>9176.431608</td>\n",
       "      <td>1969.14</td>\n",
       "      <td>23075.25</td>\n",
       "      <td>28554.000</td>\n",
       "      <td>34413.750</td>\n",
       "      <td>91677.0</td>\n",
       "    </tr>\n",
       "    <tr>\n",
       "      <th>L5</th>\n",
       "      <td>13932.0</td>\n",
       "      <td>25187.787261</td>\n",
       "      <td>8990.099353</td>\n",
       "      <td>1748.28</td>\n",
       "      <td>19416.00</td>\n",
       "      <td>24528.000</td>\n",
       "      <td>30395.235</td>\n",
       "      <td>86203.2</td>\n",
       "    </tr>\n",
       "  </tbody>\n",
       "</table>\n",
       "</div>"
      ],
      "text/plain": [
       "                 count          mean           std      min       25%  \\\n",
       "Location_Type                                                           \n",
       "L1             85140.0  41453.597889  13520.616642     0.00  32598.00   \n",
       "L2             48504.0  59231.480373  20642.975708     0.00  45731.25   \n",
       "L3             29928.0  33072.257756  10720.509117     0.00  26119.98   \n",
       "L4             10836.0  29067.414313   9176.431608  1969.14  23075.25   \n",
       "L5             13932.0  25187.787261   8990.099353  1748.28  19416.00   \n",
       "\n",
       "                     50%        75%       max  \n",
       "Location_Type                                  \n",
       "L1             39831.000  48702.000  144789.0  \n",
       "L2             56235.975  69555.000  247215.0  \n",
       "L3             31987.200  39084.000  117495.0  \n",
       "L4             28554.000  34413.750   91677.0  \n",
       "L5             24528.000  30395.235   86203.2  "
      ]
     },
     "execution_count": 194,
     "metadata": {},
     "output_type": "execute_result"
    }
   ],
   "source": [
    "# LET'S CHECK THE SALES BY LOCATION_TYPE\n",
    "train.groupby(\"Location_Type\")['Sales'].describe()"
   ]
  },
  {
   "cell_type": "markdown",
   "metadata": {},
   "source": [
    "We can observe from the above table that,\n",
    "\n",
    "1. Mean Sales of Location_Type L5 is the lowest and sales of L2 is the highest.\n",
    "2. Min Sales of Location_Types L1, L2 and L3 are all 0 except L4 and L5.\n",
    "3. Maximum sales comes from Store_Type L2."
   ]
  },
  {
   "cell_type": "code",
   "execution_count": 195,
   "metadata": {},
   "outputs": [
    {
     "data": {
      "text/html": [
       "<div>\n",
       "<style scoped>\n",
       "    .dataframe tbody tr th:only-of-type {\n",
       "        vertical-align: middle;\n",
       "    }\n",
       "\n",
       "    .dataframe tbody tr th {\n",
       "        vertical-align: top;\n",
       "    }\n",
       "\n",
       "    .dataframe thead th {\n",
       "        text-align: right;\n",
       "    }\n",
       "</style>\n",
       "<table border=\"1\" class=\"dataframe\">\n",
       "  <thead>\n",
       "    <tr style=\"text-align: right;\">\n",
       "      <th></th>\n",
       "      <th>count</th>\n",
       "      <th>mean</th>\n",
       "      <th>std</th>\n",
       "      <th>min</th>\n",
       "      <th>25%</th>\n",
       "      <th>50%</th>\n",
       "      <th>75%</th>\n",
       "      <th>max</th>\n",
       "    </tr>\n",
       "    <tr>\n",
       "      <th>Region_Code</th>\n",
       "      <th></th>\n",
       "      <th></th>\n",
       "      <th></th>\n",
       "      <th></th>\n",
       "      <th></th>\n",
       "      <th></th>\n",
       "      <th></th>\n",
       "      <th></th>\n",
       "    </tr>\n",
       "  </thead>\n",
       "  <tbody>\n",
       "    <tr>\n",
       "      <th>R1</th>\n",
       "      <td>63984.0</td>\n",
       "      <td>46765.488405</td>\n",
       "      <td>21286.095441</td>\n",
       "      <td>0.0</td>\n",
       "      <td>32091.00</td>\n",
       "      <td>43125.0</td>\n",
       "      <td>57624.00</td>\n",
       "      <td>247215.0</td>\n",
       "    </tr>\n",
       "    <tr>\n",
       "      <th>R2</th>\n",
       "      <td>54180.0</td>\n",
       "      <td>40054.847344</td>\n",
       "      <td>16468.619529</td>\n",
       "      <td>0.0</td>\n",
       "      <td>29078.25</td>\n",
       "      <td>37548.0</td>\n",
       "      <td>48357.00</td>\n",
       "      <td>192156.0</td>\n",
       "    </tr>\n",
       "    <tr>\n",
       "      <th>R3</th>\n",
       "      <td>44376.0</td>\n",
       "      <td>42144.517063</td>\n",
       "      <td>16615.730308</td>\n",
       "      <td>0.0</td>\n",
       "      <td>30876.00</td>\n",
       "      <td>39661.5</td>\n",
       "      <td>50970.75</td>\n",
       "      <td>227127.0</td>\n",
       "    </tr>\n",
       "    <tr>\n",
       "      <th>R4</th>\n",
       "      <td>25800.0</td>\n",
       "      <td>39743.434249</td>\n",
       "      <td>15930.494396</td>\n",
       "      <td>2009.7</td>\n",
       "      <td>29195.64</td>\n",
       "      <td>37474.5</td>\n",
       "      <td>47796.00</td>\n",
       "      <td>161271.0</td>\n",
       "    </tr>\n",
       "  </tbody>\n",
       "</table>\n",
       "</div>"
      ],
      "text/plain": [
       "               count          mean           std     min       25%      50%  \\\n",
       "Region_Code                                                                   \n",
       "R1           63984.0  46765.488405  21286.095441     0.0  32091.00  43125.0   \n",
       "R2           54180.0  40054.847344  16468.619529     0.0  29078.25  37548.0   \n",
       "R3           44376.0  42144.517063  16615.730308     0.0  30876.00  39661.5   \n",
       "R4           25800.0  39743.434249  15930.494396  2009.7  29195.64  37474.5   \n",
       "\n",
       "                  75%       max  \n",
       "Region_Code                      \n",
       "R1           57624.00  247215.0  \n",
       "R2           48357.00  192156.0  \n",
       "R3           50970.75  227127.0  \n",
       "R4           47796.00  161271.0  "
      ]
     },
     "execution_count": 195,
     "metadata": {},
     "output_type": "execute_result"
    }
   ],
   "source": [
    "# LET'S CHECK THE SALES BY REGION_CODE\n",
    "train.groupby('Region_Code')['Sales'].describe()"
   ]
  },
  {
   "cell_type": "markdown",
   "metadata": {},
   "source": [
    "We can observe from the above table that,\n",
    "\n",
    "1. Mean Sales of Region_Code R4 is the lowest and sales of R1 is the highest.\n",
    "2. Min Sales of Region_Code R1, R2 and R3 are all 0 except R4.\n",
    "3. Maximum sales comes from Region_Code R1."
   ]
  },
  {
   "cell_type": "code",
   "execution_count": 196,
   "metadata": {},
   "outputs": [
    {
     "data": {
      "image/png": "[encoded data removed]",
      "text/plain": [
       "<Figure size 432x288 with 1 Axes>"
      ]
     },
     "metadata": {
      "needs_background": "light"
     },
     "output_type": "display_data"
    }
   ],
   "source": [
    "# LET'S CHECK IF THERE IS A RELATIONSHIP BETWEEN #ORDERS AND SALES\n",
    "sns.scatterplot(x=train['#Order'],y=train['Sales']);\n",
    "plt.title(\"Scatterplot of #Order Vs Sales\");"
   ]
  },
  {
   "cell_type": "markdown",
   "metadata": {},
   "source": [
    "We can see from the above scatterplot that as the number of orders increase, the sales increases too. The relationship is clearly linear in nature. "
   ]
  },
  {
   "cell_type": "code",
   "execution_count": 197,
   "metadata": {},
   "outputs": [
    {
     "data": {
      "text/html": [
       "<div>\n",
       "<style scoped>\n",
       "    .dataframe tbody tr th:only-of-type {\n",
       "        vertical-align: middle;\n",
       "    }\n",
       "\n",
       "    .dataframe tbody tr th {\n",
       "        vertical-align: top;\n",
       "    }\n",
       "\n",
       "    .dataframe thead th {\n",
       "        text-align: right;\n",
       "    }\n",
       "</style>\n",
       "<table border=\"1\" class=\"dataframe\">\n",
       "  <thead>\n",
       "    <tr style=\"text-align: right;\">\n",
       "      <th></th>\n",
       "      <th>count</th>\n",
       "      <th>mean</th>\n",
       "      <th>std</th>\n",
       "      <th>min</th>\n",
       "      <th>25%</th>\n",
       "      <th>50%</th>\n",
       "      <th>75%</th>\n",
       "      <th>max</th>\n",
       "    </tr>\n",
       "    <tr>\n",
       "      <th>Holiday</th>\n",
       "      <th></th>\n",
       "      <th></th>\n",
       "      <th></th>\n",
       "      <th></th>\n",
       "      <th></th>\n",
       "      <th></th>\n",
       "      <th></th>\n",
       "      <th></th>\n",
       "    </tr>\n",
       "  </thead>\n",
       "  <tbody>\n",
       "    <tr>\n",
       "      <th>0</th>\n",
       "      <td>163520.0</td>\n",
       "      <td>43897.288998</td>\n",
       "      <td>18143.426019</td>\n",
       "      <td>0.0</td>\n",
       "      <td>31389.00</td>\n",
       "      <td>40530.00</td>\n",
       "      <td>52761.000</td>\n",
       "      <td>247215.00</td>\n",
       "    </tr>\n",
       "    <tr>\n",
       "      <th>1</th>\n",
       "      <td>24820.0</td>\n",
       "      <td>35451.878930</td>\n",
       "      <td>18822.332593</td>\n",
       "      <td>0.0</td>\n",
       "      <td>23778.57</td>\n",
       "      <td>33417.54</td>\n",
       "      <td>45247.125</td>\n",
       "      <td>197840.61</td>\n",
       "    </tr>\n",
       "  </tbody>\n",
       "</table>\n",
       "</div>"
      ],
      "text/plain": [
       "            count          mean           std  min       25%       50%  \\\n",
       "Holiday                                                                  \n",
       "0        163520.0  43897.288998  18143.426019  0.0  31389.00  40530.00   \n",
       "1         24820.0  35451.878930  18822.332593  0.0  23778.57  33417.54   \n",
       "\n",
       "               75%        max  \n",
       "Holiday                        \n",
       "0        52761.000  247215.00  \n",
       "1        45247.125  197840.61  "
      ]
     },
     "execution_count": 197,
     "metadata": {},
     "output_type": "execute_result"
    }
   ],
   "source": [
    "# LET'S CHECK IF THE HOLIDAY HAS ANY AFFECT ON THE SALES.\n",
    "train.groupby('Holiday')['Sales'].describe()"
   ]
  },
  {
   "cell_type": "markdown",
   "metadata": {},
   "source": [
    "We can observe from the table above that the mean sales was lower when there was a holiday. This might be attributed to the fact that there are fewer holidas in a year. We can also see that the maximum sales were recorded when there was no holiday."
   ]
  },
  {
   "cell_type": "code",
   "execution_count": 198,
   "metadata": {},
   "outputs": [
    {
     "data": {
      "text/html": [
       "<div>\n",
       "<style scoped>\n",
       "    .dataframe tbody tr th:only-of-type {\n",
       "        vertical-align: middle;\n",
       "    }\n",
       "\n",
       "    .dataframe tbody tr th {\n",
       "        vertical-align: top;\n",
       "    }\n",
       "\n",
       "    .dataframe thead th {\n",
       "        text-align: right;\n",
       "    }\n",
       "</style>\n",
       "<table border=\"1\" class=\"dataframe\">\n",
       "  <thead>\n",
       "    <tr style=\"text-align: right;\">\n",
       "      <th></th>\n",
       "      <th>count</th>\n",
       "      <th>mean</th>\n",
       "      <th>std</th>\n",
       "      <th>min</th>\n",
       "      <th>25%</th>\n",
       "      <th>50%</th>\n",
       "      <th>75%</th>\n",
       "      <th>max</th>\n",
       "    </tr>\n",
       "    <tr>\n",
       "      <th>Discount</th>\n",
       "      <th></th>\n",
       "      <th></th>\n",
       "      <th></th>\n",
       "      <th></th>\n",
       "      <th></th>\n",
       "      <th></th>\n",
       "      <th></th>\n",
       "      <th></th>\n",
       "    </tr>\n",
       "  </thead>\n",
       "  <tbody>\n",
       "    <tr>\n",
       "      <th>No</th>\n",
       "      <td>104051.0</td>\n",
       "      <td>37403.679678</td>\n",
       "      <td>16039.555183</td>\n",
       "      <td>0.00</td>\n",
       "      <td>27069.00</td>\n",
       "      <td>34791.0</td>\n",
       "      <td>44968.5</td>\n",
       "      <td>197840.61</td>\n",
       "    </tr>\n",
       "    <tr>\n",
       "      <th>Yes</th>\n",
       "      <td>84289.0</td>\n",
       "      <td>49426.497620</td>\n",
       "      <td>19071.656642</td>\n",
       "      <td>1969.14</td>\n",
       "      <td>36625.35</td>\n",
       "      <td>46242.0</td>\n",
       "      <td>58869.0</td>\n",
       "      <td>247215.00</td>\n",
       "    </tr>\n",
       "  </tbody>\n",
       "</table>\n",
       "</div>"
      ],
      "text/plain": [
       "             count          mean           std      min       25%      50%  \\\n",
       "Discount                                                                     \n",
       "No        104051.0  37403.679678  16039.555183     0.00  27069.00  34791.0   \n",
       "Yes        84289.0  49426.497620  19071.656642  1969.14  36625.35  46242.0   \n",
       "\n",
       "              75%        max  \n",
       "Discount                      \n",
       "No        44968.5  197840.61  \n",
       "Yes       58869.0  247215.00  "
      ]
     },
     "execution_count": 198,
     "metadata": {},
     "output_type": "execute_result"
    }
   ],
   "source": [
    "# LET'S CHECK IF THE DISCOUNTS HAS ANY AFFECT ON THE SALES.\n",
    "train.groupby('Discount')['Sales'].describe()"
   ]
  },
  {
   "cell_type": "markdown",
   "metadata": {},
   "source": [
    "We can observe from the table above that the mean sales was higher when there was a discount although the number of days when there was a discount is less than the number of days when there was no discount. \n",
    "\n",
    "We can also see tat the minimum sales of 0 was recorded when there was no discount. \n",
    "\n",
    "We can also observe that maximum sales were recorded when there was a discount."
   ]
  },
  {
   "cell_type": "code",
   "execution_count": 199,
   "metadata": {},
   "outputs": [
    {
     "data": {
      "image/png": "[encoded data removed]",
      "text/plain": [
       "<Figure size 1152x288 with 1 Axes>"
      ]
     },
     "metadata": {
      "needs_background": "light"
     },
     "output_type": "display_data"
    }
   ],
   "source": [
    "# LET'S CHECK THE TREND OF SALES FOR THE ENTIRE TRAINING PERIOD. \n",
    "train.loc[:,['Date','Sales']].plot(x='Date',y='Sales',title='Sales Trend',figsize=(16,4));\n",
    "plt.ylabel(\"Sales\");"
   ]
  },
  {
   "cell_type": "markdown",
   "metadata": {},
   "source": [
    "We can observe that there is actually no trend here, it is neither increasing nor decreasing. It is almost constant with slight ups and downs. We may have to expand on it to get finer details.\n",
    "\n",
    "We do see that towards the end of the plot, the sales seems to be slightly higher than the rest of the plot.\n",
    "\n",
    "We can also expand the time series and see the sales by year, month quarter etc to get the finer details."
   ]
  },
  {
   "cell_type": "code",
   "execution_count": 200,
   "metadata": {},
   "outputs": [
    {
     "data": {
      "image/png": "[encoded data removed]",
      "text/plain": [
       "<Figure size 1152x288 with 1 Axes>"
      ]
     },
     "metadata": {
      "needs_background": "light"
     },
     "output_type": "display_data"
    }
   ],
   "source": [
    "# LET'S CHECK THE TREND OF ORDERS FOR THE ENTIRE TRAINING PERIOD. \n",
    "train.loc[:,['Date','#Order']].plot(x='Date',y='#Order',title='Orders Trend',figsize=(16,4));\n",
    "plt.ylabel(\"Orders\");"
   ]
  },
  {
   "cell_type": "markdown",
   "metadata": {},
   "source": [
    "We can see that the number of orders received follows the same graph as the sales.\n",
    "\n",
    "We can also observe that during tht Nov-Dec of 2018 there is a sudden dip in the Sales as well as the orders. We have to explore this further."
   ]
  },
  {
   "cell_type": "code",
   "execution_count": 201,
   "metadata": {},
   "outputs": [
    {
     "data": {
      "text/html": [
       "<div>\n",
       "<style scoped>\n",
       "    .dataframe tbody tr th:only-of-type {\n",
       "        vertical-align: middle;\n",
       "    }\n",
       "\n",
       "    .dataframe tbody tr th {\n",
       "        vertical-align: top;\n",
       "    }\n",
       "\n",
       "    .dataframe thead th {\n",
       "        text-align: right;\n",
       "    }\n",
       "</style>\n",
       "<table border=\"1\" class=\"dataframe\">\n",
       "  <thead>\n",
       "    <tr style=\"text-align: right;\">\n",
       "      <th></th>\n",
       "      <th>ID</th>\n",
       "      <th>Store_id</th>\n",
       "      <th>Store_Type</th>\n",
       "      <th>Location_Type</th>\n",
       "      <th>Region_Code</th>\n",
       "      <th>Date</th>\n",
       "      <th>Holiday</th>\n",
       "      <th>Discount</th>\n",
       "      <th>#Order</th>\n",
       "      <th>Sales</th>\n",
       "    </tr>\n",
       "  </thead>\n",
       "  <tbody>\n",
       "    <tr>\n",
       "      <th>112104</th>\n",
       "      <td>T1112105</td>\n",
       "      <td>67</td>\n",
       "      <td>S2</td>\n",
       "      <td>L5</td>\n",
       "      <td>R1</td>\n",
       "      <td>2018-11-04</td>\n",
       "      <td>0</td>\n",
       "      <td>No</td>\n",
       "      <td>9</td>\n",
       "      <td>5196.00</td>\n",
       "    </tr>\n",
       "    <tr>\n",
       "      <th>112564</th>\n",
       "      <td>T1112565</td>\n",
       "      <td>39</td>\n",
       "      <td>S4</td>\n",
       "      <td>L1</td>\n",
       "      <td>R1</td>\n",
       "      <td>2018-11-05</td>\n",
       "      <td>0</td>\n",
       "      <td>No</td>\n",
       "      <td>0</td>\n",
       "      <td>0.00</td>\n",
       "    </tr>\n",
       "    <tr>\n",
       "      <th>112853</th>\n",
       "      <td>T1112854</td>\n",
       "      <td>39</td>\n",
       "      <td>S4</td>\n",
       "      <td>L1</td>\n",
       "      <td>R1</td>\n",
       "      <td>2018-11-06</td>\n",
       "      <td>1</td>\n",
       "      <td>No</td>\n",
       "      <td>0</td>\n",
       "      <td>0.00</td>\n",
       "    </tr>\n",
       "    <tr>\n",
       "      <th>113150</th>\n",
       "      <td>T1113151</td>\n",
       "      <td>281</td>\n",
       "      <td>S1</td>\n",
       "      <td>L4</td>\n",
       "      <td>R1</td>\n",
       "      <td>2018-11-07</td>\n",
       "      <td>1</td>\n",
       "      <td>No</td>\n",
       "      <td>8</td>\n",
       "      <td>4386.15</td>\n",
       "    </tr>\n",
       "    <tr>\n",
       "      <th>113152</th>\n",
       "      <td>T1113153</td>\n",
       "      <td>321</td>\n",
       "      <td>S3</td>\n",
       "      <td>L1</td>\n",
       "      <td>R2</td>\n",
       "      <td>2018-11-07</td>\n",
       "      <td>1</td>\n",
       "      <td>No</td>\n",
       "      <td>8</td>\n",
       "      <td>4906.44</td>\n",
       "    </tr>\n",
       "    <tr>\n",
       "      <th>...</th>\n",
       "      <td>...</td>\n",
       "      <td>...</td>\n",
       "      <td>...</td>\n",
       "      <td>...</td>\n",
       "      <td>...</td>\n",
       "      <td>...</td>\n",
       "      <td>...</td>\n",
       "      <td>...</td>\n",
       "      <td>...</td>\n",
       "      <td>...</td>\n",
       "    </tr>\n",
       "    <tr>\n",
       "      <th>114238</th>\n",
       "      <td>T1114239</td>\n",
       "      <td>326</td>\n",
       "      <td>S3</td>\n",
       "      <td>L1</td>\n",
       "      <td>R1</td>\n",
       "      <td>2018-11-09</td>\n",
       "      <td>1</td>\n",
       "      <td>No</td>\n",
       "      <td>9</td>\n",
       "      <td>5687.55</td>\n",
       "    </tr>\n",
       "    <tr>\n",
       "      <th>114240</th>\n",
       "      <td>T1114241</td>\n",
       "      <td>159</td>\n",
       "      <td>S2</td>\n",
       "      <td>L1</td>\n",
       "      <td>R3</td>\n",
       "      <td>2018-11-09</td>\n",
       "      <td>1</td>\n",
       "      <td>No</td>\n",
       "      <td>6</td>\n",
       "      <td>4417.92</td>\n",
       "    </tr>\n",
       "    <tr>\n",
       "      <th>114242</th>\n",
       "      <td>T1114243</td>\n",
       "      <td>314</td>\n",
       "      <td>S1</td>\n",
       "      <td>L1</td>\n",
       "      <td>R2</td>\n",
       "      <td>2018-11-09</td>\n",
       "      <td>1</td>\n",
       "      <td>No</td>\n",
       "      <td>9</td>\n",
       "      <td>5366.55</td>\n",
       "    </tr>\n",
       "    <tr>\n",
       "      <th>114243</th>\n",
       "      <td>T1114244</td>\n",
       "      <td>287</td>\n",
       "      <td>S1</td>\n",
       "      <td>L4</td>\n",
       "      <td>R1</td>\n",
       "      <td>2018-11-09</td>\n",
       "      <td>1</td>\n",
       "      <td>No</td>\n",
       "      <td>8</td>\n",
       "      <td>4248.30</td>\n",
       "    </tr>\n",
       "    <tr>\n",
       "      <th>114244</th>\n",
       "      <td>T1114245</td>\n",
       "      <td>78</td>\n",
       "      <td>S1</td>\n",
       "      <td>L1</td>\n",
       "      <td>R4</td>\n",
       "      <td>2018-11-09</td>\n",
       "      <td>1</td>\n",
       "      <td>No</td>\n",
       "      <td>8</td>\n",
       "      <td>5345.67</td>\n",
       "    </tr>\n",
       "  </tbody>\n",
       "</table>\n",
       "<p>691 rows × 10 columns</p>\n",
       "</div>"
      ],
      "text/plain": [
       "              ID  Store_id Store_Type Location_Type Region_Code       Date  \\\n",
       "112104  T1112105        67         S2            L5          R1 2018-11-04   \n",
       "112564  T1112565        39         S4            L1          R1 2018-11-05   \n",
       "112853  T1112854        39         S4            L1          R1 2018-11-06   \n",
       "113150  T1113151       281         S1            L4          R1 2018-11-07   \n",
       "113152  T1113153       321         S3            L1          R2 2018-11-07   \n",
       "...          ...       ...        ...           ...         ...        ...   \n",
       "114238  T1114239       326         S3            L1          R1 2018-11-09   \n",
       "114240  T1114241       159         S2            L1          R3 2018-11-09   \n",
       "114242  T1114243       314         S1            L1          R2 2018-11-09   \n",
       "114243  T1114244       287         S1            L4          R1 2018-11-09   \n",
       "114244  T1114245        78         S1            L1          R4 2018-11-09   \n",
       "\n",
       "        Holiday Discount  #Order    Sales  \n",
       "112104        0       No       9  5196.00  \n",
       "112564        0       No       0     0.00  \n",
       "112853        1       No       0     0.00  \n",
       "113150        1       No       8  4386.15  \n",
       "113152        1       No       8  4906.44  \n",
       "...         ...      ...     ...      ...  \n",
       "114238        1       No       9  5687.55  \n",
       "114240        1       No       6  4417.92  \n",
       "114242        1       No       9  5366.55  \n",
       "114243        1       No       8  4248.30  \n",
       "114244        1       No       8  5345.67  \n",
       "\n",
       "[691 rows x 10 columns]"
      ]
     },
     "execution_count": 201,
     "metadata": {},
     "output_type": "execute_result"
    }
   ],
   "source": [
    "train[(train['Date'] > '2018-11-01')&(train['Date'] < '2018-11-15')&(train['#Order']<10)]"
   ]
  },
  {
   "cell_type": "markdown",
   "metadata": {},
   "source": [
    "We can see above tat there are 691 data points where the orders received were less than 10 during the period of Nov 1 2018 to Nov 15 2018.\n",
    "\n",
    "We can also see that there are some rows where the orders and sales are both 0. We can delete them. We can see below that there are 19 such rows."
   ]
  },
  {
   "cell_type": "code",
   "execution_count": 202,
   "metadata": {},
   "outputs": [
    {
     "data": {
      "text/plain": [
       "19"
      ]
     },
     "execution_count": 202,
     "metadata": {},
     "output_type": "execute_result"
    }
   ],
   "source": [
    "len(train[(train['#Order']==0)&(train['Sales']==0)])"
   ]
  },
  {
   "cell_type": "code",
   "execution_count": 203,
   "metadata": {},
   "outputs": [],
   "source": [
    "# LET'S GENERATE ADDITIONAL FEATURE USING THE DATE VARIABLE.\n",
    "def generate_datetime_features(df,columns):\n",
    "    # This function basically generates different datetime features based on its attributes.\n",
    "    # columns should be a list of columns that are datetime variables. \n",
    "\n",
    "    for col in columns:\n",
    "        df[col+\"_Year\"] = df[col].dt.year\n",
    "        df[col+\"_Quarter\"] = df[col].dt.quarter\n",
    "        df[col+\"_Month\"] = df[col].dt.month\n",
    "        df[col+\"_DayOfMonth\"] = df[col].dt.day\n",
    "        df[col+\"_DayOfWeek\"] = df[col].dt.dayofweek\n",
    "        df[col+\"_Is_Month_Start\"] = df[col].dt.is_month_start\n",
    "        df[col+\"_Is_Month_End\"] = df[col].dt.is_month_end\n",
    "        df[col+\"_Is_Quarter_Start\"] = df[col].dt.is_quarter_start\n",
    "        df[col+\"_Is_Quarter_End\"] = df[col].dt.is_quarter_end\n",
    "        df[col+'_Is_weekend'] = np.where(df[col+\"_DayOfWeek\"].isin([5,6]),1,0)\n",
    "    return df\n",
    "\n",
    "train = generate_datetime_features(train,['Date'])\n",
    "test  = generate_datetime_features(test,['Date'])"
   ]
  },
  {
   "cell_type": "code",
   "execution_count": 204,
   "metadata": {},
   "outputs": [
    {
     "data": {
      "image/png": "[encoded data removed]",
      "text/plain": [
       "<Figure size 432x288 with 1 Axes>"
      ]
     },
     "metadata": {
      "needs_background": "light"
     },
     "output_type": "display_data"
    }
   ],
   "source": [
    "# LET'S CHECK THE SALES ON MONTHLY BASIS\n",
    "train.groupby('Date_Month')['Sales'].mean().plot(kind='bar',color='red');\n",
    "plt.title(\"Average Monthly Sales\");\n",
    "plt.xlabel(\"Month\");\n",
    "plt.ylabel(\"Mean Sales\");\n",
    "plt.xticks(rotation=360);"
   ]
  },
  {
   "cell_type": "code",
   "execution_count": 205,
   "metadata": {},
   "outputs": [
    {
     "data": {
      "image/png": "[encoded data removed]",
      "text/plain": [
       "<Figure size 432x288 with 1 Axes>"
      ]
     },
     "metadata": {
      "needs_background": "light"
     },
     "output_type": "display_data"
    }
   ],
   "source": [
    "# LET'S CHECK THE SALES ON DAYS OF THE WEEK\n",
    "train.groupby('Date_DayOfWeek')['Sales'].mean().plot(kind='bar',color='green');\n",
    "plt.title(\"Average Daily Sales (0-Monday)\");\n",
    "plt.xlabel(\"Day Of Week\");\n",
    "plt.ylabel(\"Mean Sales\");\n",
    "plt.xticks(rotation=360);"
   ]
  },
  {
   "cell_type": "code",
   "execution_count": 206,
   "metadata": {},
   "outputs": [
    {
     "data": {
      "image/png": "[encoded data removed]",
      "text/plain": [
       "<Figure size 720x288 with 1 Axes>"
      ]
     },
     "metadata": {
      "needs_background": "light"
     },
     "output_type": "display_data"
    }
   ],
   "source": [
    "# LET'S CHECK THE SALES ON DAY OF MONTH\n",
    "train.groupby('Date_DayOfMonth')['Sales'].mean().plot(kind='bar',color='red',figsize=(10,4));\n",
    "plt.title(\"Average Sales By Day Of Month\");\n",
    "plt.xlabel(\"Day Of Month\");\n",
    "plt.ylabel(\"Mean Sales\");\n",
    "plt.xticks(rotation=360);"
   ]
  },
  {
   "cell_type": "code",
   "execution_count": 207,
   "metadata": {},
   "outputs": [
    {
     "data": {
      "image/png": "[encoded data removed]",
      "text/plain": [
       "<Figure size 1008x432 with 1 Axes>"
      ]
     },
     "metadata": {
      "needs_background": "light"
     },
     "output_type": "display_data"
    }
   ],
   "source": [
    "# LET'S CHECK THE SALES GROUPED BY YEAR-MONTH\n",
    "train.groupby(['Date_Year','Date_Month'])['Sales'].mean().plot(kind='bar',figsize=(14,6));\n",
    "plt.title(\"Average Sales Grouped By Year-Month\");\n",
    "plt.xlabel(\"Year-Month\");\n",
    "plt.ylabel(\"Mean Sales\");\n",
    "plt.xticks(rotation=90);"
   ]
  },
  {
   "cell_type": "code",
   "execution_count": 208,
   "metadata": {},
   "outputs": [
    {
     "data": {
      "image/png": "[encoded data removed]",
      "text/plain": [
       "<Figure size 432x288 with 1 Axes>"
      ]
     },
     "metadata": {
      "needs_background": "light"
     },
     "output_type": "display_data"
    }
   ],
   "source": [
    "# LET'S CHECK THE SALES ON WEEKDAYS / WEEKENDS\n",
    "train.groupby('Date_Is_weekend')['Sales'].mean().plot(kind='bar',color='red');\n",
    "plt.title('Average Sales On Weekdays / Weekends');\n",
    "plt.xlabel(\"Weekday/Weekend\");\n",
    "plt.ylabel(\"Mean Sales\");\n",
    "plt.xticks(rotation=360);"
   ]
  },
  {
   "cell_type": "code",
   "execution_count": 209,
   "metadata": {},
   "outputs": [
    {
     "data": {
      "image/png": "[encoded data removed]",
      "text/plain": [
       "<Figure size 432x288 with 1 Axes>"
      ]
     },
     "metadata": {
      "needs_background": "light"
     },
     "output_type": "display_data"
    }
   ],
   "source": [
    "# LET'S CHECK THE SALES WHEN THERE IS A HOLIDAY\n",
    "train.groupby('Holiday')['Sales'].mean().plot(kind='bar',color='blue');\n",
    "plt.title('Average Sales On Holiday / No Holiday');\n",
    "plt.xlabel(\"Holiday/No Holiday\");\n",
    "plt.ylabel(\"Mean Sales\");\n",
    "plt.xticks(rotation=360);"
   ]
  },
  {
   "cell_type": "code",
   "execution_count": 210,
   "metadata": {},
   "outputs": [
    {
     "data": {
      "image/png": "[encoded data removed]",
      "text/plain": [
       "<Figure size 432x288 with 1 Axes>"
      ]
     },
     "metadata": {
      "needs_background": "light"
     },
     "output_type": "display_data"
    }
   ],
   "source": [
    "# LET'S CHECK THE SALES WHEN THERE IS A DISCOUNT\n",
    "train.groupby('Discount')['Sales'].mean().plot(kind='bar',color='green');\n",
    "plt.title('Average Sales On Discount / No Discount');\n",
    "plt.xlabel(\"Discount/No Discount\");\n",
    "plt.ylabel(\"Mean Sales\");\n",
    "plt.xticks(rotation=360);"
   ]
  },
  {
   "cell_type": "markdown",
   "metadata": {},
   "source": [
    "We can observe the following from the few plots above,\n",
    "\n",
    "1. Sales are higher during the months of January, May-July, December, but during the other months it is lower and it remains almost the same.\n",
    "2. Sales are higher on Saturdays and Sundays, on te other days it is almost constant. \n",
    "3. We do not observe any significant pattern in the Day of the month plot. Although the sales are higher on the 4th Day of each month. This is surprising because it is neither at the beginning of the month or at the end (Thses are the pay days).\n",
    "4. 2019 May had the highest average sales compared to the other months. \n",
    "5. Like we had observed earlier, the sales are higher in January, May-July and December of 2018 and January, May of 2019. \n",
    "6. We can see that the average sales is slightly higher during the weekends as compared to weekdays.\n",
    "7. We can see that the average sales are lower when there is a holiday as compared to other days. This may be because people prefer to stay at home during the holidays.\n",
    "8. We can observe that the sales are higher when there is a discount as compared to no discount days."
   ]
  },
  {
   "cell_type": "markdown",
   "metadata": {},
   "source": [
    "### Correlation"
   ]
  },
  {
   "cell_type": "code",
   "execution_count": 211,
   "metadata": {},
   "outputs": [
    {
     "data": {
      "image/png": "[encoded data removed]",
      "text/plain": [
       "<Figure size 1008x576 with 2 Axes>"
      ]
     },
     "metadata": {
      "needs_background": "light"
     },
     "output_type": "display_data"
    }
   ],
   "source": [
    "plt.figure(figsize=(14, 8));\n",
    "plt.title(\"Correlation between Numerical Variables\");\n",
    "_ = sns.heatmap(train.corr(), annot=True)"
   ]
  },
  {
   "cell_type": "markdown",
   "metadata": {},
   "source": [
    "### Feature Engineering"
   ]
  },
  {
   "cell_type": "code",
   "execution_count": 212,
   "metadata": {},
   "outputs": [],
   "source": [
    "# DELETING THE ROWS WHERE BOTH ORDERS AND SALES ARE 0\n",
    "train.drop(train[(train['#Order']==0)&(train['Sales']==0)].index,axis=0,inplace=True)"
   ]
  },
  {
   "cell_type": "code",
   "execution_count": 213,
   "metadata": {},
   "outputs": [],
   "source": [
    "# CONCATENATING HOLIDAY AND DISCOUNT VARIABLES\n",
    "train['Holiday_Discount'] = str(train['Holiday'])+\"_\"+train['Discount']\n",
    "test['Holiday_Discount'] = str(test['Holiday'])+\"_\"+test['Discount']\n",
    "\n",
    "train['Store_Type_Location_Type'] = train['Store_Type']+\"_\"+train['Location_Type']\n",
    "test['Store_Type_Location_Type'] = test['Store_Type']+\"_\"+test['Location_Type']\n",
    "\n",
    "train['Region_Code_Location_Type'] = train['Region_Code']+\"_\"+train['Location_Type']\n",
    "test['Region_Code_Location_Type'] = test['Region_Code']+\"_\"+test['Location_Type']"
   ]
  },
  {
   "cell_type": "code",
   "execution_count": 214,
   "metadata": {},
   "outputs": [],
   "source": [
    "# GENERATING GROUPBY FEATURES\n",
    "train['Unique_Store_id_Per_Store_Type'] = train.groupby('Store_Type')['Store_id'].transform('nunique')\n",
    "train['Unique_Store_id_Per_Location_Type'] = train.groupby('Location_Type')['Store_id'].transform('nunique')\n",
    "train['Unique_Store_id_Per_Region_Code'] = train.groupby('Region_Code')['Store_id'].transform('nunique')\n",
    "train['Unique_Store_Type_Per_Location_Type'] = train.groupby('Location_Type')['Store_Type'].transform('nunique')\n",
    "train['Unique_Store_Type_Per_Region_Code'] = train.groupby('Region_Code')['Store_Type'].transform('nunique')\n",
    "\n",
    "\n",
    "test['Unique_Store_id_Per_Store_Type'] = test.groupby('Store_Type')['Store_id'].transform('nunique')\n",
    "test['Unique_Store_id_Per_Location_Type'] = test.groupby('Location_Type')['Store_id'].transform('nunique')\n",
    "test['Unique_Store_id_Per_Region_Code'] = test.groupby('Region_Code')['Store_id'].transform('nunique')\n",
    "test['Unique_Store_Type_Per_Location_Type'] = test.groupby('Location_Type')['Store_Type'].transform('nunique')\n",
    "test['Unique_Store_Type_Per_Region_Code'] = test.groupby('Region_Code')['Store_Type'].transform('nunique')"
   ]
  },
  {
   "cell_type": "code",
   "execution_count": 215,
   "metadata": {},
   "outputs": [],
   "source": [
    "# DELETING THE Date_Year COLUMN AS IT HAS ONLY TWO UNIQUE VALUES IN TRAIN AND 1 UNIQUE VALUE IN TEST DATASETS.\n",
    "train.drop(\"Date_Year\",axis=1,inplace=True)\n",
    "test.drop(\"Date_Year\",axis=1,inplace=True)"
   ]
  },
  {
   "cell_type": "code",
   "execution_count": 216,
   "metadata": {},
   "outputs": [],
   "source": [
    "# LABEL ENCODING THE CATEGORICAL COLUMNS\n",
    "label_encoder = LabelEncoder()\n",
    "\n",
    "def label_encoding(df,columns):\n",
    "    '''This function basically generates label encoded features of cateorical columns.\n",
    "    columns should be a list of columns that are categorical variables. '''\n",
    "    \n",
    "    for col in columns:\n",
    "        df[col] = label_encoder.fit_transform(df[col])\n",
    "    \n",
    "    return df\n",
    "\n",
    "train = label_encoding(train,['Store_Type','Location_Type','Region_Code','Discount','Holiday_Discount','Store_Type_Location_Type','Region_Code_Location_Type'])\n",
    "test  = label_encoding(test,['Store_Type','Location_Type','Region_Code','Discount','Holiday_Discount','Store_Type_Location_Type','Region_Code_Location_Type'])"
   ]
  },
  {
   "cell_type": "code",
   "execution_count": 217,
   "metadata": {},
   "outputs": [],
   "source": [
    "# DROPPING UNNECESSARY COLUMNS\n",
    "train.drop(['ID','#Order'],axis=1,inplace=True)\n",
    "test.drop(['ID','Date'],axis=1,inplace=True)"
   ]
  },
  {
   "cell_type": "code",
   "execution_count": 218,
   "metadata": {},
   "outputs": [],
   "source": [
    "# SORTING THE DATASETS FOR ORDERING OF COLUMNS.\n",
    "train.sort_index(axis=1, inplace=True)\n",
    "test.sort_index(axis=1,inplace=True)"
   ]
  },
  {
   "cell_type": "code",
   "execution_count": 219,
   "metadata": {},
   "outputs": [],
   "source": [
    "# TRAINING AND VALIDATION DATASETS.\n",
    "training_data=train[train['Date']<'2019-04-01']\n",
    "validation_data=train[train['Date']>='2019-04-01'] "
   ]
  },
  {
   "cell_type": "code",
   "execution_count": 220,
   "metadata": {},
   "outputs": [],
   "source": [
    "# CREATING TRAINING AND VALIDATION SETS\n",
    "x_train=training_data.drop(columns={'Date','Sales'},axis=1)\n",
    "y_train=training_data.loc[:,['Sales']]\n",
    "\n",
    "x_val=validation_data.drop(columns={'Date','Sales'},axis=1)\n",
    "y_val=validation_data.loc[:,['Sales']]"
   ]
  },
  {
   "cell_type": "code",
   "execution_count": 221,
   "metadata": {},
   "outputs": [
    {
     "name": "stdout",
     "output_type": "stream",
     "text": [
      "(166060, 23)\n",
      "(166060, 1)\n",
      "(22261, 23)\n",
      "(22261, 1)\n"
     ]
    }
   ],
   "source": [
    "print (x_train.shape)\n",
    "print (y_train.shape)\n",
    "print (x_val.shape)\n",
    "print (y_val.shape)"
   ]
  },
  {
   "cell_type": "code",
   "execution_count": 223,
   "metadata": {},
   "outputs": [
    {
     "name": "stdout",
     "output_type": "stream",
     "text": [
      "[0]\tvalidation_0-rmsle:4.57682\tvalidation_1-rmsle:4.66737\n",
      "Multiple eval metrics have been passed: 'validation_1-rmsle' will be used for early stopping.\n",
      "\n",
      "Will train until validation_1-rmsle hasn't improved in 100 rounds.\n",
      "[1]\tvalidation_0-rmsle:3.89098\tvalidation_1-rmsle:3.99333\n",
      "[2]\tvalidation_0-rmsle:3.49259\tvalidation_1-rmsle:3.59989\n",
      "[3]\tvalidation_0-rmsle:3.20889\tvalidation_1-rmsle:3.31021\n",
      "[4]\tvalidation_0-rmsle:2.99001\tvalidation_1-rmsle:3.08162\n",
      "[5]\tvalidation_0-rmsle:2.81311\tvalidation_1-rmsle:2.89892\n",
      "[6]\tvalidation_0-rmsle:2.66508\tvalidation_1-rmsle:2.75323\n",
      "[7]\tvalidation_0-rmsle:2.53736\tvalidation_1-rmsle:2.62411\n",
      "[8]\tvalidation_0-rmsle:2.42519\tvalidation_1-rmsle:2.50899\n",
      "[9]\tvalidation_0-rmsle:2.32566\tvalidation_1-rmsle:2.41031\n",
      "[10]\tvalidation_0-rmsle:2.23611\tvalidation_1-rmsle:2.32160\n",
      "[11]\tvalidation_0-rmsle:2.15307\tvalidation_1-rmsle:2.23496\n",
      "[12]\tvalidation_0-rmsle:2.07883\tvalidation_1-rmsle:2.16044\n",
      "[13]\tvalidation_0-rmsle:2.01006\tvalidation_1-rmsle:2.08990\n",
      "[14]\tvalidation_0-rmsle:1.94682\tvalidation_1-rmsle:2.02755\n",
      "[15]\tvalidation_0-rmsle:1.88779\tvalidation_1-rmsle:1.96833\n",
      "[16]\tvalidation_0-rmsle:1.83280\tvalidation_1-rmsle:1.91413\n",
      "[17]\tvalidation_0-rmsle:1.78131\tvalidation_1-rmsle:1.86301\n",
      "[18]\tvalidation_0-rmsle:1.73287\tvalidation_1-rmsle:1.81513\n",
      "[19]\tvalidation_0-rmsle:1.68711\tvalidation_1-rmsle:1.77009\n",
      "[20]\tvalidation_0-rmsle:1.64382\tvalidation_1-rmsle:1.72756\n",
      "[21]\tvalidation_0-rmsle:1.60284\tvalidation_1-rmsle:1.68748\n",
      "[22]\tvalidation_0-rmsle:1.56393\tvalidation_1-rmsle:1.64900\n",
      "[23]\tvalidation_0-rmsle:1.52690\tvalidation_1-rmsle:1.61254\n",
      "[24]\tvalidation_0-rmsle:1.49158\tvalidation_1-rmsle:1.57750\n",
      "[25]\tvalidation_0-rmsle:1.45770\tvalidation_1-rmsle:1.54251\n",
      "[26]\tvalidation_0-rmsle:1.42542\tvalidation_1-rmsle:1.51060\n",
      "[27]\tvalidation_0-rmsle:1.39435\tvalidation_1-rmsle:1.47911\n",
      "[28]\tvalidation_0-rmsle:1.36455\tvalidation_1-rmsle:1.44883\n",
      "[29]\tvalidation_0-rmsle:1.33608\tvalidation_1-rmsle:1.42075\n",
      "[30]\tvalidation_0-rmsle:1.30869\tvalidation_1-rmsle:1.39312\n",
      "[31]\tvalidation_0-rmsle:1.28212\tvalidation_1-rmsle:1.36572\n",
      "[32]\tvalidation_0-rmsle:1.25677\tvalidation_1-rmsle:1.34019\n",
      "[33]\tvalidation_0-rmsle:1.23233\tvalidation_1-rmsle:1.31618\n",
      "[34]\tvalidation_0-rmsle:1.20872\tvalidation_1-rmsle:1.29293\n",
      "[35]\tvalidation_0-rmsle:1.18592\tvalidation_1-rmsle:1.26920\n",
      "[36]\tvalidation_0-rmsle:1.16387\tvalidation_1-rmsle:1.24745\n",
      "[37]\tvalidation_0-rmsle:1.14259\tvalidation_1-rmsle:1.22660\n",
      "[38]\tvalidation_0-rmsle:1.12184\tvalidation_1-rmsle:1.20578\n",
      "[39]\tvalidation_0-rmsle:1.10183\tvalidation_1-rmsle:1.18615\n",
      "[40]\tvalidation_0-rmsle:1.08248\tvalidation_1-rmsle:1.16688\n",
      "[41]\tvalidation_0-rmsle:1.06360\tvalidation_1-rmsle:1.14793\n",
      "[42]\tvalidation_0-rmsle:1.04540\tvalidation_1-rmsle:1.13014\n",
      "[43]\tvalidation_0-rmsle:1.02772\tvalidation_1-rmsle:1.11265\n",
      "[44]\tvalidation_0-rmsle:1.01039\tvalidation_1-rmsle:1.09510\n",
      "[45]\tvalidation_0-rmsle:0.99358\tvalidation_1-rmsle:1.07812\n",
      "[46]\tvalidation_0-rmsle:0.97732\tvalidation_1-rmsle:1.06194\n",
      "[47]\tvalidation_0-rmsle:0.96156\tvalidation_1-rmsle:1.04556\n",
      "[48]\tvalidation_0-rmsle:0.94620\tvalidation_1-rmsle:1.03012\n",
      "[49]\tvalidation_0-rmsle:0.93123\tvalidation_1-rmsle:1.01548\n",
      "[50]\tvalidation_0-rmsle:0.91672\tvalidation_1-rmsle:1.00029\n",
      "[51]\tvalidation_0-rmsle:0.90228\tvalidation_1-rmsle:0.98593\n",
      "[52]\tvalidation_0-rmsle:0.88845\tvalidation_1-rmsle:0.97245\n",
      "[53]\tvalidation_0-rmsle:0.87507\tvalidation_1-rmsle:0.95842\n",
      "[54]\tvalidation_0-rmsle:0.86201\tvalidation_1-rmsle:0.94477\n",
      "[55]\tvalidation_0-rmsle:0.84930\tvalidation_1-rmsle:0.93148\n",
      "[56]\tvalidation_0-rmsle:0.83691\tvalidation_1-rmsle:0.91871\n",
      "[57]\tvalidation_0-rmsle:0.82474\tvalidation_1-rmsle:0.90674\n",
      "[58]\tvalidation_0-rmsle:0.81287\tvalidation_1-rmsle:0.89508\n",
      "[59]\tvalidation_0-rmsle:0.80136\tvalidation_1-rmsle:0.88298\n",
      "[60]\tvalidation_0-rmsle:0.79002\tvalidation_1-rmsle:0.87181\n",
      "[61]\tvalidation_0-rmsle:0.77873\tvalidation_1-rmsle:0.86069\n",
      "[62]\tvalidation_0-rmsle:0.76794\tvalidation_1-rmsle:0.85015\n",
      "[63]\tvalidation_0-rmsle:0.75740\tvalidation_1-rmsle:0.83981\n",
      "[64]\tvalidation_0-rmsle:0.74696\tvalidation_1-rmsle:0.82939\n",
      "[65]\tvalidation_0-rmsle:0.73696\tvalidation_1-rmsle:0.81886\n",
      "[66]\tvalidation_0-rmsle:0.72709\tvalidation_1-rmsle:0.80915\n",
      "[67]\tvalidation_0-rmsle:0.71744\tvalidation_1-rmsle:0.79961\n",
      "[68]\tvalidation_0-rmsle:0.70803\tvalidation_1-rmsle:0.79041\n",
      "[69]\tvalidation_0-rmsle:0.69883\tvalidation_1-rmsle:0.78129\n",
      "[70]\tvalidation_0-rmsle:0.68964\tvalidation_1-rmsle:0.77191\n",
      "[71]\tvalidation_0-rmsle:0.68079\tvalidation_1-rmsle:0.76332\n",
      "[72]\tvalidation_0-rmsle:0.67206\tvalidation_1-rmsle:0.75444\n",
      "[73]\tvalidation_0-rmsle:0.66360\tvalidation_1-rmsle:0.74611\n",
      "[74]\tvalidation_0-rmsle:0.65540\tvalidation_1-rmsle:0.73747\n",
      "[75]\tvalidation_0-rmsle:0.64726\tvalidation_1-rmsle:0.72950\n",
      "[76]\tvalidation_0-rmsle:0.63929\tvalidation_1-rmsle:0.72164\n",
      "[77]\tvalidation_0-rmsle:0.63152\tvalidation_1-rmsle:0.71398\n",
      "[78]\tvalidation_0-rmsle:0.62388\tvalidation_1-rmsle:0.70644\n",
      "[79]\tvalidation_0-rmsle:0.61639\tvalidation_1-rmsle:0.69907\n",
      "[80]\tvalidation_0-rmsle:0.60905\tvalidation_1-rmsle:0.69176\n",
      "[81]\tvalidation_0-rmsle:0.60191\tvalidation_1-rmsle:0.68480\n",
      "[82]\tvalidation_0-rmsle:0.59499\tvalidation_1-rmsle:0.67744\n",
      "[83]\tvalidation_0-rmsle:0.58808\tvalidation_1-rmsle:0.67068\n",
      "[84]\tvalidation_0-rmsle:0.58131\tvalidation_1-rmsle:0.66402\n",
      "[85]\tvalidation_0-rmsle:0.57470\tvalidation_1-rmsle:0.65743\n",
      "[86]\tvalidation_0-rmsle:0.56819\tvalidation_1-rmsle:0.65102\n",
      "[87]\tvalidation_0-rmsle:0.56183\tvalidation_1-rmsle:0.64472\n",
      "[88]\tvalidation_0-rmsle:0.55558\tvalidation_1-rmsle:0.63859\n",
      "[89]\tvalidation_0-rmsle:0.54949\tvalidation_1-rmsle:0.63250\n",
      "[90]\tvalidation_0-rmsle:0.54363\tvalidation_1-rmsle:0.62611\n",
      "[91]\tvalidation_0-rmsle:0.53787\tvalidation_1-rmsle:0.62001\n",
      "[92]\tvalidation_0-rmsle:0.53208\tvalidation_1-rmsle:0.61438\n",
      "[93]\tvalidation_0-rmsle:0.52634\tvalidation_1-rmsle:0.60862\n",
      "[94]\tvalidation_0-rmsle:0.52079\tvalidation_1-rmsle:0.60315\n",
      "[95]\tvalidation_0-rmsle:0.51547\tvalidation_1-rmsle:0.59766\n",
      "[96]\tvalidation_0-rmsle:0.51000\tvalidation_1-rmsle:0.59227\n",
      "[97]\tvalidation_0-rmsle:0.50475\tvalidation_1-rmsle:0.58705\n",
      "[98]\tvalidation_0-rmsle:0.49970\tvalidation_1-rmsle:0.58156\n",
      "[99]\tvalidation_0-rmsle:0.49468\tvalidation_1-rmsle:0.57664\n",
      "[100]\tvalidation_0-rmsle:0.48976\tvalidation_1-rmsle:0.57172\n",
      "[101]\tvalidation_0-rmsle:0.48488\tvalidation_1-rmsle:0.56692\n",
      "[102]\tvalidation_0-rmsle:0.48013\tvalidation_1-rmsle:0.56222\n",
      "[103]\tvalidation_0-rmsle:0.47550\tvalidation_1-rmsle:0.55759\n",
      "[104]\tvalidation_0-rmsle:0.47091\tvalidation_1-rmsle:0.55312\n",
      "[105]\tvalidation_0-rmsle:0.46644\tvalidation_1-rmsle:0.54859\n",
      "[106]\tvalidation_0-rmsle:0.46199\tvalidation_1-rmsle:0.54428\n",
      "[107]\tvalidation_0-rmsle:0.45761\tvalidation_1-rmsle:0.53978\n",
      "[108]\tvalidation_0-rmsle:0.45336\tvalidation_1-rmsle:0.53561\n",
      "[109]\tvalidation_0-rmsle:0.44923\tvalidation_1-rmsle:0.53119\n",
      "[110]\tvalidation_0-rmsle:0.44510\tvalidation_1-rmsle:0.52719\n",
      "[111]\tvalidation_0-rmsle:0.44106\tvalidation_1-rmsle:0.52331\n",
      "[112]\tvalidation_0-rmsle:0.43725\tvalidation_1-rmsle:0.51906\n",
      "[113]\tvalidation_0-rmsle:0.43348\tvalidation_1-rmsle:0.51488\n",
      "[114]\tvalidation_0-rmsle:0.42969\tvalidation_1-rmsle:0.51101\n",
      "[115]\tvalidation_0-rmsle:0.42591\tvalidation_1-rmsle:0.50729\n",
      "[116]\tvalidation_0-rmsle:0.42236\tvalidation_1-rmsle:0.50331\n",
      "[117]\tvalidation_0-rmsle:0.41876\tvalidation_1-rmsle:0.49979\n",
      "[118]\tvalidation_0-rmsle:0.41508\tvalidation_1-rmsle:0.49592\n",
      "[119]\tvalidation_0-rmsle:0.41175\tvalidation_1-rmsle:0.49218\n",
      "[120]\tvalidation_0-rmsle:0.40848\tvalidation_1-rmsle:0.48846\n",
      "[121]\tvalidation_0-rmsle:0.40526\tvalidation_1-rmsle:0.48481\n",
      "[122]\tvalidation_0-rmsle:0.40197\tvalidation_1-rmsle:0.48160\n",
      "[123]\tvalidation_0-rmsle:0.39891\tvalidation_1-rmsle:0.47814\n",
      "[124]\tvalidation_0-rmsle:0.39592\tvalidation_1-rmsle:0.47473\n",
      "[125]\tvalidation_0-rmsle:0.39283\tvalidation_1-rmsle:0.47161\n",
      "[126]\tvalidation_0-rmsle:0.38973\tvalidation_1-rmsle:0.46861\n",
      "[127]\tvalidation_0-rmsle:0.38693\tvalidation_1-rmsle:0.46531\n",
      "[128]\tvalidation_0-rmsle:0.38404\tvalidation_1-rmsle:0.46238\n",
      "[129]\tvalidation_0-rmsle:0.38121\tvalidation_1-rmsle:0.45945\n",
      "[130]\tvalidation_0-rmsle:0.37823\tvalidation_1-rmsle:0.45637\n",
      "[131]\tvalidation_0-rmsle:0.37537\tvalidation_1-rmsle:0.45341\n",
      "[132]\tvalidation_0-rmsle:0.37248\tvalidation_1-rmsle:0.45072\n",
      "[133]\tvalidation_0-rmsle:0.36981\tvalidation_1-rmsle:0.44804\n",
      "[134]\tvalidation_0-rmsle:0.36714\tvalidation_1-rmsle:0.44533\n",
      "[135]\tvalidation_0-rmsle:0.36466\tvalidation_1-rmsle:0.44266\n"
     ]
    },
    {
     "name": "stdout",
     "output_type": "stream",
     "text": [
      "[136]\tvalidation_0-rmsle:0.36228\tvalidation_1-rmsle:0.43984\n",
      "[137]\tvalidation_0-rmsle:0.35975\tvalidation_1-rmsle:0.43734\n",
      "[138]\tvalidation_0-rmsle:0.35731\tvalidation_1-rmsle:0.43498\n",
      "[139]\tvalidation_0-rmsle:0.35486\tvalidation_1-rmsle:0.43266\n",
      "[140]\tvalidation_0-rmsle:0.35241\tvalidation_1-rmsle:0.43015\n",
      "[141]\tvalidation_0-rmsle:0.35001\tvalidation_1-rmsle:0.42769\n",
      "[142]\tvalidation_0-rmsle:0.34770\tvalidation_1-rmsle:0.42543\n",
      "[143]\tvalidation_0-rmsle:0.34561\tvalidation_1-rmsle:0.42293\n",
      "[144]\tvalidation_0-rmsle:0.34340\tvalidation_1-rmsle:0.42070\n",
      "[145]\tvalidation_0-rmsle:0.34120\tvalidation_1-rmsle:0.41853\n",
      "[146]\tvalidation_0-rmsle:0.33905\tvalidation_1-rmsle:0.41647\n",
      "[147]\tvalidation_0-rmsle:0.33714\tvalidation_1-rmsle:0.41418\n",
      "[148]\tvalidation_0-rmsle:0.33501\tvalidation_1-rmsle:0.41198\n",
      "[149]\tvalidation_0-rmsle:0.33310\tvalidation_1-rmsle:0.40990\n",
      "[150]\tvalidation_0-rmsle:0.33108\tvalidation_1-rmsle:0.40781\n",
      "[151]\tvalidation_0-rmsle:0.32911\tvalidation_1-rmsle:0.40580\n",
      "[152]\tvalidation_0-rmsle:0.32718\tvalidation_1-rmsle:0.40390\n",
      "[153]\tvalidation_0-rmsle:0.32522\tvalidation_1-rmsle:0.40208\n",
      "[154]\tvalidation_0-rmsle:0.32332\tvalidation_1-rmsle:0.40011\n",
      "[155]\tvalidation_0-rmsle:0.32151\tvalidation_1-rmsle:0.39835\n",
      "[156]\tvalidation_0-rmsle:0.31981\tvalidation_1-rmsle:0.39649\n",
      "[157]\tvalidation_0-rmsle:0.31811\tvalidation_1-rmsle:0.39462\n",
      "[158]\tvalidation_0-rmsle:0.31638\tvalidation_1-rmsle:0.39285\n",
      "[159]\tvalidation_0-rmsle:0.31483\tvalidation_1-rmsle:0.39093\n",
      "[160]\tvalidation_0-rmsle:0.31321\tvalidation_1-rmsle:0.38914\n",
      "[161]\tvalidation_0-rmsle:0.31168\tvalidation_1-rmsle:0.38747\n",
      "[162]\tvalidation_0-rmsle:0.31015\tvalidation_1-rmsle:0.38576\n",
      "[163]\tvalidation_0-rmsle:0.30877\tvalidation_1-rmsle:0.38396\n",
      "[164]\tvalidation_0-rmsle:0.30724\tvalidation_1-rmsle:0.38237\n",
      "[165]\tvalidation_0-rmsle:0.30575\tvalidation_1-rmsle:0.38079\n",
      "[166]\tvalidation_0-rmsle:0.30435\tvalidation_1-rmsle:0.37904\n",
      "[167]\tvalidation_0-rmsle:0.30305\tvalidation_1-rmsle:0.37738\n",
      "[168]\tvalidation_0-rmsle:0.30182\tvalidation_1-rmsle:0.37571\n",
      "[169]\tvalidation_0-rmsle:0.30037\tvalidation_1-rmsle:0.37421\n",
      "[170]\tvalidation_0-rmsle:0.29895\tvalidation_1-rmsle:0.37274\n",
      "[171]\tvalidation_0-rmsle:0.29762\tvalidation_1-rmsle:0.37126\n",
      "[172]\tvalidation_0-rmsle:0.29625\tvalidation_1-rmsle:0.36982\n",
      "[173]\tvalidation_0-rmsle:0.29507\tvalidation_1-rmsle:0.36827\n",
      "[174]\tvalidation_0-rmsle:0.29388\tvalidation_1-rmsle:0.36698\n",
      "[175]\tvalidation_0-rmsle:0.29278\tvalidation_1-rmsle:0.36550\n",
      "[176]\tvalidation_0-rmsle:0.29155\tvalidation_1-rmsle:0.36429\n",
      "[177]\tvalidation_0-rmsle:0.29031\tvalidation_1-rmsle:0.36322\n",
      "[178]\tvalidation_0-rmsle:0.28923\tvalidation_1-rmsle:0.36178\n",
      "[179]\tvalidation_0-rmsle:0.28821\tvalidation_1-rmsle:0.36037\n",
      "[180]\tvalidation_0-rmsle:0.28705\tvalidation_1-rmsle:0.35916\n",
      "[181]\tvalidation_0-rmsle:0.28597\tvalidation_1-rmsle:0.35805\n",
      "[182]\tvalidation_0-rmsle:0.28489\tvalidation_1-rmsle:0.35689\n",
      "[183]\tvalidation_0-rmsle:0.28396\tvalidation_1-rmsle:0.35556\n",
      "[184]\tvalidation_0-rmsle:0.28303\tvalidation_1-rmsle:0.35448\n",
      "[185]\tvalidation_0-rmsle:0.28206\tvalidation_1-rmsle:0.35332\n",
      "[186]\tvalidation_0-rmsle:0.28094\tvalidation_1-rmsle:0.35231\n",
      "[187]\tvalidation_0-rmsle:0.27991\tvalidation_1-rmsle:0.35130\n",
      "[188]\tvalidation_0-rmsle:0.27886\tvalidation_1-rmsle:0.35026\n",
      "[189]\tvalidation_0-rmsle:0.27780\tvalidation_1-rmsle:0.34909\n",
      "[190]\tvalidation_0-rmsle:0.27691\tvalidation_1-rmsle:0.34803\n",
      "[191]\tvalidation_0-rmsle:0.27596\tvalidation_1-rmsle:0.34716\n",
      "[192]\tvalidation_0-rmsle:0.27498\tvalidation_1-rmsle:0.34613\n",
      "[193]\tvalidation_0-rmsle:0.27402\tvalidation_1-rmsle:0.34510\n",
      "[194]\tvalidation_0-rmsle:0.27301\tvalidation_1-rmsle:0.34407\n",
      "[195]\tvalidation_0-rmsle:0.27223\tvalidation_1-rmsle:0.34311\n",
      "[196]\tvalidation_0-rmsle:0.27139\tvalidation_1-rmsle:0.34223\n",
      "[197]\tvalidation_0-rmsle:0.27075\tvalidation_1-rmsle:0.34122\n",
      "[198]\tvalidation_0-rmsle:0.26992\tvalidation_1-rmsle:0.34025\n",
      "[199]\tvalidation_0-rmsle:0.26906\tvalidation_1-rmsle:0.33931\n",
      "[200]\tvalidation_0-rmsle:0.26821\tvalidation_1-rmsle:0.33858\n",
      "[201]\tvalidation_0-rmsle:0.26735\tvalidation_1-rmsle:0.33776\n",
      "[202]\tvalidation_0-rmsle:0.26660\tvalidation_1-rmsle:0.33692\n",
      "[203]\tvalidation_0-rmsle:0.26587\tvalidation_1-rmsle:0.33610\n",
      "[204]\tvalidation_0-rmsle:0.26509\tvalidation_1-rmsle:0.33522\n",
      "[205]\tvalidation_0-rmsle:0.26432\tvalidation_1-rmsle:0.33447\n",
      "[206]\tvalidation_0-rmsle:0.26377\tvalidation_1-rmsle:0.33357\n",
      "[207]\tvalidation_0-rmsle:0.26314\tvalidation_1-rmsle:0.33280\n",
      "[208]\tvalidation_0-rmsle:0.26246\tvalidation_1-rmsle:0.33195\n",
      "[209]\tvalidation_0-rmsle:0.26172\tvalidation_1-rmsle:0.33109\n",
      "[210]\tvalidation_0-rmsle:0.26110\tvalidation_1-rmsle:0.33030\n",
      "[211]\tvalidation_0-rmsle:0.26055\tvalidation_1-rmsle:0.32947\n",
      "[212]\tvalidation_0-rmsle:0.25983\tvalidation_1-rmsle:0.32871\n",
      "[213]\tvalidation_0-rmsle:0.25917\tvalidation_1-rmsle:0.32793\n",
      "[214]\tvalidation_0-rmsle:0.25858\tvalidation_1-rmsle:0.32722\n",
      "[215]\tvalidation_0-rmsle:0.25792\tvalidation_1-rmsle:0.32650\n",
      "[216]\tvalidation_0-rmsle:0.25728\tvalidation_1-rmsle:0.32595\n",
      "[217]\tvalidation_0-rmsle:0.25663\tvalidation_1-rmsle:0.32523\n",
      "[218]\tvalidation_0-rmsle:0.25603\tvalidation_1-rmsle:0.32458\n",
      "[219]\tvalidation_0-rmsle:0.25547\tvalidation_1-rmsle:0.32390\n",
      "[220]\tvalidation_0-rmsle:0.25491\tvalidation_1-rmsle:0.32326\n",
      "[221]\tvalidation_0-rmsle:0.25440\tvalidation_1-rmsle:0.32259\n",
      "[222]\tvalidation_0-rmsle:0.25384\tvalidation_1-rmsle:0.32210\n",
      "[223]\tvalidation_0-rmsle:0.25316\tvalidation_1-rmsle:0.32161\n",
      "[224]\tvalidation_0-rmsle:0.25277\tvalidation_1-rmsle:0.32091\n",
      "[225]\tvalidation_0-rmsle:0.25232\tvalidation_1-rmsle:0.32026\n",
      "[226]\tvalidation_0-rmsle:0.25191\tvalidation_1-rmsle:0.31958\n",
      "[227]\tvalidation_0-rmsle:0.25150\tvalidation_1-rmsle:0.31893\n",
      "[228]\tvalidation_0-rmsle:0.25099\tvalidation_1-rmsle:0.31840\n",
      "[229]\tvalidation_0-rmsle:0.25043\tvalidation_1-rmsle:0.31794\n",
      "[230]\tvalidation_0-rmsle:0.24994\tvalidation_1-rmsle:0.31750\n",
      "[231]\tvalidation_0-rmsle:0.24955\tvalidation_1-rmsle:0.31689\n",
      "[232]\tvalidation_0-rmsle:0.24911\tvalidation_1-rmsle:0.31635\n",
      "[233]\tvalidation_0-rmsle:0.24873\tvalidation_1-rmsle:0.31585\n",
      "[234]\tvalidation_0-rmsle:0.24833\tvalidation_1-rmsle:0.31530\n",
      "[235]\tvalidation_0-rmsle:0.24783\tvalidation_1-rmsle:0.31481\n",
      "[236]\tvalidation_0-rmsle:0.24747\tvalidation_1-rmsle:0.31431\n",
      "[237]\tvalidation_0-rmsle:0.24707\tvalidation_1-rmsle:0.31376\n",
      "[238]\tvalidation_0-rmsle:0.24669\tvalidation_1-rmsle:0.31322\n",
      "[239]\tvalidation_0-rmsle:0.24631\tvalidation_1-rmsle:0.31281\n",
      "[240]\tvalidation_0-rmsle:0.24600\tvalidation_1-rmsle:0.31228\n",
      "[241]\tvalidation_0-rmsle:0.24566\tvalidation_1-rmsle:0.31176\n",
      "[242]\tvalidation_0-rmsle:0.24535\tvalidation_1-rmsle:0.31127\n",
      "[243]\tvalidation_0-rmsle:0.24510\tvalidation_1-rmsle:0.31075\n",
      "[244]\tvalidation_0-rmsle:0.24485\tvalidation_1-rmsle:0.31029\n",
      "[245]\tvalidation_0-rmsle:0.24453\tvalidation_1-rmsle:0.30976\n",
      "[246]\tvalidation_0-rmsle:0.24429\tvalidation_1-rmsle:0.30928\n",
      "[247]\tvalidation_0-rmsle:0.24393\tvalidation_1-rmsle:0.30883\n",
      "[248]\tvalidation_0-rmsle:0.24367\tvalidation_1-rmsle:0.30834\n",
      "[249]\tvalidation_0-rmsle:0.24337\tvalidation_1-rmsle:0.30781\n",
      "[250]\tvalidation_0-rmsle:0.24298\tvalidation_1-rmsle:0.30734\n",
      "[251]\tvalidation_0-rmsle:0.24275\tvalidation_1-rmsle:0.30695\n",
      "[252]\tvalidation_0-rmsle:0.24244\tvalidation_1-rmsle:0.30652\n",
      "[253]\tvalidation_0-rmsle:0.24207\tvalidation_1-rmsle:0.30614\n",
      "[254]\tvalidation_0-rmsle:0.24169\tvalidation_1-rmsle:0.30585\n",
      "[255]\tvalidation_0-rmsle:0.24138\tvalidation_1-rmsle:0.30555\n",
      "[256]\tvalidation_0-rmsle:0.24109\tvalidation_1-rmsle:0.30515\n",
      "[257]\tvalidation_0-rmsle:0.24083\tvalidation_1-rmsle:0.30470\n",
      "[258]\tvalidation_0-rmsle:0.24066\tvalidation_1-rmsle:0.30428\n",
      "[259]\tvalidation_0-rmsle:0.24049\tvalidation_1-rmsle:0.30384\n",
      "[260]\tvalidation_0-rmsle:0.24015\tvalidation_1-rmsle:0.30344\n",
      "[261]\tvalidation_0-rmsle:0.24001\tvalidation_1-rmsle:0.30306\n",
      "[262]\tvalidation_0-rmsle:0.23979\tvalidation_1-rmsle:0.30272\n",
      "[263]\tvalidation_0-rmsle:0.23962\tvalidation_1-rmsle:0.30235\n",
      "[264]\tvalidation_0-rmsle:0.23948\tvalidation_1-rmsle:0.30197\n",
      "[265]\tvalidation_0-rmsle:0.23909\tvalidation_1-rmsle:0.30163\n",
      "[266]\tvalidation_0-rmsle:0.23886\tvalidation_1-rmsle:0.30135\n",
      "[267]\tvalidation_0-rmsle:0.23864\tvalidation_1-rmsle:0.30105\n",
      "[268]\tvalidation_0-rmsle:0.23834\tvalidation_1-rmsle:0.30087\n",
      "[269]\tvalidation_0-rmsle:0.23800\tvalidation_1-rmsle:0.30055\n",
      "[270]\tvalidation_0-rmsle:0.23783\tvalidation_1-rmsle:0.30024\n",
      "[271]\tvalidation_0-rmsle:0.23757\tvalidation_1-rmsle:0.29984\n",
      "[272]\tvalidation_0-rmsle:0.23745\tvalidation_1-rmsle:0.29950\n"
     ]
    },
    {
     "name": "stdout",
     "output_type": "stream",
     "text": [
      "[273]\tvalidation_0-rmsle:0.23712\tvalidation_1-rmsle:0.29912\n",
      "[274]\tvalidation_0-rmsle:0.23678\tvalidation_1-rmsle:0.29879\n",
      "[275]\tvalidation_0-rmsle:0.23651\tvalidation_1-rmsle:0.29847\n",
      "[276]\tvalidation_0-rmsle:0.23630\tvalidation_1-rmsle:0.29816\n",
      "[277]\tvalidation_0-rmsle:0.23617\tvalidation_1-rmsle:0.29784\n",
      "[278]\tvalidation_0-rmsle:0.23595\tvalidation_1-rmsle:0.29756\n",
      "[279]\tvalidation_0-rmsle:0.23569\tvalidation_1-rmsle:0.29724\n",
      "[280]\tvalidation_0-rmsle:0.23558\tvalidation_1-rmsle:0.29695\n",
      "[281]\tvalidation_0-rmsle:0.23528\tvalidation_1-rmsle:0.29670\n",
      "[282]\tvalidation_0-rmsle:0.23513\tvalidation_1-rmsle:0.29644\n",
      "[283]\tvalidation_0-rmsle:0.23501\tvalidation_1-rmsle:0.29615\n",
      "[284]\tvalidation_0-rmsle:0.23481\tvalidation_1-rmsle:0.29584\n",
      "[285]\tvalidation_0-rmsle:0.23470\tvalidation_1-rmsle:0.29555\n",
      "[286]\tvalidation_0-rmsle:0.23439\tvalidation_1-rmsle:0.29536\n",
      "[287]\tvalidation_0-rmsle:0.23416\tvalidation_1-rmsle:0.29514\n",
      "[288]\tvalidation_0-rmsle:0.23390\tvalidation_1-rmsle:0.29489\n",
      "[289]\tvalidation_0-rmsle:0.23355\tvalidation_1-rmsle:0.29465\n",
      "[290]\tvalidation_0-rmsle:0.23333\tvalidation_1-rmsle:0.29441\n",
      "[291]\tvalidation_0-rmsle:0.23311\tvalidation_1-rmsle:0.29426\n",
      "[292]\tvalidation_0-rmsle:0.23269\tvalidation_1-rmsle:0.29414\n",
      "[293]\tvalidation_0-rmsle:0.23248\tvalidation_1-rmsle:0.29400\n",
      "[294]\tvalidation_0-rmsle:0.23221\tvalidation_1-rmsle:0.29385\n",
      "[295]\tvalidation_0-rmsle:0.23213\tvalidation_1-rmsle:0.29360\n",
      "[296]\tvalidation_0-rmsle:0.23200\tvalidation_1-rmsle:0.29336\n",
      "[297]\tvalidation_0-rmsle:0.23191\tvalidation_1-rmsle:0.29316\n",
      "[298]\tvalidation_0-rmsle:0.23184\tvalidation_1-rmsle:0.29293\n",
      "[299]\tvalidation_0-rmsle:0.23176\tvalidation_1-rmsle:0.29273\n",
      "[300]\tvalidation_0-rmsle:0.23165\tvalidation_1-rmsle:0.29243\n",
      "[301]\tvalidation_0-rmsle:0.23147\tvalidation_1-rmsle:0.29216\n",
      "[302]\tvalidation_0-rmsle:0.23134\tvalidation_1-rmsle:0.29205\n",
      "[303]\tvalidation_0-rmsle:0.23129\tvalidation_1-rmsle:0.29180\n",
      "[304]\tvalidation_0-rmsle:0.23111\tvalidation_1-rmsle:0.29162\n",
      "[305]\tvalidation_0-rmsle:0.23089\tvalidation_1-rmsle:0.29153\n",
      "[306]\tvalidation_0-rmsle:0.23073\tvalidation_1-rmsle:0.29131\n",
      "[307]\tvalidation_0-rmsle:0.23067\tvalidation_1-rmsle:0.29111\n",
      "[308]\tvalidation_0-rmsle:0.23048\tvalidation_1-rmsle:0.29103\n",
      "[309]\tvalidation_0-rmsle:0.23027\tvalidation_1-rmsle:0.29091\n",
      "[310]\tvalidation_0-rmsle:0.23012\tvalidation_1-rmsle:0.29073\n",
      "[311]\tvalidation_0-rmsle:0.23000\tvalidation_1-rmsle:0.29051\n",
      "[312]\tvalidation_0-rmsle:0.22972\tvalidation_1-rmsle:0.29033\n",
      "[313]\tvalidation_0-rmsle:0.22954\tvalidation_1-rmsle:0.29022\n",
      "[314]\tvalidation_0-rmsle:0.22949\tvalidation_1-rmsle:0.29007\n",
      "[315]\tvalidation_0-rmsle:0.22947\tvalidation_1-rmsle:0.28989\n",
      "[316]\tvalidation_0-rmsle:0.22932\tvalidation_1-rmsle:0.28980\n",
      "[317]\tvalidation_0-rmsle:0.22927\tvalidation_1-rmsle:0.28963\n",
      "[318]\tvalidation_0-rmsle:0.22909\tvalidation_1-rmsle:0.28954\n",
      "[319]\tvalidation_0-rmsle:0.22903\tvalidation_1-rmsle:0.28936\n",
      "[320]\tvalidation_0-rmsle:0.22879\tvalidation_1-rmsle:0.28921\n",
      "[321]\tvalidation_0-rmsle:0.22867\tvalidation_1-rmsle:0.28902\n",
      "[322]\tvalidation_0-rmsle:0.22863\tvalidation_1-rmsle:0.28882\n",
      "[323]\tvalidation_0-rmsle:0.22846\tvalidation_1-rmsle:0.28878\n",
      "[324]\tvalidation_0-rmsle:0.22831\tvalidation_1-rmsle:0.28864\n",
      "[325]\tvalidation_0-rmsle:0.22827\tvalidation_1-rmsle:0.28848\n",
      "[326]\tvalidation_0-rmsle:0.22801\tvalidation_1-rmsle:0.28841\n",
      "[327]\tvalidation_0-rmsle:0.22791\tvalidation_1-rmsle:0.28825\n",
      "[328]\tvalidation_0-rmsle:0.22776\tvalidation_1-rmsle:0.28797\n",
      "[329]\tvalidation_0-rmsle:0.22762\tvalidation_1-rmsle:0.28779\n",
      "[330]\tvalidation_0-rmsle:0.22748\tvalidation_1-rmsle:0.28759\n",
      "[331]\tvalidation_0-rmsle:0.22743\tvalidation_1-rmsle:0.28743\n",
      "[332]\tvalidation_0-rmsle:0.22732\tvalidation_1-rmsle:0.28732\n",
      "[333]\tvalidation_0-rmsle:0.22723\tvalidation_1-rmsle:0.28719\n",
      "[334]\tvalidation_0-rmsle:0.22705\tvalidation_1-rmsle:0.28709\n",
      "[335]\tvalidation_0-rmsle:0.22693\tvalidation_1-rmsle:0.28699\n",
      "[336]\tvalidation_0-rmsle:0.22689\tvalidation_1-rmsle:0.28684\n",
      "[337]\tvalidation_0-rmsle:0.22659\tvalidation_1-rmsle:0.28670\n",
      "[338]\tvalidation_0-rmsle:0.22640\tvalidation_1-rmsle:0.28656\n",
      "[339]\tvalidation_0-rmsle:0.22629\tvalidation_1-rmsle:0.28651\n",
      "[340]\tvalidation_0-rmsle:0.22617\tvalidation_1-rmsle:0.28639\n",
      "[341]\tvalidation_0-rmsle:0.22596\tvalidation_1-rmsle:0.28630\n",
      "[342]\tvalidation_0-rmsle:0.22590\tvalidation_1-rmsle:0.28619\n",
      "[343]\tvalidation_0-rmsle:0.22565\tvalidation_1-rmsle:0.28607\n",
      "[344]\tvalidation_0-rmsle:0.22561\tvalidation_1-rmsle:0.28593\n",
      "[345]\tvalidation_0-rmsle:0.22543\tvalidation_1-rmsle:0.28582\n",
      "[346]\tvalidation_0-rmsle:0.22533\tvalidation_1-rmsle:0.28578\n",
      "[347]\tvalidation_0-rmsle:0.22530\tvalidation_1-rmsle:0.28566\n",
      "[348]\tvalidation_0-rmsle:0.22514\tvalidation_1-rmsle:0.28554\n",
      "[349]\tvalidation_0-rmsle:0.22500\tvalidation_1-rmsle:0.28533\n",
      "[350]\tvalidation_0-rmsle:0.22489\tvalidation_1-rmsle:0.28521\n",
      "[351]\tvalidation_0-rmsle:0.22485\tvalidation_1-rmsle:0.28508\n",
      "[352]\tvalidation_0-rmsle:0.22468\tvalidation_1-rmsle:0.28495\n",
      "[353]\tvalidation_0-rmsle:0.22456\tvalidation_1-rmsle:0.28486\n",
      "[354]\tvalidation_0-rmsle:0.22445\tvalidation_1-rmsle:0.28476\n",
      "[355]\tvalidation_0-rmsle:0.22438\tvalidation_1-rmsle:0.28464\n",
      "[356]\tvalidation_0-rmsle:0.22430\tvalidation_1-rmsle:0.28453\n",
      "[357]\tvalidation_0-rmsle:0.22426\tvalidation_1-rmsle:0.28441\n",
      "[358]\tvalidation_0-rmsle:0.22395\tvalidation_1-rmsle:0.28426\n",
      "[359]\tvalidation_0-rmsle:0.22385\tvalidation_1-rmsle:0.28415\n",
      "[360]\tvalidation_0-rmsle:0.22380\tvalidation_1-rmsle:0.28405\n",
      "[361]\tvalidation_0-rmsle:0.22371\tvalidation_1-rmsle:0.28393\n",
      "[362]\tvalidation_0-rmsle:0.22353\tvalidation_1-rmsle:0.28377\n",
      "[363]\tvalidation_0-rmsle:0.22345\tvalidation_1-rmsle:0.28364\n",
      "[364]\tvalidation_0-rmsle:0.22340\tvalidation_1-rmsle:0.28354\n",
      "[365]\tvalidation_0-rmsle:0.22317\tvalidation_1-rmsle:0.28338\n",
      "[366]\tvalidation_0-rmsle:0.22306\tvalidation_1-rmsle:0.28338\n",
      "[367]\tvalidation_0-rmsle:0.22298\tvalidation_1-rmsle:0.28331\n",
      "[368]\tvalidation_0-rmsle:0.22285\tvalidation_1-rmsle:0.28323\n",
      "[369]\tvalidation_0-rmsle:0.22265\tvalidation_1-rmsle:0.28306\n",
      "[370]\tvalidation_0-rmsle:0.22256\tvalidation_1-rmsle:0.28293\n",
      "[371]\tvalidation_0-rmsle:0.22253\tvalidation_1-rmsle:0.28285\n",
      "[372]\tvalidation_0-rmsle:0.22235\tvalidation_1-rmsle:0.28271\n",
      "[373]\tvalidation_0-rmsle:0.22226\tvalidation_1-rmsle:0.28266\n",
      "[374]\tvalidation_0-rmsle:0.22221\tvalidation_1-rmsle:0.28256\n",
      "[375]\tvalidation_0-rmsle:0.22213\tvalidation_1-rmsle:0.28244\n",
      "[376]\tvalidation_0-rmsle:0.22205\tvalidation_1-rmsle:0.28237\n",
      "[377]\tvalidation_0-rmsle:0.22200\tvalidation_1-rmsle:0.28225\n",
      "[378]\tvalidation_0-rmsle:0.22197\tvalidation_1-rmsle:0.28215\n",
      "[379]\tvalidation_0-rmsle:0.22174\tvalidation_1-rmsle:0.28205\n",
      "[380]\tvalidation_0-rmsle:0.22170\tvalidation_1-rmsle:0.28196\n",
      "[381]\tvalidation_0-rmsle:0.22167\tvalidation_1-rmsle:0.28186\n",
      "[382]\tvalidation_0-rmsle:0.22158\tvalidation_1-rmsle:0.28175\n",
      "[383]\tvalidation_0-rmsle:0.22155\tvalidation_1-rmsle:0.28168\n",
      "[384]\tvalidation_0-rmsle:0.22148\tvalidation_1-rmsle:0.28163\n",
      "[385]\tvalidation_0-rmsle:0.22131\tvalidation_1-rmsle:0.28149\n",
      "[386]\tvalidation_0-rmsle:0.22110\tvalidation_1-rmsle:0.28132\n",
      "[387]\tvalidation_0-rmsle:0.22105\tvalidation_1-rmsle:0.28123\n",
      "[388]\tvalidation_0-rmsle:0.22086\tvalidation_1-rmsle:0.28116\n",
      "[389]\tvalidation_0-rmsle:0.22083\tvalidation_1-rmsle:0.28109\n",
      "[390]\tvalidation_0-rmsle:0.22075\tvalidation_1-rmsle:0.28100\n",
      "[391]\tvalidation_0-rmsle:0.22068\tvalidation_1-rmsle:0.28092\n",
      "[392]\tvalidation_0-rmsle:0.22055\tvalidation_1-rmsle:0.28083\n",
      "[393]\tvalidation_0-rmsle:0.22050\tvalidation_1-rmsle:0.28073\n",
      "[394]\tvalidation_0-rmsle:0.22043\tvalidation_1-rmsle:0.28070\n",
      "[395]\tvalidation_0-rmsle:0.22031\tvalidation_1-rmsle:0.28063\n",
      "[396]\tvalidation_0-rmsle:0.21996\tvalidation_1-rmsle:0.28049\n",
      "[397]\tvalidation_0-rmsle:0.21992\tvalidation_1-rmsle:0.28044\n",
      "[398]\tvalidation_0-rmsle:0.21981\tvalidation_1-rmsle:0.28037\n",
      "[399]\tvalidation_0-rmsle:0.21966\tvalidation_1-rmsle:0.28028\n",
      "[400]\tvalidation_0-rmsle:0.21960\tvalidation_1-rmsle:0.28024\n",
      "[401]\tvalidation_0-rmsle:0.21953\tvalidation_1-rmsle:0.28022\n",
      "[402]\tvalidation_0-rmsle:0.21933\tvalidation_1-rmsle:0.28018\n",
      "[403]\tvalidation_0-rmsle:0.21922\tvalidation_1-rmsle:0.28010\n",
      "[404]\tvalidation_0-rmsle:0.21919\tvalidation_1-rmsle:0.28004\n",
      "[405]\tvalidation_0-rmsle:0.21915\tvalidation_1-rmsle:0.27997\n",
      "[406]\tvalidation_0-rmsle:0.21913\tvalidation_1-rmsle:0.27993\n",
      "[407]\tvalidation_0-rmsle:0.21910\tvalidation_1-rmsle:0.27984\n",
      "[408]\tvalidation_0-rmsle:0.21908\tvalidation_1-rmsle:0.27978\n",
      "[409]\tvalidation_0-rmsle:0.21885\tvalidation_1-rmsle:0.27966\n"
     ]
    },
    {
     "name": "stdout",
     "output_type": "stream",
     "text": [
      "[410]\tvalidation_0-rmsle:0.21880\tvalidation_1-rmsle:0.27962\n",
      "[411]\tvalidation_0-rmsle:0.21878\tvalidation_1-rmsle:0.27956\n",
      "[412]\tvalidation_0-rmsle:0.21848\tvalidation_1-rmsle:0.27954\n",
      "[413]\tvalidation_0-rmsle:0.21812\tvalidation_1-rmsle:0.27970\n",
      "[414]\tvalidation_0-rmsle:0.21789\tvalidation_1-rmsle:0.27967\n",
      "[415]\tvalidation_0-rmsle:0.21779\tvalidation_1-rmsle:0.27963\n",
      "[416]\tvalidation_0-rmsle:0.21763\tvalidation_1-rmsle:0.27958\n",
      "[417]\tvalidation_0-rmsle:0.21760\tvalidation_1-rmsle:0.27953\n",
      "[418]\tvalidation_0-rmsle:0.21756\tvalidation_1-rmsle:0.27947\n",
      "[419]\tvalidation_0-rmsle:0.21735\tvalidation_1-rmsle:0.27940\n",
      "[420]\tvalidation_0-rmsle:0.21716\tvalidation_1-rmsle:0.27930\n",
      "[421]\tvalidation_0-rmsle:0.21696\tvalidation_1-rmsle:0.27923\n",
      "[422]\tvalidation_0-rmsle:0.21692\tvalidation_1-rmsle:0.27919\n",
      "[423]\tvalidation_0-rmsle:0.21659\tvalidation_1-rmsle:0.27915\n",
      "[424]\tvalidation_0-rmsle:0.21635\tvalidation_1-rmsle:0.27909\n",
      "[425]\tvalidation_0-rmsle:0.21633\tvalidation_1-rmsle:0.27902\n",
      "[426]\tvalidation_0-rmsle:0.21630\tvalidation_1-rmsle:0.27896\n",
      "[427]\tvalidation_0-rmsle:0.21608\tvalidation_1-rmsle:0.27877\n",
      "[428]\tvalidation_0-rmsle:0.21605\tvalidation_1-rmsle:0.27869\n",
      "[429]\tvalidation_0-rmsle:0.21589\tvalidation_1-rmsle:0.27866\n",
      "[430]\tvalidation_0-rmsle:0.21586\tvalidation_1-rmsle:0.27861\n",
      "[431]\tvalidation_0-rmsle:0.21572\tvalidation_1-rmsle:0.27857\n",
      "[432]\tvalidation_0-rmsle:0.21547\tvalidation_1-rmsle:0.27849\n",
      "[433]\tvalidation_0-rmsle:0.21545\tvalidation_1-rmsle:0.27844\n",
      "[434]\tvalidation_0-rmsle:0.21528\tvalidation_1-rmsle:0.27846\n",
      "[435]\tvalidation_0-rmsle:0.21516\tvalidation_1-rmsle:0.27845\n",
      "[436]\tvalidation_0-rmsle:0.21513\tvalidation_1-rmsle:0.27841\n",
      "[437]\tvalidation_0-rmsle:0.21490\tvalidation_1-rmsle:0.27840\n",
      "[438]\tvalidation_0-rmsle:0.21467\tvalidation_1-rmsle:0.27841\n",
      "[439]\tvalidation_0-rmsle:0.21457\tvalidation_1-rmsle:0.27841\n",
      "[440]\tvalidation_0-rmsle:0.21454\tvalidation_1-rmsle:0.27836\n",
      "[441]\tvalidation_0-rmsle:0.21447\tvalidation_1-rmsle:0.27827\n",
      "[442]\tvalidation_0-rmsle:0.21441\tvalidation_1-rmsle:0.27825\n",
      "[443]\tvalidation_0-rmsle:0.21438\tvalidation_1-rmsle:0.27821\n",
      "[444]\tvalidation_0-rmsle:0.21415\tvalidation_1-rmsle:0.27814\n",
      "[445]\tvalidation_0-rmsle:0.21395\tvalidation_1-rmsle:0.27813\n",
      "[446]\tvalidation_0-rmsle:0.21376\tvalidation_1-rmsle:0.27812\n",
      "[447]\tvalidation_0-rmsle:0.21373\tvalidation_1-rmsle:0.27808\n",
      "[448]\tvalidation_0-rmsle:0.21369\tvalidation_1-rmsle:0.27801\n",
      "[449]\tvalidation_0-rmsle:0.21350\tvalidation_1-rmsle:0.27801\n",
      "[450]\tvalidation_0-rmsle:0.21347\tvalidation_1-rmsle:0.27796\n",
      "[451]\tvalidation_0-rmsle:0.21337\tvalidation_1-rmsle:0.27791\n",
      "[452]\tvalidation_0-rmsle:0.21335\tvalidation_1-rmsle:0.27788\n",
      "[453]\tvalidation_0-rmsle:0.21317\tvalidation_1-rmsle:0.27781\n",
      "[454]\tvalidation_0-rmsle:0.21314\tvalidation_1-rmsle:0.27778\n",
      "[455]\tvalidation_0-rmsle:0.21305\tvalidation_1-rmsle:0.27774\n",
      "[456]\tvalidation_0-rmsle:0.21279\tvalidation_1-rmsle:0.27782\n",
      "[457]\tvalidation_0-rmsle:0.21275\tvalidation_1-rmsle:0.27781\n",
      "[458]\tvalidation_0-rmsle:0.21267\tvalidation_1-rmsle:0.27777\n",
      "[459]\tvalidation_0-rmsle:0.21249\tvalidation_1-rmsle:0.27774\n",
      "[460]\tvalidation_0-rmsle:0.21232\tvalidation_1-rmsle:0.27773\n",
      "[461]\tvalidation_0-rmsle:0.21229\tvalidation_1-rmsle:0.27776\n",
      "[462]\tvalidation_0-rmsle:0.21224\tvalidation_1-rmsle:0.27772\n",
      "[463]\tvalidation_0-rmsle:0.21210\tvalidation_1-rmsle:0.27775\n",
      "[464]\tvalidation_0-rmsle:0.21207\tvalidation_1-rmsle:0.27775\n",
      "[465]\tvalidation_0-rmsle:0.21181\tvalidation_1-rmsle:0.27795\n",
      "[466]\tvalidation_0-rmsle:0.21179\tvalidation_1-rmsle:0.27792\n",
      "[467]\tvalidation_0-rmsle:0.21161\tvalidation_1-rmsle:0.27786\n",
      "[468]\tvalidation_0-rmsle:0.21143\tvalidation_1-rmsle:0.27782\n",
      "[469]\tvalidation_0-rmsle:0.21124\tvalidation_1-rmsle:0.27782\n",
      "[470]\tvalidation_0-rmsle:0.21121\tvalidation_1-rmsle:0.27778\n",
      "[471]\tvalidation_0-rmsle:0.21116\tvalidation_1-rmsle:0.27776\n",
      "[472]\tvalidation_0-rmsle:0.21114\tvalidation_1-rmsle:0.27772\n",
      "[473]\tvalidation_0-rmsle:0.21112\tvalidation_1-rmsle:0.27770\n",
      "[474]\tvalidation_0-rmsle:0.21099\tvalidation_1-rmsle:0.27772\n",
      "[475]\tvalidation_0-rmsle:0.21093\tvalidation_1-rmsle:0.27770\n",
      "[476]\tvalidation_0-rmsle:0.21070\tvalidation_1-rmsle:0.27774\n",
      "[477]\tvalidation_0-rmsle:0.21065\tvalidation_1-rmsle:0.27770\n",
      "[478]\tvalidation_0-rmsle:0.21061\tvalidation_1-rmsle:0.27767\n",
      "[479]\tvalidation_0-rmsle:0.21048\tvalidation_1-rmsle:0.27767\n",
      "[480]\tvalidation_0-rmsle:0.21044\tvalidation_1-rmsle:0.27766\n",
      "[481]\tvalidation_0-rmsle:0.21043\tvalidation_1-rmsle:0.27764\n",
      "[482]\tvalidation_0-rmsle:0.21024\tvalidation_1-rmsle:0.27763\n",
      "[483]\tvalidation_0-rmsle:0.21009\tvalidation_1-rmsle:0.27751\n",
      "[484]\tvalidation_0-rmsle:0.21001\tvalidation_1-rmsle:0.27752\n",
      "[485]\tvalidation_0-rmsle:0.20994\tvalidation_1-rmsle:0.27746\n",
      "[486]\tvalidation_0-rmsle:0.20987\tvalidation_1-rmsle:0.27740\n",
      "[487]\tvalidation_0-rmsle:0.20969\tvalidation_1-rmsle:0.27740\n",
      "[488]\tvalidation_0-rmsle:0.20965\tvalidation_1-rmsle:0.27739\n",
      "[489]\tvalidation_0-rmsle:0.20946\tvalidation_1-rmsle:0.27739\n",
      "[490]\tvalidation_0-rmsle:0.20942\tvalidation_1-rmsle:0.27735\n",
      "[491]\tvalidation_0-rmsle:0.20938\tvalidation_1-rmsle:0.27733\n",
      "[492]\tvalidation_0-rmsle:0.20935\tvalidation_1-rmsle:0.27730\n",
      "[493]\tvalidation_0-rmsle:0.20932\tvalidation_1-rmsle:0.27727\n",
      "[494]\tvalidation_0-rmsle:0.20916\tvalidation_1-rmsle:0.27720\n",
      "[495]\tvalidation_0-rmsle:0.20915\tvalidation_1-rmsle:0.27718\n",
      "[496]\tvalidation_0-rmsle:0.20899\tvalidation_1-rmsle:0.27716\n",
      "[497]\tvalidation_0-rmsle:0.20898\tvalidation_1-rmsle:0.27715\n",
      "[498]\tvalidation_0-rmsle:0.20894\tvalidation_1-rmsle:0.27711\n",
      "[499]\tvalidation_0-rmsle:0.20878\tvalidation_1-rmsle:0.27708\n",
      "[500]\tvalidation_0-rmsle:0.20876\tvalidation_1-rmsle:0.27706\n",
      "[501]\tvalidation_0-rmsle:0.20856\tvalidation_1-rmsle:0.27704\n",
      "[502]\tvalidation_0-rmsle:0.20850\tvalidation_1-rmsle:0.27705\n",
      "[503]\tvalidation_0-rmsle:0.20849\tvalidation_1-rmsle:0.27701\n",
      "[504]\tvalidation_0-rmsle:0.20847\tvalidation_1-rmsle:0.27701\n",
      "[505]\tvalidation_0-rmsle:0.20828\tvalidation_1-rmsle:0.27707\n",
      "[506]\tvalidation_0-rmsle:0.20825\tvalidation_1-rmsle:0.27703\n",
      "[507]\tvalidation_0-rmsle:0.20821\tvalidation_1-rmsle:0.27700\n",
      "[508]\tvalidation_0-rmsle:0.20809\tvalidation_1-rmsle:0.27702\n",
      "[509]\tvalidation_0-rmsle:0.20808\tvalidation_1-rmsle:0.27700\n",
      "[510]\tvalidation_0-rmsle:0.20800\tvalidation_1-rmsle:0.27699\n",
      "[511]\tvalidation_0-rmsle:0.20799\tvalidation_1-rmsle:0.27697\n",
      "[512]\tvalidation_0-rmsle:0.20779\tvalidation_1-rmsle:0.27704\n",
      "[513]\tvalidation_0-rmsle:0.20776\tvalidation_1-rmsle:0.27702\n",
      "[514]\tvalidation_0-rmsle:0.20766\tvalidation_1-rmsle:0.27699\n",
      "[515]\tvalidation_0-rmsle:0.20763\tvalidation_1-rmsle:0.27697\n",
      "[516]\tvalidation_0-rmsle:0.20747\tvalidation_1-rmsle:0.27698\n",
      "[517]\tvalidation_0-rmsle:0.20737\tvalidation_1-rmsle:0.27696\n",
      "[518]\tvalidation_0-rmsle:0.20718\tvalidation_1-rmsle:0.27691\n",
      "[519]\tvalidation_0-rmsle:0.20715\tvalidation_1-rmsle:0.27689\n",
      "[520]\tvalidation_0-rmsle:0.20699\tvalidation_1-rmsle:0.27687\n",
      "[521]\tvalidation_0-rmsle:0.20675\tvalidation_1-rmsle:0.27699\n",
      "[522]\tvalidation_0-rmsle:0.20667\tvalidation_1-rmsle:0.27699\n",
      "[523]\tvalidation_0-rmsle:0.20652\tvalidation_1-rmsle:0.27699\n",
      "[524]\tvalidation_0-rmsle:0.20644\tvalidation_1-rmsle:0.27697\n",
      "[525]\tvalidation_0-rmsle:0.20642\tvalidation_1-rmsle:0.27695\n",
      "[526]\tvalidation_0-rmsle:0.20641\tvalidation_1-rmsle:0.27694\n",
      "[527]\tvalidation_0-rmsle:0.20633\tvalidation_1-rmsle:0.27694\n",
      "[528]\tvalidation_0-rmsle:0.20625\tvalidation_1-rmsle:0.27695\n",
      "[529]\tvalidation_0-rmsle:0.20611\tvalidation_1-rmsle:0.27696\n",
      "[530]\tvalidation_0-rmsle:0.20601\tvalidation_1-rmsle:0.27695\n",
      "[531]\tvalidation_0-rmsle:0.20586\tvalidation_1-rmsle:0.27693\n",
      "[532]\tvalidation_0-rmsle:0.20583\tvalidation_1-rmsle:0.27691\n",
      "[533]\tvalidation_0-rmsle:0.20569\tvalidation_1-rmsle:0.27690\n",
      "[534]\tvalidation_0-rmsle:0.20554\tvalidation_1-rmsle:0.27688\n",
      "[535]\tvalidation_0-rmsle:0.20552\tvalidation_1-rmsle:0.27686\n",
      "[536]\tvalidation_0-rmsle:0.20549\tvalidation_1-rmsle:0.27684\n",
      "[537]\tvalidation_0-rmsle:0.20548\tvalidation_1-rmsle:0.27682\n",
      "[538]\tvalidation_0-rmsle:0.20545\tvalidation_1-rmsle:0.27681\n",
      "[539]\tvalidation_0-rmsle:0.20541\tvalidation_1-rmsle:0.27679\n",
      "[540]\tvalidation_0-rmsle:0.20530\tvalidation_1-rmsle:0.27677\n",
      "[541]\tvalidation_0-rmsle:0.20527\tvalidation_1-rmsle:0.27675\n",
      "[542]\tvalidation_0-rmsle:0.20510\tvalidation_1-rmsle:0.27672\n",
      "[543]\tvalidation_0-rmsle:0.20507\tvalidation_1-rmsle:0.27670\n",
      "[544]\tvalidation_0-rmsle:0.20493\tvalidation_1-rmsle:0.27674\n",
      "[545]\tvalidation_0-rmsle:0.20488\tvalidation_1-rmsle:0.27675\n",
      "[546]\tvalidation_0-rmsle:0.20483\tvalidation_1-rmsle:0.27675\n"
     ]
    },
    {
     "name": "stdout",
     "output_type": "stream",
     "text": [
      "[547]\tvalidation_0-rmsle:0.20480\tvalidation_1-rmsle:0.27674\n",
      "[548]\tvalidation_0-rmsle:0.20459\tvalidation_1-rmsle:0.27672\n",
      "[549]\tvalidation_0-rmsle:0.20452\tvalidation_1-rmsle:0.27671\n",
      "[550]\tvalidation_0-rmsle:0.20451\tvalidation_1-rmsle:0.27670\n",
      "[551]\tvalidation_0-rmsle:0.20448\tvalidation_1-rmsle:0.27670\n",
      "[552]\tvalidation_0-rmsle:0.20428\tvalidation_1-rmsle:0.27680\n",
      "[553]\tvalidation_0-rmsle:0.20425\tvalidation_1-rmsle:0.27678\n",
      "[554]\tvalidation_0-rmsle:0.20423\tvalidation_1-rmsle:0.27676\n",
      "[555]\tvalidation_0-rmsle:0.20422\tvalidation_1-rmsle:0.27675\n",
      "[556]\tvalidation_0-rmsle:0.20400\tvalidation_1-rmsle:0.27670\n",
      "[557]\tvalidation_0-rmsle:0.20397\tvalidation_1-rmsle:0.27669\n",
      "[558]\tvalidation_0-rmsle:0.20382\tvalidation_1-rmsle:0.27671\n",
      "[559]\tvalidation_0-rmsle:0.20372\tvalidation_1-rmsle:0.27671\n",
      "[560]\tvalidation_0-rmsle:0.20371\tvalidation_1-rmsle:0.27670\n",
      "[561]\tvalidation_0-rmsle:0.20359\tvalidation_1-rmsle:0.27673\n",
      "[562]\tvalidation_0-rmsle:0.20354\tvalidation_1-rmsle:0.27670\n",
      "[563]\tvalidation_0-rmsle:0.20350\tvalidation_1-rmsle:0.27671\n",
      "[564]\tvalidation_0-rmsle:0.20333\tvalidation_1-rmsle:0.27676\n",
      "[565]\tvalidation_0-rmsle:0.20331\tvalidation_1-rmsle:0.27673\n",
      "[566]\tvalidation_0-rmsle:0.20315\tvalidation_1-rmsle:0.27679\n",
      "[567]\tvalidation_0-rmsle:0.20309\tvalidation_1-rmsle:0.27681\n",
      "[568]\tvalidation_0-rmsle:0.20286\tvalidation_1-rmsle:0.27689\n",
      "[569]\tvalidation_0-rmsle:0.20284\tvalidation_1-rmsle:0.27688\n",
      "[570]\tvalidation_0-rmsle:0.20270\tvalidation_1-rmsle:0.27689\n",
      "[571]\tvalidation_0-rmsle:0.20268\tvalidation_1-rmsle:0.27687\n",
      "[572]\tvalidation_0-rmsle:0.20256\tvalidation_1-rmsle:0.27688\n",
      "[573]\tvalidation_0-rmsle:0.20253\tvalidation_1-rmsle:0.27686\n",
      "[574]\tvalidation_0-rmsle:0.20241\tvalidation_1-rmsle:0.27683\n",
      "[575]\tvalidation_0-rmsle:0.20224\tvalidation_1-rmsle:0.27687\n",
      "[576]\tvalidation_0-rmsle:0.20221\tvalidation_1-rmsle:0.27685\n",
      "[577]\tvalidation_0-rmsle:0.20209\tvalidation_1-rmsle:0.27685\n",
      "[578]\tvalidation_0-rmsle:0.20197\tvalidation_1-rmsle:0.27688\n",
      "[579]\tvalidation_0-rmsle:0.20195\tvalidation_1-rmsle:0.27687\n",
      "[580]\tvalidation_0-rmsle:0.20192\tvalidation_1-rmsle:0.27686\n",
      "[581]\tvalidation_0-rmsle:0.20188\tvalidation_1-rmsle:0.27685\n",
      "[582]\tvalidation_0-rmsle:0.20185\tvalidation_1-rmsle:0.27683\n",
      "[583]\tvalidation_0-rmsle:0.20183\tvalidation_1-rmsle:0.27681\n",
      "[584]\tvalidation_0-rmsle:0.20171\tvalidation_1-rmsle:0.27685\n",
      "[585]\tvalidation_0-rmsle:0.20168\tvalidation_1-rmsle:0.27683\n",
      "[586]\tvalidation_0-rmsle:0.20156\tvalidation_1-rmsle:0.27687\n",
      "[587]\tvalidation_0-rmsle:0.20138\tvalidation_1-rmsle:0.27689\n",
      "[588]\tvalidation_0-rmsle:0.20137\tvalidation_1-rmsle:0.27689\n",
      "[589]\tvalidation_0-rmsle:0.20125\tvalidation_1-rmsle:0.27687\n",
      "[590]\tvalidation_0-rmsle:0.20123\tvalidation_1-rmsle:0.27686\n",
      "[591]\tvalidation_0-rmsle:0.20118\tvalidation_1-rmsle:0.27687\n",
      "[592]\tvalidation_0-rmsle:0.20113\tvalidation_1-rmsle:0.27685\n",
      "[593]\tvalidation_0-rmsle:0.20112\tvalidation_1-rmsle:0.27684\n",
      "[594]\tvalidation_0-rmsle:0.20110\tvalidation_1-rmsle:0.27683\n",
      "[595]\tvalidation_0-rmsle:0.20100\tvalidation_1-rmsle:0.27683\n",
      "[596]\tvalidation_0-rmsle:0.20099\tvalidation_1-rmsle:0.27682\n",
      "[597]\tvalidation_0-rmsle:0.20098\tvalidation_1-rmsle:0.27681\n",
      "[598]\tvalidation_0-rmsle:0.20097\tvalidation_1-rmsle:0.27680\n",
      "[599]\tvalidation_0-rmsle:0.20095\tvalidation_1-rmsle:0.27679\n",
      "[600]\tvalidation_0-rmsle:0.20075\tvalidation_1-rmsle:0.27685\n",
      "[601]\tvalidation_0-rmsle:0.20070\tvalidation_1-rmsle:0.27682\n",
      "[602]\tvalidation_0-rmsle:0.20069\tvalidation_1-rmsle:0.27681\n",
      "[603]\tvalidation_0-rmsle:0.20056\tvalidation_1-rmsle:0.27681\n",
      "[604]\tvalidation_0-rmsle:0.20054\tvalidation_1-rmsle:0.27680\n",
      "[605]\tvalidation_0-rmsle:0.20053\tvalidation_1-rmsle:0.27679\n",
      "[606]\tvalidation_0-rmsle:0.20051\tvalidation_1-rmsle:0.27678\n",
      "[607]\tvalidation_0-rmsle:0.20049\tvalidation_1-rmsle:0.27676\n",
      "[608]\tvalidation_0-rmsle:0.20039\tvalidation_1-rmsle:0.27675\n",
      "[609]\tvalidation_0-rmsle:0.20037\tvalidation_1-rmsle:0.27674\n",
      "[610]\tvalidation_0-rmsle:0.20037\tvalidation_1-rmsle:0.27673\n",
      "[611]\tvalidation_0-rmsle:0.20028\tvalidation_1-rmsle:0.27671\n",
      "[612]\tvalidation_0-rmsle:0.20022\tvalidation_1-rmsle:0.27671\n",
      "[613]\tvalidation_0-rmsle:0.20020\tvalidation_1-rmsle:0.27670\n",
      "[614]\tvalidation_0-rmsle:0.20014\tvalidation_1-rmsle:0.27671\n",
      "[615]\tvalidation_0-rmsle:0.20004\tvalidation_1-rmsle:0.27670\n",
      "[616]\tvalidation_0-rmsle:0.19992\tvalidation_1-rmsle:0.27674\n",
      "[617]\tvalidation_0-rmsle:0.19987\tvalidation_1-rmsle:0.27674\n",
      "[618]\tvalidation_0-rmsle:0.19986\tvalidation_1-rmsle:0.27674\n",
      "[619]\tvalidation_0-rmsle:0.19979\tvalidation_1-rmsle:0.27674\n",
      "[620]\tvalidation_0-rmsle:0.19977\tvalidation_1-rmsle:0.27674\n",
      "[621]\tvalidation_0-rmsle:0.19965\tvalidation_1-rmsle:0.27675\n",
      "[622]\tvalidation_0-rmsle:0.19942\tvalidation_1-rmsle:0.27675\n",
      "[623]\tvalidation_0-rmsle:0.19940\tvalidation_1-rmsle:0.27675\n",
      "[624]\tvalidation_0-rmsle:0.19932\tvalidation_1-rmsle:0.27677\n",
      "[625]\tvalidation_0-rmsle:0.19930\tvalidation_1-rmsle:0.27675\n",
      "[626]\tvalidation_0-rmsle:0.19927\tvalidation_1-rmsle:0.27674\n",
      "[627]\tvalidation_0-rmsle:0.19926\tvalidation_1-rmsle:0.27672\n",
      "[628]\tvalidation_0-rmsle:0.19915\tvalidation_1-rmsle:0.27675\n",
      "[629]\tvalidation_0-rmsle:0.19906\tvalidation_1-rmsle:0.27675\n",
      "[630]\tvalidation_0-rmsle:0.19890\tvalidation_1-rmsle:0.27685\n",
      "[631]\tvalidation_0-rmsle:0.19889\tvalidation_1-rmsle:0.27684\n",
      "[632]\tvalidation_0-rmsle:0.19877\tvalidation_1-rmsle:0.27696\n",
      "[633]\tvalidation_0-rmsle:0.19873\tvalidation_1-rmsle:0.27694\n",
      "[634]\tvalidation_0-rmsle:0.19850\tvalidation_1-rmsle:0.27712\n",
      "[635]\tvalidation_0-rmsle:0.19848\tvalidation_1-rmsle:0.27710\n",
      "[636]\tvalidation_0-rmsle:0.19837\tvalidation_1-rmsle:0.27712\n",
      "[637]\tvalidation_0-rmsle:0.19836\tvalidation_1-rmsle:0.27713\n",
      "[638]\tvalidation_0-rmsle:0.19831\tvalidation_1-rmsle:0.27712\n",
      "[639]\tvalidation_0-rmsle:0.19820\tvalidation_1-rmsle:0.27712\n",
      "[640]\tvalidation_0-rmsle:0.19818\tvalidation_1-rmsle:0.27708\n",
      "[641]\tvalidation_0-rmsle:0.19817\tvalidation_1-rmsle:0.27708\n",
      "[642]\tvalidation_0-rmsle:0.19815\tvalidation_1-rmsle:0.27707\n",
      "[643]\tvalidation_0-rmsle:0.19813\tvalidation_1-rmsle:0.27706\n",
      "[644]\tvalidation_0-rmsle:0.19808\tvalidation_1-rmsle:0.27709\n",
      "[645]\tvalidation_0-rmsle:0.19806\tvalidation_1-rmsle:0.27709\n",
      "[646]\tvalidation_0-rmsle:0.19802\tvalidation_1-rmsle:0.27707\n",
      "[647]\tvalidation_0-rmsle:0.19801\tvalidation_1-rmsle:0.27706\n",
      "[648]\tvalidation_0-rmsle:0.19793\tvalidation_1-rmsle:0.27710\n",
      "[649]\tvalidation_0-rmsle:0.19789\tvalidation_1-rmsle:0.27707\n",
      "[650]\tvalidation_0-rmsle:0.19785\tvalidation_1-rmsle:0.27706\n",
      "[651]\tvalidation_0-rmsle:0.19783\tvalidation_1-rmsle:0.27705\n",
      "[652]\tvalidation_0-rmsle:0.19777\tvalidation_1-rmsle:0.27705\n",
      "[653]\tvalidation_0-rmsle:0.19776\tvalidation_1-rmsle:0.27704\n",
      "[654]\tvalidation_0-rmsle:0.19773\tvalidation_1-rmsle:0.27702\n",
      "[655]\tvalidation_0-rmsle:0.19768\tvalidation_1-rmsle:0.27700\n",
      "[656]\tvalidation_0-rmsle:0.19767\tvalidation_1-rmsle:0.27699\n",
      "[657]\tvalidation_0-rmsle:0.19749\tvalidation_1-rmsle:0.27703\n",
      "Stopping. Best iteration:\n",
      "[557]\tvalidation_0-rmsle:0.20397\tvalidation_1-rmsle:0.27669\n",
      "\n"
     ]
    },
    {
     "data": {
      "text/plain": [
       "XGBRegressor(base_score=0.5, booster='gbtree', colsample_bylevel=1,\n",
       "             colsample_bynode=1, colsample_bytree=0.8, eta=0.01, gamma=0,\n",
       "             gpu_id=-1, importance_type='gain', interaction_constraints=None,\n",
       "             learning_rate=0.00999999978, max_delta_step=0, max_depth=8,\n",
       "             min_child_weight=1, missing=nan, monotone_constraints=None,\n",
       "             n_estimators=10000, n_jobs=-1, num_parallel_tree=1,\n",
       "             random_state=42, reg_alpha=1, reg_lambda=1, scale_pos_weight=1,\n",
       "             seed=42, subsample=0.8, tree_method=None,\n",
       "             validate_parameters=False, verbosity=None)"
      ]
     },
     "execution_count": 223,
     "metadata": {},
     "output_type": "execute_result"
    }
   ],
   "source": [
    "# MODEL BUILDING\n",
    "model = xgb.XGBRegressor(\n",
    "    max_depth=8,\n",
    "    booster = \"gbtree\",\n",
    "    n_estimators=10000, \n",
    "    colsample_bytree=0.8, \n",
    "    subsample=0.8, \n",
    "    eta=0.01,\n",
    "    seed=42,\n",
    "    reg_alpha=1,\n",
    "    reg_lambda=1,\n",
    "    objective='reg:squarederror',\n",
    "    n_jobs=-1)\n",
    "\n",
    "model.fit(\n",
    "    x_train, \n",
    "    y_train, \n",
    "    eval_metric=\"rmsle\", \n",
    "    eval_set=[(x_train, y_train), (x_val, y_val)], \n",
    "    verbose=True, \n",
    "    early_stopping_rounds = 100)"
   ]
  },
  {
   "cell_type": "code",
   "execution_count": 224,
   "metadata": {},
   "outputs": [],
   "source": [
    "#PREDICTING ON VALIDATION DATA\n",
    "pred=model.predict(x_val)"
   ]
  },
  {
   "cell_type": "code",
   "execution_count": 225,
   "metadata": {},
   "outputs": [
    {
     "data": {
      "text/plain": [
       "76.55600587440037"
      ]
     },
     "execution_count": 225,
     "metadata": {},
     "output_type": "execute_result"
    }
   ],
   "source": [
    "# EVALUATION METRIC FOR VALIDATION DATA\n",
    "(mean_squared_log_error(y_val,pred))*1000"
   ]
  },
  {
   "cell_type": "code",
   "execution_count": 226,
   "metadata": {},
   "outputs": [
    {
     "data": {
      "text/plain": [
       "<matplotlib.axes._subplots.AxesSubplot at 0x1fdddc1d308>"
      ]
     },
     "execution_count": 226,
     "metadata": {},
     "output_type": "execute_result"
    },
    {
     "data": {
      "image/png": "[encoded data removed]",
      "text/plain": [
       "<Figure size 720x1008 with 1 Axes>"
      ]
     },
     "metadata": {
      "needs_background": "light"
     },
     "output_type": "display_data"
    }
   ],
   "source": [
    "# PLOTTING FEATURE IMPORTANCES\n",
    "def plot_features(booster, figsize):    \n",
    "    fig, ax = plt.subplots(1,1,figsize=figsize)\n",
    "    return plot_importance(booster=booster, ax=ax)\n",
    "plot_features(model, (10,14))"
   ]
  },
  {
   "cell_type": "code",
   "execution_count": 227,
   "metadata": {},
   "outputs": [
    {
     "name": "stderr",
     "output_type": "stream",
     "text": [
      "C:\\Users\\kulka\\anaconda3\\lib\\site-packages\\ipykernel_launcher.py:2: SettingWithCopyWarning: \n",
      "A value is trying to be set on a copy of a slice from a DataFrame.\n",
      "Try using .loc[row_indexer,col_indexer] = value instead\n",
      "\n",
      "See the caveats in the documentation: https://pandas.pydata.org/pandas-docs/stable/user_guide/indexing.html#returning-a-view-versus-a-copy\n",
      "  \n"
     ]
    }
   ],
   "source": [
    "# PREDICTING ON THE TESTING DATASET AND CREATING SUBMISSION FILE\n",
    "Submission['Sales'] = model.predict(test)\n",
    "Submission.to_csv(r\"C:\\Users\\kulka\\Desktop\\AV_Hackathon_Codes\\Jobathon_Sep\\Submissions\\Submission_25.csv\",index=None)"
   ]
  },
  {
   "cell_type": "code",
   "execution_count": 228,
   "metadata": {},
   "outputs": [
    {
     "data": {
      "text/html": [
       "<div>\n",
       "<style scoped>\n",
       "    .dataframe tbody tr th:only-of-type {\n",
       "        vertical-align: middle;\n",
       "    }\n",
       "\n",
       "    .dataframe tbody tr th {\n",
       "        vertical-align: top;\n",
       "    }\n",
       "\n",
       "    .dataframe thead th {\n",
       "        text-align: right;\n",
       "    }\n",
       "</style>\n",
       "<table border=\"1\" class=\"dataframe\">\n",
       "  <thead>\n",
       "    <tr style=\"text-align: right;\">\n",
       "      <th></th>\n",
       "      <th>ID</th>\n",
       "      <th>Sales</th>\n",
       "    </tr>\n",
       "  </thead>\n",
       "  <tbody>\n",
       "    <tr>\n",
       "      <th>0</th>\n",
       "      <td>T1188341</td>\n",
       "      <td>61034.945312</td>\n",
       "    </tr>\n",
       "    <tr>\n",
       "      <th>1</th>\n",
       "      <td>T1188342</td>\n",
       "      <td>39314.050781</td>\n",
       "    </tr>\n",
       "    <tr>\n",
       "      <th>2</th>\n",
       "      <td>T1188343</td>\n",
       "      <td>77672.632812</td>\n",
       "    </tr>\n",
       "    <tr>\n",
       "      <th>3</th>\n",
       "      <td>T1188344</td>\n",
       "      <td>40455.503906</td>\n",
       "    </tr>\n",
       "    <tr>\n",
       "      <th>4</th>\n",
       "      <td>T1188345</td>\n",
       "      <td>41040.785156</td>\n",
       "    </tr>\n",
       "  </tbody>\n",
       "</table>\n",
       "</div>"
      ],
      "text/plain": [
       "         ID         Sales\n",
       "0  T1188341  61034.945312\n",
       "1  T1188342  39314.050781\n",
       "2  T1188343  77672.632812\n",
       "3  T1188344  40455.503906\n",
       "4  T1188345  41040.785156"
      ]
     },
     "execution_count": 228,
     "metadata": {},
     "output_type": "execute_result"
    }
   ],
   "source": [
    "Submission.head()"
   ]
  },
  {
   "cell_type": "code",
   "execution_count": null,
   "metadata": {},
   "outputs": [],
   "source": [
    "# Public LB Score: 208.277653270504"
   ]
  },
  {
   "cell_type": "code",
   "execution_count": null,
   "metadata": {},
   "outputs": [],
   "source": []
  },
  {
   "cell_type": "code",
   "execution_count": null,
   "metadata": {},
   "outputs": [],
   "source": []
  },
  {
   "cell_type": "code",
   "execution_count": null,
   "metadata": {},
   "outputs": [],
   "source": []
  },
  {
   "cell_type": "code",
   "execution_count": null,
   "metadata": {},
   "outputs": [],
   "source": []
  },
  {
   "cell_type": "code",
   "execution_count": null,
   "metadata": {},
   "outputs": [],
   "source": []
  },
  {
   "cell_type": "code",
   "execution_count": null,
   "metadata": {},
   "outputs": [],
   "source": []
  }
 ],
 "metadata": {
  "kernelspec": {
   "display_name": "Python 3",
   "language": "python",
   "name": "python3"
  },
  "language_info": {
   "codemirror_mode": {
    "name": "ipython",
    "version": 3
   },
   "file_extension": ".py",
   "mimetype": "text/x-python",
   "name": "python",
   "nbconvert_exporter": "python",
   "pygments_lexer": "ipython3",
   "version": "3.7.6"
  }
 },
 "nbformat": 4,
 "nbformat_minor": 4
}
